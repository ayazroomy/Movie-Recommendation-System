{
  "nbformat": 4,
  "nbformat_minor": 0,
  "metadata": {
    "colab": {
      "provenance": [],
      "gpuType": "T4"
    },
    "kernelspec": {
      "name": "python3",
      "display_name": "Python 3"
    },
    "language_info": {
      "name": "python"
    },
    "accelerator": "GPU"
  },
  "cells": [
    {
      "cell_type": "markdown",
      "source": [
        "# **Gen AI Movie Recommender System:**"
      ],
      "metadata": {
        "id": "Lv8VxiZrK-13"
      }
    },
    {
      "cell_type": "markdown",
      "source": [
        "### **Problem Statement:**\n",
        "\n",
        "Given a Movies Dataset which contains around 5000 movies details. we are building a Movie Recommender System Chatbot which will recommend list of movies name based on there user requirements such as actorName, genere, language etc."
      ],
      "metadata": {
        "id": "ZZYkjJ9_Okqp"
      }
    },
    {
      "cell_type": "markdown",
      "source": [
        "## Part 1: Setting up the Dataset"
      ],
      "metadata": {
        "id": "FZlIsTv7TOOO"
      }
    },
    {
      "cell_type": "markdown",
      "source": [
        "The movie dataset has lot of columns but we are focusing only on few set of columns which will help us to build the chatbot and provide user the respective details:\n",
        "Those columns are :\n",
        "**director_name ,genres, actor_name, title_year,imdb_score,movie_title,language,country**  "
      ],
      "metadata": {
        "id": "1Vrqy77ETZzz"
      }
    },
    {
      "cell_type": "code",
      "execution_count": 1,
      "metadata": {
        "id": "HAlvkpaIF73V"
      },
      "outputs": [],
      "source": [
        "import pandas as pd"
      ]
    },
    {
      "cell_type": "code",
      "source": [
        "movie_data = pd.read_csv('movie_metadata.csv')"
      ],
      "metadata": {
        "id": "6BoyZ13iGV3z"
      },
      "execution_count": 2,
      "outputs": []
    },
    {
      "cell_type": "code",
      "source": [
        "movie_data.head()"
      ],
      "metadata": {
        "colab": {
          "base_uri": "https://localhost:8080/",
          "height": 307
        },
        "id": "355xbnDkGrIS",
        "outputId": "29165d3a-11c0-4389-ff50-92d2326d3dc1"
      },
      "execution_count": 3,
      "outputs": [
        {
          "output_type": "execute_result",
          "data": {
            "text/plain": [
              "   color      director_name  num_critic_for_reviews  duration  \\\n",
              "0  Color      James Cameron                   723.0     178.0   \n",
              "1  Color     Gore Verbinski                   302.0     169.0   \n",
              "2  Color         Sam Mendes                   602.0     148.0   \n",
              "3  Color  Christopher Nolan                   813.0     164.0   \n",
              "4    NaN        Doug Walker                     NaN       NaN   \n",
              "\n",
              "   director_facebook_likes  actor_3_facebook_likes      actor_2_name  \\\n",
              "0                      0.0                   855.0  Joel David Moore   \n",
              "1                    563.0                  1000.0     Orlando Bloom   \n",
              "2                      0.0                   161.0      Rory Kinnear   \n",
              "3                  22000.0                 23000.0    Christian Bale   \n",
              "4                    131.0                     NaN        Rob Walker   \n",
              "\n",
              "   actor_1_facebook_likes        gross                           genres  ...  \\\n",
              "0                  1000.0  760505847.0  Action|Adventure|Fantasy|Sci-Fi  ...   \n",
              "1                 40000.0  309404152.0         Action|Adventure|Fantasy  ...   \n",
              "2                 11000.0  200074175.0        Action|Adventure|Thriller  ...   \n",
              "3                 27000.0  448130642.0                  Action|Thriller  ...   \n",
              "4                   131.0          NaN                      Documentary  ...   \n",
              "\n",
              "  num_user_for_reviews language  country  content_rating       budget  \\\n",
              "0               3054.0  English      USA           PG-13  237000000.0   \n",
              "1               1238.0  English      USA           PG-13  300000000.0   \n",
              "2                994.0  English       UK           PG-13  245000000.0   \n",
              "3               2701.0  English      USA           PG-13  250000000.0   \n",
              "4                  NaN      NaN      NaN             NaN          NaN   \n",
              "\n",
              "   title_year actor_2_facebook_likes imdb_score  aspect_ratio  \\\n",
              "0      2009.0                  936.0        7.9          1.78   \n",
              "1      2007.0                 5000.0        7.1          2.35   \n",
              "2      2015.0                  393.0        6.8          2.35   \n",
              "3      2012.0                23000.0        8.5          2.35   \n",
              "4         NaN                   12.0        7.1           NaN   \n",
              "\n",
              "  movie_facebook_likes  \n",
              "0                33000  \n",
              "1                    0  \n",
              "2                85000  \n",
              "3               164000  \n",
              "4                    0  \n",
              "\n",
              "[5 rows x 28 columns]"
            ],
            "text/html": [
              "\n",
              "  <div id=\"df-97ce15a6-15ba-4ec9-bc32-a0a724f02553\" class=\"colab-df-container\">\n",
              "    <div>\n",
              "<style scoped>\n",
              "    .dataframe tbody tr th:only-of-type {\n",
              "        vertical-align: middle;\n",
              "    }\n",
              "\n",
              "    .dataframe tbody tr th {\n",
              "        vertical-align: top;\n",
              "    }\n",
              "\n",
              "    .dataframe thead th {\n",
              "        text-align: right;\n",
              "    }\n",
              "</style>\n",
              "<table border=\"1\" class=\"dataframe\">\n",
              "  <thead>\n",
              "    <tr style=\"text-align: right;\">\n",
              "      <th></th>\n",
              "      <th>color</th>\n",
              "      <th>director_name</th>\n",
              "      <th>num_critic_for_reviews</th>\n",
              "      <th>duration</th>\n",
              "      <th>director_facebook_likes</th>\n",
              "      <th>actor_3_facebook_likes</th>\n",
              "      <th>actor_2_name</th>\n",
              "      <th>actor_1_facebook_likes</th>\n",
              "      <th>gross</th>\n",
              "      <th>genres</th>\n",
              "      <th>...</th>\n",
              "      <th>num_user_for_reviews</th>\n",
              "      <th>language</th>\n",
              "      <th>country</th>\n",
              "      <th>content_rating</th>\n",
              "      <th>budget</th>\n",
              "      <th>title_year</th>\n",
              "      <th>actor_2_facebook_likes</th>\n",
              "      <th>imdb_score</th>\n",
              "      <th>aspect_ratio</th>\n",
              "      <th>movie_facebook_likes</th>\n",
              "    </tr>\n",
              "  </thead>\n",
              "  <tbody>\n",
              "    <tr>\n",
              "      <th>0</th>\n",
              "      <td>Color</td>\n",
              "      <td>James Cameron</td>\n",
              "      <td>723.0</td>\n",
              "      <td>178.0</td>\n",
              "      <td>0.0</td>\n",
              "      <td>855.0</td>\n",
              "      <td>Joel David Moore</td>\n",
              "      <td>1000.0</td>\n",
              "      <td>760505847.0</td>\n",
              "      <td>Action|Adventure|Fantasy|Sci-Fi</td>\n",
              "      <td>...</td>\n",
              "      <td>3054.0</td>\n",
              "      <td>English</td>\n",
              "      <td>USA</td>\n",
              "      <td>PG-13</td>\n",
              "      <td>237000000.0</td>\n",
              "      <td>2009.0</td>\n",
              "      <td>936.0</td>\n",
              "      <td>7.9</td>\n",
              "      <td>1.78</td>\n",
              "      <td>33000</td>\n",
              "    </tr>\n",
              "    <tr>\n",
              "      <th>1</th>\n",
              "      <td>Color</td>\n",
              "      <td>Gore Verbinski</td>\n",
              "      <td>302.0</td>\n",
              "      <td>169.0</td>\n",
              "      <td>563.0</td>\n",
              "      <td>1000.0</td>\n",
              "      <td>Orlando Bloom</td>\n",
              "      <td>40000.0</td>\n",
              "      <td>309404152.0</td>\n",
              "      <td>Action|Adventure|Fantasy</td>\n",
              "      <td>...</td>\n",
              "      <td>1238.0</td>\n",
              "      <td>English</td>\n",
              "      <td>USA</td>\n",
              "      <td>PG-13</td>\n",
              "      <td>300000000.0</td>\n",
              "      <td>2007.0</td>\n",
              "      <td>5000.0</td>\n",
              "      <td>7.1</td>\n",
              "      <td>2.35</td>\n",
              "      <td>0</td>\n",
              "    </tr>\n",
              "    <tr>\n",
              "      <th>2</th>\n",
              "      <td>Color</td>\n",
              "      <td>Sam Mendes</td>\n",
              "      <td>602.0</td>\n",
              "      <td>148.0</td>\n",
              "      <td>0.0</td>\n",
              "      <td>161.0</td>\n",
              "      <td>Rory Kinnear</td>\n",
              "      <td>11000.0</td>\n",
              "      <td>200074175.0</td>\n",
              "      <td>Action|Adventure|Thriller</td>\n",
              "      <td>...</td>\n",
              "      <td>994.0</td>\n",
              "      <td>English</td>\n",
              "      <td>UK</td>\n",
              "      <td>PG-13</td>\n",
              "      <td>245000000.0</td>\n",
              "      <td>2015.0</td>\n",
              "      <td>393.0</td>\n",
              "      <td>6.8</td>\n",
              "      <td>2.35</td>\n",
              "      <td>85000</td>\n",
              "    </tr>\n",
              "    <tr>\n",
              "      <th>3</th>\n",
              "      <td>Color</td>\n",
              "      <td>Christopher Nolan</td>\n",
              "      <td>813.0</td>\n",
              "      <td>164.0</td>\n",
              "      <td>22000.0</td>\n",
              "      <td>23000.0</td>\n",
              "      <td>Christian Bale</td>\n",
              "      <td>27000.0</td>\n",
              "      <td>448130642.0</td>\n",
              "      <td>Action|Thriller</td>\n",
              "      <td>...</td>\n",
              "      <td>2701.0</td>\n",
              "      <td>English</td>\n",
              "      <td>USA</td>\n",
              "      <td>PG-13</td>\n",
              "      <td>250000000.0</td>\n",
              "      <td>2012.0</td>\n",
              "      <td>23000.0</td>\n",
              "      <td>8.5</td>\n",
              "      <td>2.35</td>\n",
              "      <td>164000</td>\n",
              "    </tr>\n",
              "    <tr>\n",
              "      <th>4</th>\n",
              "      <td>NaN</td>\n",
              "      <td>Doug Walker</td>\n",
              "      <td>NaN</td>\n",
              "      <td>NaN</td>\n",
              "      <td>131.0</td>\n",
              "      <td>NaN</td>\n",
              "      <td>Rob Walker</td>\n",
              "      <td>131.0</td>\n",
              "      <td>NaN</td>\n",
              "      <td>Documentary</td>\n",
              "      <td>...</td>\n",
              "      <td>NaN</td>\n",
              "      <td>NaN</td>\n",
              "      <td>NaN</td>\n",
              "      <td>NaN</td>\n",
              "      <td>NaN</td>\n",
              "      <td>NaN</td>\n",
              "      <td>12.0</td>\n",
              "      <td>7.1</td>\n",
              "      <td>NaN</td>\n",
              "      <td>0</td>\n",
              "    </tr>\n",
              "  </tbody>\n",
              "</table>\n",
              "<p>5 rows × 28 columns</p>\n",
              "</div>\n",
              "    <div class=\"colab-df-buttons\">\n",
              "\n",
              "  <div class=\"colab-df-container\">\n",
              "    <button class=\"colab-df-convert\" onclick=\"convertToInteractive('df-97ce15a6-15ba-4ec9-bc32-a0a724f02553')\"\n",
              "            title=\"Convert this dataframe to an interactive table.\"\n",
              "            style=\"display:none;\">\n",
              "\n",
              "  <svg xmlns=\"http://www.w3.org/2000/svg\" height=\"24px\" viewBox=\"0 -960 960 960\">\n",
              "    <path d=\"M120-120v-720h720v720H120Zm60-500h600v-160H180v160Zm220 220h160v-160H400v160Zm0 220h160v-160H400v160ZM180-400h160v-160H180v160Zm440 0h160v-160H620v160ZM180-180h160v-160H180v160Zm440 0h160v-160H620v160Z\"/>\n",
              "  </svg>\n",
              "    </button>\n",
              "\n",
              "  <style>\n",
              "    .colab-df-container {\n",
              "      display:flex;\n",
              "      gap: 12px;\n",
              "    }\n",
              "\n",
              "    .colab-df-convert {\n",
              "      background-color: #E8F0FE;\n",
              "      border: none;\n",
              "      border-radius: 50%;\n",
              "      cursor: pointer;\n",
              "      display: none;\n",
              "      fill: #1967D2;\n",
              "      height: 32px;\n",
              "      padding: 0 0 0 0;\n",
              "      width: 32px;\n",
              "    }\n",
              "\n",
              "    .colab-df-convert:hover {\n",
              "      background-color: #E2EBFA;\n",
              "      box-shadow: 0px 1px 2px rgba(60, 64, 67, 0.3), 0px 1px 3px 1px rgba(60, 64, 67, 0.15);\n",
              "      fill: #174EA6;\n",
              "    }\n",
              "\n",
              "    .colab-df-buttons div {\n",
              "      margin-bottom: 4px;\n",
              "    }\n",
              "\n",
              "    [theme=dark] .colab-df-convert {\n",
              "      background-color: #3B4455;\n",
              "      fill: #D2E3FC;\n",
              "    }\n",
              "\n",
              "    [theme=dark] .colab-df-convert:hover {\n",
              "      background-color: #434B5C;\n",
              "      box-shadow: 0px 1px 3px 1px rgba(0, 0, 0, 0.15);\n",
              "      filter: drop-shadow(0px 1px 2px rgba(0, 0, 0, 0.3));\n",
              "      fill: #FFFFFF;\n",
              "    }\n",
              "  </style>\n",
              "\n",
              "    <script>\n",
              "      const buttonEl =\n",
              "        document.querySelector('#df-97ce15a6-15ba-4ec9-bc32-a0a724f02553 button.colab-df-convert');\n",
              "      buttonEl.style.display =\n",
              "        google.colab.kernel.accessAllowed ? 'block' : 'none';\n",
              "\n",
              "      async function convertToInteractive(key) {\n",
              "        const element = document.querySelector('#df-97ce15a6-15ba-4ec9-bc32-a0a724f02553');\n",
              "        const dataTable =\n",
              "          await google.colab.kernel.invokeFunction('convertToInteractive',\n",
              "                                                    [key], {});\n",
              "        if (!dataTable) return;\n",
              "\n",
              "        const docLinkHtml = 'Like what you see? Visit the ' +\n",
              "          '<a target=\"_blank\" href=https://colab.research.google.com/notebooks/data_table.ipynb>data table notebook</a>'\n",
              "          + ' to learn more about interactive tables.';\n",
              "        element.innerHTML = '';\n",
              "        dataTable['output_type'] = 'display_data';\n",
              "        await google.colab.output.renderOutput(dataTable, element);\n",
              "        const docLink = document.createElement('div');\n",
              "        docLink.innerHTML = docLinkHtml;\n",
              "        element.appendChild(docLink);\n",
              "      }\n",
              "    </script>\n",
              "  </div>\n",
              "\n",
              "\n",
              "    <div id=\"df-e4460e0a-7b14-4129-9ad6-3082ba354495\">\n",
              "      <button class=\"colab-df-quickchart\" onclick=\"quickchart('df-e4460e0a-7b14-4129-9ad6-3082ba354495')\"\n",
              "                title=\"Suggest charts\"\n",
              "                style=\"display:none;\">\n",
              "\n",
              "<svg xmlns=\"http://www.w3.org/2000/svg\" height=\"24px\"viewBox=\"0 0 24 24\"\n",
              "     width=\"24px\">\n",
              "    <g>\n",
              "        <path d=\"M19 3H5c-1.1 0-2 .9-2 2v14c0 1.1.9 2 2 2h14c1.1 0 2-.9 2-2V5c0-1.1-.9-2-2-2zM9 17H7v-7h2v7zm4 0h-2V7h2v10zm4 0h-2v-4h2v4z\"/>\n",
              "    </g>\n",
              "</svg>\n",
              "      </button>\n",
              "\n",
              "<style>\n",
              "  .colab-df-quickchart {\n",
              "      --bg-color: #E8F0FE;\n",
              "      --fill-color: #1967D2;\n",
              "      --hover-bg-color: #E2EBFA;\n",
              "      --hover-fill-color: #174EA6;\n",
              "      --disabled-fill-color: #AAA;\n",
              "      --disabled-bg-color: #DDD;\n",
              "  }\n",
              "\n",
              "  [theme=dark] .colab-df-quickchart {\n",
              "      --bg-color: #3B4455;\n",
              "      --fill-color: #D2E3FC;\n",
              "      --hover-bg-color: #434B5C;\n",
              "      --hover-fill-color: #FFFFFF;\n",
              "      --disabled-bg-color: #3B4455;\n",
              "      --disabled-fill-color: #666;\n",
              "  }\n",
              "\n",
              "  .colab-df-quickchart {\n",
              "    background-color: var(--bg-color);\n",
              "    border: none;\n",
              "    border-radius: 50%;\n",
              "    cursor: pointer;\n",
              "    display: none;\n",
              "    fill: var(--fill-color);\n",
              "    height: 32px;\n",
              "    padding: 0;\n",
              "    width: 32px;\n",
              "  }\n",
              "\n",
              "  .colab-df-quickchart:hover {\n",
              "    background-color: var(--hover-bg-color);\n",
              "    box-shadow: 0 1px 2px rgba(60, 64, 67, 0.3), 0 1px 3px 1px rgba(60, 64, 67, 0.15);\n",
              "    fill: var(--button-hover-fill-color);\n",
              "  }\n",
              "\n",
              "  .colab-df-quickchart-complete:disabled,\n",
              "  .colab-df-quickchart-complete:disabled:hover {\n",
              "    background-color: var(--disabled-bg-color);\n",
              "    fill: var(--disabled-fill-color);\n",
              "    box-shadow: none;\n",
              "  }\n",
              "\n",
              "  .colab-df-spinner {\n",
              "    border: 2px solid var(--fill-color);\n",
              "    border-color: transparent;\n",
              "    border-bottom-color: var(--fill-color);\n",
              "    animation:\n",
              "      spin 1s steps(1) infinite;\n",
              "  }\n",
              "\n",
              "  @keyframes spin {\n",
              "    0% {\n",
              "      border-color: transparent;\n",
              "      border-bottom-color: var(--fill-color);\n",
              "      border-left-color: var(--fill-color);\n",
              "    }\n",
              "    20% {\n",
              "      border-color: transparent;\n",
              "      border-left-color: var(--fill-color);\n",
              "      border-top-color: var(--fill-color);\n",
              "    }\n",
              "    30% {\n",
              "      border-color: transparent;\n",
              "      border-left-color: var(--fill-color);\n",
              "      border-top-color: var(--fill-color);\n",
              "      border-right-color: var(--fill-color);\n",
              "    }\n",
              "    40% {\n",
              "      border-color: transparent;\n",
              "      border-right-color: var(--fill-color);\n",
              "      border-top-color: var(--fill-color);\n",
              "    }\n",
              "    60% {\n",
              "      border-color: transparent;\n",
              "      border-right-color: var(--fill-color);\n",
              "    }\n",
              "    80% {\n",
              "      border-color: transparent;\n",
              "      border-right-color: var(--fill-color);\n",
              "      border-bottom-color: var(--fill-color);\n",
              "    }\n",
              "    90% {\n",
              "      border-color: transparent;\n",
              "      border-bottom-color: var(--fill-color);\n",
              "    }\n",
              "  }\n",
              "</style>\n",
              "\n",
              "      <script>\n",
              "        async function quickchart(key) {\n",
              "          const quickchartButtonEl =\n",
              "            document.querySelector('#' + key + ' button');\n",
              "          quickchartButtonEl.disabled = true;  // To prevent multiple clicks.\n",
              "          quickchartButtonEl.classList.add('colab-df-spinner');\n",
              "          try {\n",
              "            const charts = await google.colab.kernel.invokeFunction(\n",
              "                'suggestCharts', [key], {});\n",
              "          } catch (error) {\n",
              "            console.error('Error during call to suggestCharts:', error);\n",
              "          }\n",
              "          quickchartButtonEl.classList.remove('colab-df-spinner');\n",
              "          quickchartButtonEl.classList.add('colab-df-quickchart-complete');\n",
              "        }\n",
              "        (() => {\n",
              "          let quickchartButtonEl =\n",
              "            document.querySelector('#df-e4460e0a-7b14-4129-9ad6-3082ba354495 button');\n",
              "          quickchartButtonEl.style.display =\n",
              "            google.colab.kernel.accessAllowed ? 'block' : 'none';\n",
              "        })();\n",
              "      </script>\n",
              "    </div>\n",
              "\n",
              "    </div>\n",
              "  </div>\n"
            ],
            "application/vnd.google.colaboratory.intrinsic+json": {
              "type": "dataframe",
              "variable_name": "movie_data"
            }
          },
          "metadata": {},
          "execution_count": 3
        }
      ]
    },
    {
      "cell_type": "code",
      "source": [
        "movie_data.columns"
      ],
      "metadata": {
        "colab": {
          "base_uri": "https://localhost:8080/"
        },
        "id": "BBq5wVgSGuWa",
        "outputId": "5c796e18-6962-44bf-b9e5-1dd480171e72"
      },
      "execution_count": 4,
      "outputs": [
        {
          "output_type": "execute_result",
          "data": {
            "text/plain": [
              "Index(['color', 'director_name', 'num_critic_for_reviews', 'duration',\n",
              "       'director_facebook_likes', 'actor_3_facebook_likes', 'actor_2_name',\n",
              "       'actor_1_facebook_likes', 'gross', 'genres', 'actor_1_name',\n",
              "       'movie_title', 'num_voted_users', 'cast_total_facebook_likes',\n",
              "       'actor_3_name', 'facenumber_in_poster', 'plot_keywords',\n",
              "       'movie_imdb_link', 'num_user_for_reviews', 'language', 'country',\n",
              "       'content_rating', 'budget', 'title_year', 'actor_2_facebook_likes',\n",
              "       'imdb_score', 'aspect_ratio', 'movie_facebook_likes'],\n",
              "      dtype='object')"
            ]
          },
          "metadata": {},
          "execution_count": 4
        }
      ]
    },
    {
      "cell_type": "code",
      "source": [
        "movies_details = movie_data[['director_name','genres','actor_1_name','title_year','imdb_score','movie_title','language','country']]\n",
        "movies_details.head()\n"
      ],
      "metadata": {
        "colab": {
          "base_uri": "https://localhost:8080/",
          "height": 206
        },
        "id": "E0-GWLw8GyHY",
        "outputId": "4b4584da-f063-42e4-e0bc-4edeb09090f2"
      },
      "execution_count": 5,
      "outputs": [
        {
          "output_type": "execute_result",
          "data": {
            "text/plain": [
              "       director_name                           genres     actor_1_name  \\\n",
              "0      James Cameron  Action|Adventure|Fantasy|Sci-Fi      CCH Pounder   \n",
              "1     Gore Verbinski         Action|Adventure|Fantasy      Johnny Depp   \n",
              "2         Sam Mendes        Action|Adventure|Thriller  Christoph Waltz   \n",
              "3  Christopher Nolan                  Action|Thriller        Tom Hardy   \n",
              "4        Doug Walker                      Documentary      Doug Walker   \n",
              "\n",
              "   title_year  imdb_score                                        movie_title  \\\n",
              "0      2009.0         7.9                                            Avatar    \n",
              "1      2007.0         7.1          Pirates of the Caribbean: At World's End    \n",
              "2      2015.0         6.8                                           Spectre    \n",
              "3      2012.0         8.5                             The Dark Knight Rises    \n",
              "4         NaN         7.1  Star Wars: Episode VII - The Force Awakens    ...   \n",
              "\n",
              "  language country  \n",
              "0  English     USA  \n",
              "1  English     USA  \n",
              "2  English      UK  \n",
              "3  English     USA  \n",
              "4      NaN     NaN  "
            ],
            "text/html": [
              "\n",
              "  <div id=\"df-cccb9245-40ad-4d14-8457-034ddda84412\" class=\"colab-df-container\">\n",
              "    <div>\n",
              "<style scoped>\n",
              "    .dataframe tbody tr th:only-of-type {\n",
              "        vertical-align: middle;\n",
              "    }\n",
              "\n",
              "    .dataframe tbody tr th {\n",
              "        vertical-align: top;\n",
              "    }\n",
              "\n",
              "    .dataframe thead th {\n",
              "        text-align: right;\n",
              "    }\n",
              "</style>\n",
              "<table border=\"1\" class=\"dataframe\">\n",
              "  <thead>\n",
              "    <tr style=\"text-align: right;\">\n",
              "      <th></th>\n",
              "      <th>director_name</th>\n",
              "      <th>genres</th>\n",
              "      <th>actor_1_name</th>\n",
              "      <th>title_year</th>\n",
              "      <th>imdb_score</th>\n",
              "      <th>movie_title</th>\n",
              "      <th>language</th>\n",
              "      <th>country</th>\n",
              "    </tr>\n",
              "  </thead>\n",
              "  <tbody>\n",
              "    <tr>\n",
              "      <th>0</th>\n",
              "      <td>James Cameron</td>\n",
              "      <td>Action|Adventure|Fantasy|Sci-Fi</td>\n",
              "      <td>CCH Pounder</td>\n",
              "      <td>2009.0</td>\n",
              "      <td>7.9</td>\n",
              "      <td>Avatar</td>\n",
              "      <td>English</td>\n",
              "      <td>USA</td>\n",
              "    </tr>\n",
              "    <tr>\n",
              "      <th>1</th>\n",
              "      <td>Gore Verbinski</td>\n",
              "      <td>Action|Adventure|Fantasy</td>\n",
              "      <td>Johnny Depp</td>\n",
              "      <td>2007.0</td>\n",
              "      <td>7.1</td>\n",
              "      <td>Pirates of the Caribbean: At World's End</td>\n",
              "      <td>English</td>\n",
              "      <td>USA</td>\n",
              "    </tr>\n",
              "    <tr>\n",
              "      <th>2</th>\n",
              "      <td>Sam Mendes</td>\n",
              "      <td>Action|Adventure|Thriller</td>\n",
              "      <td>Christoph Waltz</td>\n",
              "      <td>2015.0</td>\n",
              "      <td>6.8</td>\n",
              "      <td>Spectre</td>\n",
              "      <td>English</td>\n",
              "      <td>UK</td>\n",
              "    </tr>\n",
              "    <tr>\n",
              "      <th>3</th>\n",
              "      <td>Christopher Nolan</td>\n",
              "      <td>Action|Thriller</td>\n",
              "      <td>Tom Hardy</td>\n",
              "      <td>2012.0</td>\n",
              "      <td>8.5</td>\n",
              "      <td>The Dark Knight Rises</td>\n",
              "      <td>English</td>\n",
              "      <td>USA</td>\n",
              "    </tr>\n",
              "    <tr>\n",
              "      <th>4</th>\n",
              "      <td>Doug Walker</td>\n",
              "      <td>Documentary</td>\n",
              "      <td>Doug Walker</td>\n",
              "      <td>NaN</td>\n",
              "      <td>7.1</td>\n",
              "      <td>Star Wars: Episode VII - The Force Awakens    ...</td>\n",
              "      <td>NaN</td>\n",
              "      <td>NaN</td>\n",
              "    </tr>\n",
              "  </tbody>\n",
              "</table>\n",
              "</div>\n",
              "    <div class=\"colab-df-buttons\">\n",
              "\n",
              "  <div class=\"colab-df-container\">\n",
              "    <button class=\"colab-df-convert\" onclick=\"convertToInteractive('df-cccb9245-40ad-4d14-8457-034ddda84412')\"\n",
              "            title=\"Convert this dataframe to an interactive table.\"\n",
              "            style=\"display:none;\">\n",
              "\n",
              "  <svg xmlns=\"http://www.w3.org/2000/svg\" height=\"24px\" viewBox=\"0 -960 960 960\">\n",
              "    <path d=\"M120-120v-720h720v720H120Zm60-500h600v-160H180v160Zm220 220h160v-160H400v160Zm0 220h160v-160H400v160ZM180-400h160v-160H180v160Zm440 0h160v-160H620v160ZM180-180h160v-160H180v160Zm440 0h160v-160H620v160Z\"/>\n",
              "  </svg>\n",
              "    </button>\n",
              "\n",
              "  <style>\n",
              "    .colab-df-container {\n",
              "      display:flex;\n",
              "      gap: 12px;\n",
              "    }\n",
              "\n",
              "    .colab-df-convert {\n",
              "      background-color: #E8F0FE;\n",
              "      border: none;\n",
              "      border-radius: 50%;\n",
              "      cursor: pointer;\n",
              "      display: none;\n",
              "      fill: #1967D2;\n",
              "      height: 32px;\n",
              "      padding: 0 0 0 0;\n",
              "      width: 32px;\n",
              "    }\n",
              "\n",
              "    .colab-df-convert:hover {\n",
              "      background-color: #E2EBFA;\n",
              "      box-shadow: 0px 1px 2px rgba(60, 64, 67, 0.3), 0px 1px 3px 1px rgba(60, 64, 67, 0.15);\n",
              "      fill: #174EA6;\n",
              "    }\n",
              "\n",
              "    .colab-df-buttons div {\n",
              "      margin-bottom: 4px;\n",
              "    }\n",
              "\n",
              "    [theme=dark] .colab-df-convert {\n",
              "      background-color: #3B4455;\n",
              "      fill: #D2E3FC;\n",
              "    }\n",
              "\n",
              "    [theme=dark] .colab-df-convert:hover {\n",
              "      background-color: #434B5C;\n",
              "      box-shadow: 0px 1px 3px 1px rgba(0, 0, 0, 0.15);\n",
              "      filter: drop-shadow(0px 1px 2px rgba(0, 0, 0, 0.3));\n",
              "      fill: #FFFFFF;\n",
              "    }\n",
              "  </style>\n",
              "\n",
              "    <script>\n",
              "      const buttonEl =\n",
              "        document.querySelector('#df-cccb9245-40ad-4d14-8457-034ddda84412 button.colab-df-convert');\n",
              "      buttonEl.style.display =\n",
              "        google.colab.kernel.accessAllowed ? 'block' : 'none';\n",
              "\n",
              "      async function convertToInteractive(key) {\n",
              "        const element = document.querySelector('#df-cccb9245-40ad-4d14-8457-034ddda84412');\n",
              "        const dataTable =\n",
              "          await google.colab.kernel.invokeFunction('convertToInteractive',\n",
              "                                                    [key], {});\n",
              "        if (!dataTable) return;\n",
              "\n",
              "        const docLinkHtml = 'Like what you see? Visit the ' +\n",
              "          '<a target=\"_blank\" href=https://colab.research.google.com/notebooks/data_table.ipynb>data table notebook</a>'\n",
              "          + ' to learn more about interactive tables.';\n",
              "        element.innerHTML = '';\n",
              "        dataTable['output_type'] = 'display_data';\n",
              "        await google.colab.output.renderOutput(dataTable, element);\n",
              "        const docLink = document.createElement('div');\n",
              "        docLink.innerHTML = docLinkHtml;\n",
              "        element.appendChild(docLink);\n",
              "      }\n",
              "    </script>\n",
              "  </div>\n",
              "\n",
              "\n",
              "    <div id=\"df-3f8c2f80-e82a-4573-a8e9-6bce4dca6d62\">\n",
              "      <button class=\"colab-df-quickchart\" onclick=\"quickchart('df-3f8c2f80-e82a-4573-a8e9-6bce4dca6d62')\"\n",
              "                title=\"Suggest charts\"\n",
              "                style=\"display:none;\">\n",
              "\n",
              "<svg xmlns=\"http://www.w3.org/2000/svg\" height=\"24px\"viewBox=\"0 0 24 24\"\n",
              "     width=\"24px\">\n",
              "    <g>\n",
              "        <path d=\"M19 3H5c-1.1 0-2 .9-2 2v14c0 1.1.9 2 2 2h14c1.1 0 2-.9 2-2V5c0-1.1-.9-2-2-2zM9 17H7v-7h2v7zm4 0h-2V7h2v10zm4 0h-2v-4h2v4z\"/>\n",
              "    </g>\n",
              "</svg>\n",
              "      </button>\n",
              "\n",
              "<style>\n",
              "  .colab-df-quickchart {\n",
              "      --bg-color: #E8F0FE;\n",
              "      --fill-color: #1967D2;\n",
              "      --hover-bg-color: #E2EBFA;\n",
              "      --hover-fill-color: #174EA6;\n",
              "      --disabled-fill-color: #AAA;\n",
              "      --disabled-bg-color: #DDD;\n",
              "  }\n",
              "\n",
              "  [theme=dark] .colab-df-quickchart {\n",
              "      --bg-color: #3B4455;\n",
              "      --fill-color: #D2E3FC;\n",
              "      --hover-bg-color: #434B5C;\n",
              "      --hover-fill-color: #FFFFFF;\n",
              "      --disabled-bg-color: #3B4455;\n",
              "      --disabled-fill-color: #666;\n",
              "  }\n",
              "\n",
              "  .colab-df-quickchart {\n",
              "    background-color: var(--bg-color);\n",
              "    border: none;\n",
              "    border-radius: 50%;\n",
              "    cursor: pointer;\n",
              "    display: none;\n",
              "    fill: var(--fill-color);\n",
              "    height: 32px;\n",
              "    padding: 0;\n",
              "    width: 32px;\n",
              "  }\n",
              "\n",
              "  .colab-df-quickchart:hover {\n",
              "    background-color: var(--hover-bg-color);\n",
              "    box-shadow: 0 1px 2px rgba(60, 64, 67, 0.3), 0 1px 3px 1px rgba(60, 64, 67, 0.15);\n",
              "    fill: var(--button-hover-fill-color);\n",
              "  }\n",
              "\n",
              "  .colab-df-quickchart-complete:disabled,\n",
              "  .colab-df-quickchart-complete:disabled:hover {\n",
              "    background-color: var(--disabled-bg-color);\n",
              "    fill: var(--disabled-fill-color);\n",
              "    box-shadow: none;\n",
              "  }\n",
              "\n",
              "  .colab-df-spinner {\n",
              "    border: 2px solid var(--fill-color);\n",
              "    border-color: transparent;\n",
              "    border-bottom-color: var(--fill-color);\n",
              "    animation:\n",
              "      spin 1s steps(1) infinite;\n",
              "  }\n",
              "\n",
              "  @keyframes spin {\n",
              "    0% {\n",
              "      border-color: transparent;\n",
              "      border-bottom-color: var(--fill-color);\n",
              "      border-left-color: var(--fill-color);\n",
              "    }\n",
              "    20% {\n",
              "      border-color: transparent;\n",
              "      border-left-color: var(--fill-color);\n",
              "      border-top-color: var(--fill-color);\n",
              "    }\n",
              "    30% {\n",
              "      border-color: transparent;\n",
              "      border-left-color: var(--fill-color);\n",
              "      border-top-color: var(--fill-color);\n",
              "      border-right-color: var(--fill-color);\n",
              "    }\n",
              "    40% {\n",
              "      border-color: transparent;\n",
              "      border-right-color: var(--fill-color);\n",
              "      border-top-color: var(--fill-color);\n",
              "    }\n",
              "    60% {\n",
              "      border-color: transparent;\n",
              "      border-right-color: var(--fill-color);\n",
              "    }\n",
              "    80% {\n",
              "      border-color: transparent;\n",
              "      border-right-color: var(--fill-color);\n",
              "      border-bottom-color: var(--fill-color);\n",
              "    }\n",
              "    90% {\n",
              "      border-color: transparent;\n",
              "      border-bottom-color: var(--fill-color);\n",
              "    }\n",
              "  }\n",
              "</style>\n",
              "\n",
              "      <script>\n",
              "        async function quickchart(key) {\n",
              "          const quickchartButtonEl =\n",
              "            document.querySelector('#' + key + ' button');\n",
              "          quickchartButtonEl.disabled = true;  // To prevent multiple clicks.\n",
              "          quickchartButtonEl.classList.add('colab-df-spinner');\n",
              "          try {\n",
              "            const charts = await google.colab.kernel.invokeFunction(\n",
              "                'suggestCharts', [key], {});\n",
              "          } catch (error) {\n",
              "            console.error('Error during call to suggestCharts:', error);\n",
              "          }\n",
              "          quickchartButtonEl.classList.remove('colab-df-spinner');\n",
              "          quickchartButtonEl.classList.add('colab-df-quickchart-complete');\n",
              "        }\n",
              "        (() => {\n",
              "          let quickchartButtonEl =\n",
              "            document.querySelector('#df-3f8c2f80-e82a-4573-a8e9-6bce4dca6d62 button');\n",
              "          quickchartButtonEl.style.display =\n",
              "            google.colab.kernel.accessAllowed ? 'block' : 'none';\n",
              "        })();\n",
              "      </script>\n",
              "    </div>\n",
              "\n",
              "    </div>\n",
              "  </div>\n"
            ],
            "application/vnd.google.colaboratory.intrinsic+json": {
              "type": "dataframe",
              "variable_name": "movies_details",
              "summary": "{\n  \"name\": \"movies_details\",\n  \"rows\": 5043,\n  \"fields\": [\n    {\n      \"column\": \"director_name\",\n      \"properties\": {\n        \"dtype\": \"category\",\n        \"num_unique_values\": 2398,\n        \"samples\": [\n          \"Jaume Collet-Serra\",\n          \"Mark Waters\",\n          \"Bob Gosse\"\n        ],\n        \"semantic_type\": \"\",\n        \"description\": \"\"\n      }\n    },\n    {\n      \"column\": \"genres\",\n      \"properties\": {\n        \"dtype\": \"category\",\n        \"num_unique_values\": 914,\n        \"samples\": [\n          \"Action|Crime|Drama|Sci-Fi|Thriller\",\n          \"Action|Crime|Drama|Mystery\",\n          \"Action|Horror|Thriller\"\n        ],\n        \"semantic_type\": \"\",\n        \"description\": \"\"\n      }\n    },\n    {\n      \"column\": \"actor_1_name\",\n      \"properties\": {\n        \"dtype\": \"category\",\n        \"num_unique_values\": 2097,\n        \"samples\": [\n          \"Tim Holmes\",\n          \"Shailene Woodley\",\n          \"Cole Hauser\"\n        ],\n        \"semantic_type\": \"\",\n        \"description\": \"\"\n      }\n    },\n    {\n      \"column\": \"title_year\",\n      \"properties\": {\n        \"dtype\": \"number\",\n        \"std\": 12.47459891927068,\n        \"min\": 1916.0,\n        \"max\": 2016.0,\n        \"num_unique_values\": 91,\n        \"samples\": [\n          1963.0,\n          1991.0,\n          1937.0\n        ],\n        \"semantic_type\": \"\",\n        \"description\": \"\"\n      }\n    },\n    {\n      \"column\": \"imdb_score\",\n      \"properties\": {\n        \"dtype\": \"number\",\n        \"std\": 1.1251158657328104,\n        \"min\": 1.6,\n        \"max\": 9.5,\n        \"num_unique_values\": 78,\n        \"samples\": [\n          4.5,\n          7.9,\n          5.5\n        ],\n        \"semantic_type\": \"\",\n        \"description\": \"\"\n      }\n    },\n    {\n      \"column\": \"movie_title\",\n      \"properties\": {\n        \"dtype\": \"string\",\n        \"num_unique_values\": 4917,\n        \"samples\": [\n          \"Slacker Uprising\\u00a0\",\n          \"A Plague So Pleasant\\u00a0\",\n          \"Clear and Present Danger\\u00a0\"\n        ],\n        \"semantic_type\": \"\",\n        \"description\": \"\"\n      }\n    },\n    {\n      \"column\": \"language\",\n      \"properties\": {\n        \"dtype\": \"category\",\n        \"num_unique_values\": 46,\n        \"samples\": [\n          \"Indonesian\",\n          \"Polish\",\n          \"Bosnian\"\n        ],\n        \"semantic_type\": \"\",\n        \"description\": \"\"\n      }\n    },\n    {\n      \"column\": \"country\",\n      \"properties\": {\n        \"dtype\": \"category\",\n        \"num_unique_values\": 65,\n        \"samples\": [\n          \"Israel\",\n          \"Dominican Republic\",\n          \"USA\"\n        ],\n        \"semantic_type\": \"\",\n        \"description\": \"\"\n      }\n    }\n  ]\n}"
            }
          },
          "metadata": {},
          "execution_count": 5
        }
      ]
    },
    {
      "cell_type": "code",
      "source": [
        "# prompt: drop the rows which has null values for title_year\n",
        "\n",
        "movies_details.dropna(subset=['title_year'], inplace=True)\n",
        "movies_details.head()"
      ],
      "metadata": {
        "colab": {
          "base_uri": "https://localhost:8080/",
          "height": 293
        },
        "id": "-9rWebLAHAZN",
        "outputId": "d18c8948-e2a7-4946-ba48-c9de1ed1d950"
      },
      "execution_count": 6,
      "outputs": [
        {
          "output_type": "stream",
          "name": "stderr",
          "text": [
            "/tmp/ipython-input-6-3660603492.py:3: SettingWithCopyWarning: \n",
            "A value is trying to be set on a copy of a slice from a DataFrame\n",
            "\n",
            "See the caveats in the documentation: https://pandas.pydata.org/pandas-docs/stable/user_guide/indexing.html#returning-a-view-versus-a-copy\n",
            "  movies_details.dropna(subset=['title_year'], inplace=True)\n"
          ]
        },
        {
          "output_type": "execute_result",
          "data": {
            "text/plain": [
              "       director_name                           genres     actor_1_name  \\\n",
              "0      James Cameron  Action|Adventure|Fantasy|Sci-Fi      CCH Pounder   \n",
              "1     Gore Verbinski         Action|Adventure|Fantasy      Johnny Depp   \n",
              "2         Sam Mendes        Action|Adventure|Thriller  Christoph Waltz   \n",
              "3  Christopher Nolan                  Action|Thriller        Tom Hardy   \n",
              "5     Andrew Stanton          Action|Adventure|Sci-Fi     Daryl Sabara   \n",
              "\n",
              "   title_year  imdb_score                                movie_title language  \\\n",
              "0      2009.0         7.9                                    Avatar   English   \n",
              "1      2007.0         7.1  Pirates of the Caribbean: At World's End   English   \n",
              "2      2015.0         6.8                                   Spectre   English   \n",
              "3      2012.0         8.5                     The Dark Knight Rises   English   \n",
              "5      2012.0         6.6                               John Carter   English   \n",
              "\n",
              "  country  \n",
              "0     USA  \n",
              "1     USA  \n",
              "2      UK  \n",
              "3     USA  \n",
              "5     USA  "
            ],
            "text/html": [
              "\n",
              "  <div id=\"df-b2160958-41e1-487d-a0cf-c81c66589df8\" class=\"colab-df-container\">\n",
              "    <div>\n",
              "<style scoped>\n",
              "    .dataframe tbody tr th:only-of-type {\n",
              "        vertical-align: middle;\n",
              "    }\n",
              "\n",
              "    .dataframe tbody tr th {\n",
              "        vertical-align: top;\n",
              "    }\n",
              "\n",
              "    .dataframe thead th {\n",
              "        text-align: right;\n",
              "    }\n",
              "</style>\n",
              "<table border=\"1\" class=\"dataframe\">\n",
              "  <thead>\n",
              "    <tr style=\"text-align: right;\">\n",
              "      <th></th>\n",
              "      <th>director_name</th>\n",
              "      <th>genres</th>\n",
              "      <th>actor_1_name</th>\n",
              "      <th>title_year</th>\n",
              "      <th>imdb_score</th>\n",
              "      <th>movie_title</th>\n",
              "      <th>language</th>\n",
              "      <th>country</th>\n",
              "    </tr>\n",
              "  </thead>\n",
              "  <tbody>\n",
              "    <tr>\n",
              "      <th>0</th>\n",
              "      <td>James Cameron</td>\n",
              "      <td>Action|Adventure|Fantasy|Sci-Fi</td>\n",
              "      <td>CCH Pounder</td>\n",
              "      <td>2009.0</td>\n",
              "      <td>7.9</td>\n",
              "      <td>Avatar</td>\n",
              "      <td>English</td>\n",
              "      <td>USA</td>\n",
              "    </tr>\n",
              "    <tr>\n",
              "      <th>1</th>\n",
              "      <td>Gore Verbinski</td>\n",
              "      <td>Action|Adventure|Fantasy</td>\n",
              "      <td>Johnny Depp</td>\n",
              "      <td>2007.0</td>\n",
              "      <td>7.1</td>\n",
              "      <td>Pirates of the Caribbean: At World's End</td>\n",
              "      <td>English</td>\n",
              "      <td>USA</td>\n",
              "    </tr>\n",
              "    <tr>\n",
              "      <th>2</th>\n",
              "      <td>Sam Mendes</td>\n",
              "      <td>Action|Adventure|Thriller</td>\n",
              "      <td>Christoph Waltz</td>\n",
              "      <td>2015.0</td>\n",
              "      <td>6.8</td>\n",
              "      <td>Spectre</td>\n",
              "      <td>English</td>\n",
              "      <td>UK</td>\n",
              "    </tr>\n",
              "    <tr>\n",
              "      <th>3</th>\n",
              "      <td>Christopher Nolan</td>\n",
              "      <td>Action|Thriller</td>\n",
              "      <td>Tom Hardy</td>\n",
              "      <td>2012.0</td>\n",
              "      <td>8.5</td>\n",
              "      <td>The Dark Knight Rises</td>\n",
              "      <td>English</td>\n",
              "      <td>USA</td>\n",
              "    </tr>\n",
              "    <tr>\n",
              "      <th>5</th>\n",
              "      <td>Andrew Stanton</td>\n",
              "      <td>Action|Adventure|Sci-Fi</td>\n",
              "      <td>Daryl Sabara</td>\n",
              "      <td>2012.0</td>\n",
              "      <td>6.6</td>\n",
              "      <td>John Carter</td>\n",
              "      <td>English</td>\n",
              "      <td>USA</td>\n",
              "    </tr>\n",
              "  </tbody>\n",
              "</table>\n",
              "</div>\n",
              "    <div class=\"colab-df-buttons\">\n",
              "\n",
              "  <div class=\"colab-df-container\">\n",
              "    <button class=\"colab-df-convert\" onclick=\"convertToInteractive('df-b2160958-41e1-487d-a0cf-c81c66589df8')\"\n",
              "            title=\"Convert this dataframe to an interactive table.\"\n",
              "            style=\"display:none;\">\n",
              "\n",
              "  <svg xmlns=\"http://www.w3.org/2000/svg\" height=\"24px\" viewBox=\"0 -960 960 960\">\n",
              "    <path d=\"M120-120v-720h720v720H120Zm60-500h600v-160H180v160Zm220 220h160v-160H400v160Zm0 220h160v-160H400v160ZM180-400h160v-160H180v160Zm440 0h160v-160H620v160ZM180-180h160v-160H180v160Zm440 0h160v-160H620v160Z\"/>\n",
              "  </svg>\n",
              "    </button>\n",
              "\n",
              "  <style>\n",
              "    .colab-df-container {\n",
              "      display:flex;\n",
              "      gap: 12px;\n",
              "    }\n",
              "\n",
              "    .colab-df-convert {\n",
              "      background-color: #E8F0FE;\n",
              "      border: none;\n",
              "      border-radius: 50%;\n",
              "      cursor: pointer;\n",
              "      display: none;\n",
              "      fill: #1967D2;\n",
              "      height: 32px;\n",
              "      padding: 0 0 0 0;\n",
              "      width: 32px;\n",
              "    }\n",
              "\n",
              "    .colab-df-convert:hover {\n",
              "      background-color: #E2EBFA;\n",
              "      box-shadow: 0px 1px 2px rgba(60, 64, 67, 0.3), 0px 1px 3px 1px rgba(60, 64, 67, 0.15);\n",
              "      fill: #174EA6;\n",
              "    }\n",
              "\n",
              "    .colab-df-buttons div {\n",
              "      margin-bottom: 4px;\n",
              "    }\n",
              "\n",
              "    [theme=dark] .colab-df-convert {\n",
              "      background-color: #3B4455;\n",
              "      fill: #D2E3FC;\n",
              "    }\n",
              "\n",
              "    [theme=dark] .colab-df-convert:hover {\n",
              "      background-color: #434B5C;\n",
              "      box-shadow: 0px 1px 3px 1px rgba(0, 0, 0, 0.15);\n",
              "      filter: drop-shadow(0px 1px 2px rgba(0, 0, 0, 0.3));\n",
              "      fill: #FFFFFF;\n",
              "    }\n",
              "  </style>\n",
              "\n",
              "    <script>\n",
              "      const buttonEl =\n",
              "        document.querySelector('#df-b2160958-41e1-487d-a0cf-c81c66589df8 button.colab-df-convert');\n",
              "      buttonEl.style.display =\n",
              "        google.colab.kernel.accessAllowed ? 'block' : 'none';\n",
              "\n",
              "      async function convertToInteractive(key) {\n",
              "        const element = document.querySelector('#df-b2160958-41e1-487d-a0cf-c81c66589df8');\n",
              "        const dataTable =\n",
              "          await google.colab.kernel.invokeFunction('convertToInteractive',\n",
              "                                                    [key], {});\n",
              "        if (!dataTable) return;\n",
              "\n",
              "        const docLinkHtml = 'Like what you see? Visit the ' +\n",
              "          '<a target=\"_blank\" href=https://colab.research.google.com/notebooks/data_table.ipynb>data table notebook</a>'\n",
              "          + ' to learn more about interactive tables.';\n",
              "        element.innerHTML = '';\n",
              "        dataTable['output_type'] = 'display_data';\n",
              "        await google.colab.output.renderOutput(dataTable, element);\n",
              "        const docLink = document.createElement('div');\n",
              "        docLink.innerHTML = docLinkHtml;\n",
              "        element.appendChild(docLink);\n",
              "      }\n",
              "    </script>\n",
              "  </div>\n",
              "\n",
              "\n",
              "    <div id=\"df-292f317b-1d12-48ec-aa92-d4142c44c75c\">\n",
              "      <button class=\"colab-df-quickchart\" onclick=\"quickchart('df-292f317b-1d12-48ec-aa92-d4142c44c75c')\"\n",
              "                title=\"Suggest charts\"\n",
              "                style=\"display:none;\">\n",
              "\n",
              "<svg xmlns=\"http://www.w3.org/2000/svg\" height=\"24px\"viewBox=\"0 0 24 24\"\n",
              "     width=\"24px\">\n",
              "    <g>\n",
              "        <path d=\"M19 3H5c-1.1 0-2 .9-2 2v14c0 1.1.9 2 2 2h14c1.1 0 2-.9 2-2V5c0-1.1-.9-2-2-2zM9 17H7v-7h2v7zm4 0h-2V7h2v10zm4 0h-2v-4h2v4z\"/>\n",
              "    </g>\n",
              "</svg>\n",
              "      </button>\n",
              "\n",
              "<style>\n",
              "  .colab-df-quickchart {\n",
              "      --bg-color: #E8F0FE;\n",
              "      --fill-color: #1967D2;\n",
              "      --hover-bg-color: #E2EBFA;\n",
              "      --hover-fill-color: #174EA6;\n",
              "      --disabled-fill-color: #AAA;\n",
              "      --disabled-bg-color: #DDD;\n",
              "  }\n",
              "\n",
              "  [theme=dark] .colab-df-quickchart {\n",
              "      --bg-color: #3B4455;\n",
              "      --fill-color: #D2E3FC;\n",
              "      --hover-bg-color: #434B5C;\n",
              "      --hover-fill-color: #FFFFFF;\n",
              "      --disabled-bg-color: #3B4455;\n",
              "      --disabled-fill-color: #666;\n",
              "  }\n",
              "\n",
              "  .colab-df-quickchart {\n",
              "    background-color: var(--bg-color);\n",
              "    border: none;\n",
              "    border-radius: 50%;\n",
              "    cursor: pointer;\n",
              "    display: none;\n",
              "    fill: var(--fill-color);\n",
              "    height: 32px;\n",
              "    padding: 0;\n",
              "    width: 32px;\n",
              "  }\n",
              "\n",
              "  .colab-df-quickchart:hover {\n",
              "    background-color: var(--hover-bg-color);\n",
              "    box-shadow: 0 1px 2px rgba(60, 64, 67, 0.3), 0 1px 3px 1px rgba(60, 64, 67, 0.15);\n",
              "    fill: var(--button-hover-fill-color);\n",
              "  }\n",
              "\n",
              "  .colab-df-quickchart-complete:disabled,\n",
              "  .colab-df-quickchart-complete:disabled:hover {\n",
              "    background-color: var(--disabled-bg-color);\n",
              "    fill: var(--disabled-fill-color);\n",
              "    box-shadow: none;\n",
              "  }\n",
              "\n",
              "  .colab-df-spinner {\n",
              "    border: 2px solid var(--fill-color);\n",
              "    border-color: transparent;\n",
              "    border-bottom-color: var(--fill-color);\n",
              "    animation:\n",
              "      spin 1s steps(1) infinite;\n",
              "  }\n",
              "\n",
              "  @keyframes spin {\n",
              "    0% {\n",
              "      border-color: transparent;\n",
              "      border-bottom-color: var(--fill-color);\n",
              "      border-left-color: var(--fill-color);\n",
              "    }\n",
              "    20% {\n",
              "      border-color: transparent;\n",
              "      border-left-color: var(--fill-color);\n",
              "      border-top-color: var(--fill-color);\n",
              "    }\n",
              "    30% {\n",
              "      border-color: transparent;\n",
              "      border-left-color: var(--fill-color);\n",
              "      border-top-color: var(--fill-color);\n",
              "      border-right-color: var(--fill-color);\n",
              "    }\n",
              "    40% {\n",
              "      border-color: transparent;\n",
              "      border-right-color: var(--fill-color);\n",
              "      border-top-color: var(--fill-color);\n",
              "    }\n",
              "    60% {\n",
              "      border-color: transparent;\n",
              "      border-right-color: var(--fill-color);\n",
              "    }\n",
              "    80% {\n",
              "      border-color: transparent;\n",
              "      border-right-color: var(--fill-color);\n",
              "      border-bottom-color: var(--fill-color);\n",
              "    }\n",
              "    90% {\n",
              "      border-color: transparent;\n",
              "      border-bottom-color: var(--fill-color);\n",
              "    }\n",
              "  }\n",
              "</style>\n",
              "\n",
              "      <script>\n",
              "        async function quickchart(key) {\n",
              "          const quickchartButtonEl =\n",
              "            document.querySelector('#' + key + ' button');\n",
              "          quickchartButtonEl.disabled = true;  // To prevent multiple clicks.\n",
              "          quickchartButtonEl.classList.add('colab-df-spinner');\n",
              "          try {\n",
              "            const charts = await google.colab.kernel.invokeFunction(\n",
              "                'suggestCharts', [key], {});\n",
              "          } catch (error) {\n",
              "            console.error('Error during call to suggestCharts:', error);\n",
              "          }\n",
              "          quickchartButtonEl.classList.remove('colab-df-spinner');\n",
              "          quickchartButtonEl.classList.add('colab-df-quickchart-complete');\n",
              "        }\n",
              "        (() => {\n",
              "          let quickchartButtonEl =\n",
              "            document.querySelector('#df-292f317b-1d12-48ec-aa92-d4142c44c75c button');\n",
              "          quickchartButtonEl.style.display =\n",
              "            google.colab.kernel.accessAllowed ? 'block' : 'none';\n",
              "        })();\n",
              "      </script>\n",
              "    </div>\n",
              "\n",
              "    </div>\n",
              "  </div>\n"
            ],
            "application/vnd.google.colaboratory.intrinsic+json": {
              "type": "dataframe",
              "variable_name": "movies_details",
              "summary": "{\n  \"name\": \"movies_details\",\n  \"rows\": 4935,\n  \"fields\": [\n    {\n      \"column\": \"director_name\",\n      \"properties\": {\n        \"dtype\": \"category\",\n        \"num_unique_values\": 2395,\n        \"samples\": [\n          \"James McTeigue\",\n          \"John Lee Hancock\",\n          \"Bob Gosse\"\n        ],\n        \"semantic_type\": \"\",\n        \"description\": \"\"\n      }\n    },\n    {\n      \"column\": \"genres\",\n      \"properties\": {\n        \"dtype\": \"category\",\n        \"num_unique_values\": 899,\n        \"samples\": [\n          \"Action|Comedy|Drama|Family|Thriller\",\n          \"Documentary|History|Sport\",\n          \"Documentary|Drama|War\"\n        ],\n        \"semantic_type\": \"\",\n        \"description\": \"\"\n      }\n    },\n    {\n      \"column\": \"actor_1_name\",\n      \"properties\": {\n        \"dtype\": \"category\",\n        \"num_unique_values\": 2043,\n        \"samples\": [\n          \"Sammo Kam-Bo Hung\",\n          \"Kelly Carlson\",\n          \"Jelena Jovanova\"\n        ],\n        \"semantic_type\": \"\",\n        \"description\": \"\"\n      }\n    },\n    {\n      \"column\": \"title_year\",\n      \"properties\": {\n        \"dtype\": \"number\",\n        \"std\": 12.47459891927068,\n        \"min\": 1916.0,\n        \"max\": 2016.0,\n        \"num_unique_values\": 91,\n        \"samples\": [\n          1963.0,\n          1991.0,\n          1937.0\n        ],\n        \"semantic_type\": \"\",\n        \"description\": \"\"\n      }\n    },\n    {\n      \"column\": \"imdb_score\",\n      \"properties\": {\n        \"dtype\": \"number\",\n        \"std\": 1.1146001357888544,\n        \"min\": 1.6,\n        \"max\": 9.3,\n        \"num_unique_values\": 77,\n        \"samples\": [\n          6.6,\n          8.6,\n          6.7\n        ],\n        \"semantic_type\": \"\",\n        \"description\": \"\"\n      }\n    },\n    {\n      \"column\": \"movie_title\",\n      \"properties\": {\n        \"dtype\": \"string\",\n        \"num_unique_values\": 4811,\n        \"samples\": [\n          \"The Tree of Life\\u00a0\",\n          \"Invaders from Mars\\u00a0\",\n          \"Just Like Heaven\\u00a0\"\n        ],\n        \"semantic_type\": \"\",\n        \"description\": \"\"\n      }\n    },\n    {\n      \"column\": \"language\",\n      \"properties\": {\n        \"dtype\": \"category\",\n        \"num_unique_values\": 46,\n        \"samples\": [\n          \"Indonesian\",\n          \"Hungarian\",\n          \"Portuguese\"\n        ],\n        \"semantic_type\": \"\",\n        \"description\": \"\"\n      }\n    },\n    {\n      \"column\": \"country\",\n      \"properties\": {\n        \"dtype\": \"category\",\n        \"num_unique_values\": 65,\n        \"samples\": [\n          \"Israel\",\n          \"Dominican Republic\",\n          \"USA\"\n        ],\n        \"semantic_type\": \"\",\n        \"description\": \"\"\n      }\n    }\n  ]\n}"
            }
          },
          "metadata": {},
          "execution_count": 6
        }
      ]
    },
    {
      "cell_type": "code",
      "source": [
        "movies_details.isnull().sum()"
      ],
      "metadata": {
        "colab": {
          "base_uri": "https://localhost:8080/",
          "height": 335
        },
        "id": "EP6ZSvRuIBKs",
        "outputId": "0b7813ae-b88b-4661-806d-b3e1dfd094b2"
      },
      "execution_count": 7,
      "outputs": [
        {
          "output_type": "execute_result",
          "data": {
            "text/plain": [
              "director_name     0\n",
              "genres            0\n",
              "actor_1_name      7\n",
              "title_year        0\n",
              "imdb_score        0\n",
              "movie_title       0\n",
              "language         11\n",
              "country           1\n",
              "dtype: int64"
            ],
            "text/html": [
              "<div>\n",
              "<style scoped>\n",
              "    .dataframe tbody tr th:only-of-type {\n",
              "        vertical-align: middle;\n",
              "    }\n",
              "\n",
              "    .dataframe tbody tr th {\n",
              "        vertical-align: top;\n",
              "    }\n",
              "\n",
              "    .dataframe thead th {\n",
              "        text-align: right;\n",
              "    }\n",
              "</style>\n",
              "<table border=\"1\" class=\"dataframe\">\n",
              "  <thead>\n",
              "    <tr style=\"text-align: right;\">\n",
              "      <th></th>\n",
              "      <th>0</th>\n",
              "    </tr>\n",
              "  </thead>\n",
              "  <tbody>\n",
              "    <tr>\n",
              "      <th>director_name</th>\n",
              "      <td>0</td>\n",
              "    </tr>\n",
              "    <tr>\n",
              "      <th>genres</th>\n",
              "      <td>0</td>\n",
              "    </tr>\n",
              "    <tr>\n",
              "      <th>actor_1_name</th>\n",
              "      <td>7</td>\n",
              "    </tr>\n",
              "    <tr>\n",
              "      <th>title_year</th>\n",
              "      <td>0</td>\n",
              "    </tr>\n",
              "    <tr>\n",
              "      <th>imdb_score</th>\n",
              "      <td>0</td>\n",
              "    </tr>\n",
              "    <tr>\n",
              "      <th>movie_title</th>\n",
              "      <td>0</td>\n",
              "    </tr>\n",
              "    <tr>\n",
              "      <th>language</th>\n",
              "      <td>11</td>\n",
              "    </tr>\n",
              "    <tr>\n",
              "      <th>country</th>\n",
              "      <td>1</td>\n",
              "    </tr>\n",
              "  </tbody>\n",
              "</table>\n",
              "</div><br><label><b>dtype:</b> int64</label>"
            ]
          },
          "metadata": {},
          "execution_count": 7
        }
      ]
    },
    {
      "cell_type": "code",
      "source": [
        "movies_details.dropna(subset=['language'], inplace=True)"
      ],
      "metadata": {
        "colab": {
          "base_uri": "https://localhost:8080/"
        },
        "id": "jWm14ipDIZrk",
        "outputId": "a0b84ede-5f72-425d-c334-d0eef8f8d4bb"
      },
      "execution_count": 8,
      "outputs": [
        {
          "output_type": "stream",
          "name": "stderr",
          "text": [
            "/tmp/ipython-input-8-2574243664.py:1: SettingWithCopyWarning: \n",
            "A value is trying to be set on a copy of a slice from a DataFrame\n",
            "\n",
            "See the caveats in the documentation: https://pandas.pydata.org/pandas-docs/stable/user_guide/indexing.html#returning-a-view-versus-a-copy\n",
            "  movies_details.dropna(subset=['language'], inplace=True)\n"
          ]
        }
      ]
    },
    {
      "cell_type": "markdown",
      "source": [
        "Data cleaning up:"
      ],
      "metadata": {
        "id": "D8aXD0bIUFsv"
      }
    },
    {
      "cell_type": "code",
      "source": [
        "\n",
        "movies_details.isnull().sum()"
      ],
      "metadata": {
        "colab": {
          "base_uri": "https://localhost:8080/",
          "height": 335
        },
        "id": "3iJFSB0IIl3v",
        "outputId": "111b619d-74c0-40c3-8302-690dfd1cced3"
      },
      "execution_count": 9,
      "outputs": [
        {
          "output_type": "execute_result",
          "data": {
            "text/plain": [
              "director_name    0\n",
              "genres           0\n",
              "actor_1_name     7\n",
              "title_year       0\n",
              "imdb_score       0\n",
              "movie_title      0\n",
              "language         0\n",
              "country          1\n",
              "dtype: int64"
            ],
            "text/html": [
              "<div>\n",
              "<style scoped>\n",
              "    .dataframe tbody tr th:only-of-type {\n",
              "        vertical-align: middle;\n",
              "    }\n",
              "\n",
              "    .dataframe tbody tr th {\n",
              "        vertical-align: top;\n",
              "    }\n",
              "\n",
              "    .dataframe thead th {\n",
              "        text-align: right;\n",
              "    }\n",
              "</style>\n",
              "<table border=\"1\" class=\"dataframe\">\n",
              "  <thead>\n",
              "    <tr style=\"text-align: right;\">\n",
              "      <th></th>\n",
              "      <th>0</th>\n",
              "    </tr>\n",
              "  </thead>\n",
              "  <tbody>\n",
              "    <tr>\n",
              "      <th>director_name</th>\n",
              "      <td>0</td>\n",
              "    </tr>\n",
              "    <tr>\n",
              "      <th>genres</th>\n",
              "      <td>0</td>\n",
              "    </tr>\n",
              "    <tr>\n",
              "      <th>actor_1_name</th>\n",
              "      <td>7</td>\n",
              "    </tr>\n",
              "    <tr>\n",
              "      <th>title_year</th>\n",
              "      <td>0</td>\n",
              "    </tr>\n",
              "    <tr>\n",
              "      <th>imdb_score</th>\n",
              "      <td>0</td>\n",
              "    </tr>\n",
              "    <tr>\n",
              "      <th>movie_title</th>\n",
              "      <td>0</td>\n",
              "    </tr>\n",
              "    <tr>\n",
              "      <th>language</th>\n",
              "      <td>0</td>\n",
              "    </tr>\n",
              "    <tr>\n",
              "      <th>country</th>\n",
              "      <td>1</td>\n",
              "    </tr>\n",
              "  </tbody>\n",
              "</table>\n",
              "</div><br><label><b>dtype:</b> int64</label>"
            ]
          },
          "metadata": {},
          "execution_count": 9
        }
      ]
    },
    {
      "cell_type": "code",
      "source": [
        "len(movies_details)"
      ],
      "metadata": {
        "colab": {
          "base_uri": "https://localhost:8080/"
        },
        "id": "NtJSW6caIn-Z",
        "outputId": "9fabe874-cfed-4cf3-be99-2bcf260ba7ab"
      },
      "execution_count": 10,
      "outputs": [
        {
          "output_type": "execute_result",
          "data": {
            "text/plain": [
              "4924"
            ]
          },
          "metadata": {},
          "execution_count": 10
        }
      ]
    },
    {
      "cell_type": "markdown",
      "source": [
        "renaming the actor_name column"
      ],
      "metadata": {
        "id": "ycYc-NnFUIQX"
      }
    },
    {
      "cell_type": "code",
      "source": [
        "movies_details = movies_details.rename(columns={'actor_1_name': 'actor_name'})\n",
        "movies_details.head()"
      ],
      "metadata": {
        "colab": {
          "base_uri": "https://localhost:8080/",
          "height": 206
        },
        "id": "rkHJwND7IsTG",
        "outputId": "13bc5eaf-e580-4c96-dab8-06a99b708cbe"
      },
      "execution_count": 11,
      "outputs": [
        {
          "output_type": "execute_result",
          "data": {
            "text/plain": [
              "       director_name                           genres       actor_name  \\\n",
              "0      James Cameron  Action|Adventure|Fantasy|Sci-Fi      CCH Pounder   \n",
              "1     Gore Verbinski         Action|Adventure|Fantasy      Johnny Depp   \n",
              "2         Sam Mendes        Action|Adventure|Thriller  Christoph Waltz   \n",
              "3  Christopher Nolan                  Action|Thriller        Tom Hardy   \n",
              "5     Andrew Stanton          Action|Adventure|Sci-Fi     Daryl Sabara   \n",
              "\n",
              "   title_year  imdb_score                                movie_title language  \\\n",
              "0      2009.0         7.9                                    Avatar   English   \n",
              "1      2007.0         7.1  Pirates of the Caribbean: At World's End   English   \n",
              "2      2015.0         6.8                                   Spectre   English   \n",
              "3      2012.0         8.5                     The Dark Knight Rises   English   \n",
              "5      2012.0         6.6                               John Carter   English   \n",
              "\n",
              "  country  \n",
              "0     USA  \n",
              "1     USA  \n",
              "2      UK  \n",
              "3     USA  \n",
              "5     USA  "
            ],
            "text/html": [
              "\n",
              "  <div id=\"df-dfd85236-b0cc-49c4-8015-b4ec73de9e08\" class=\"colab-df-container\">\n",
              "    <div>\n",
              "<style scoped>\n",
              "    .dataframe tbody tr th:only-of-type {\n",
              "        vertical-align: middle;\n",
              "    }\n",
              "\n",
              "    .dataframe tbody tr th {\n",
              "        vertical-align: top;\n",
              "    }\n",
              "\n",
              "    .dataframe thead th {\n",
              "        text-align: right;\n",
              "    }\n",
              "</style>\n",
              "<table border=\"1\" class=\"dataframe\">\n",
              "  <thead>\n",
              "    <tr style=\"text-align: right;\">\n",
              "      <th></th>\n",
              "      <th>director_name</th>\n",
              "      <th>genres</th>\n",
              "      <th>actor_name</th>\n",
              "      <th>title_year</th>\n",
              "      <th>imdb_score</th>\n",
              "      <th>movie_title</th>\n",
              "      <th>language</th>\n",
              "      <th>country</th>\n",
              "    </tr>\n",
              "  </thead>\n",
              "  <tbody>\n",
              "    <tr>\n",
              "      <th>0</th>\n",
              "      <td>James Cameron</td>\n",
              "      <td>Action|Adventure|Fantasy|Sci-Fi</td>\n",
              "      <td>CCH Pounder</td>\n",
              "      <td>2009.0</td>\n",
              "      <td>7.9</td>\n",
              "      <td>Avatar</td>\n",
              "      <td>English</td>\n",
              "      <td>USA</td>\n",
              "    </tr>\n",
              "    <tr>\n",
              "      <th>1</th>\n",
              "      <td>Gore Verbinski</td>\n",
              "      <td>Action|Adventure|Fantasy</td>\n",
              "      <td>Johnny Depp</td>\n",
              "      <td>2007.0</td>\n",
              "      <td>7.1</td>\n",
              "      <td>Pirates of the Caribbean: At World's End</td>\n",
              "      <td>English</td>\n",
              "      <td>USA</td>\n",
              "    </tr>\n",
              "    <tr>\n",
              "      <th>2</th>\n",
              "      <td>Sam Mendes</td>\n",
              "      <td>Action|Adventure|Thriller</td>\n",
              "      <td>Christoph Waltz</td>\n",
              "      <td>2015.0</td>\n",
              "      <td>6.8</td>\n",
              "      <td>Spectre</td>\n",
              "      <td>English</td>\n",
              "      <td>UK</td>\n",
              "    </tr>\n",
              "    <tr>\n",
              "      <th>3</th>\n",
              "      <td>Christopher Nolan</td>\n",
              "      <td>Action|Thriller</td>\n",
              "      <td>Tom Hardy</td>\n",
              "      <td>2012.0</td>\n",
              "      <td>8.5</td>\n",
              "      <td>The Dark Knight Rises</td>\n",
              "      <td>English</td>\n",
              "      <td>USA</td>\n",
              "    </tr>\n",
              "    <tr>\n",
              "      <th>5</th>\n",
              "      <td>Andrew Stanton</td>\n",
              "      <td>Action|Adventure|Sci-Fi</td>\n",
              "      <td>Daryl Sabara</td>\n",
              "      <td>2012.0</td>\n",
              "      <td>6.6</td>\n",
              "      <td>John Carter</td>\n",
              "      <td>English</td>\n",
              "      <td>USA</td>\n",
              "    </tr>\n",
              "  </tbody>\n",
              "</table>\n",
              "</div>\n",
              "    <div class=\"colab-df-buttons\">\n",
              "\n",
              "  <div class=\"colab-df-container\">\n",
              "    <button class=\"colab-df-convert\" onclick=\"convertToInteractive('df-dfd85236-b0cc-49c4-8015-b4ec73de9e08')\"\n",
              "            title=\"Convert this dataframe to an interactive table.\"\n",
              "            style=\"display:none;\">\n",
              "\n",
              "  <svg xmlns=\"http://www.w3.org/2000/svg\" height=\"24px\" viewBox=\"0 -960 960 960\">\n",
              "    <path d=\"M120-120v-720h720v720H120Zm60-500h600v-160H180v160Zm220 220h160v-160H400v160Zm0 220h160v-160H400v160ZM180-400h160v-160H180v160Zm440 0h160v-160H620v160ZM180-180h160v-160H180v160Zm440 0h160v-160H620v160Z\"/>\n",
              "  </svg>\n",
              "    </button>\n",
              "\n",
              "  <style>\n",
              "    .colab-df-container {\n",
              "      display:flex;\n",
              "      gap: 12px;\n",
              "    }\n",
              "\n",
              "    .colab-df-convert {\n",
              "      background-color: #E8F0FE;\n",
              "      border: none;\n",
              "      border-radius: 50%;\n",
              "      cursor: pointer;\n",
              "      display: none;\n",
              "      fill: #1967D2;\n",
              "      height: 32px;\n",
              "      padding: 0 0 0 0;\n",
              "      width: 32px;\n",
              "    }\n",
              "\n",
              "    .colab-df-convert:hover {\n",
              "      background-color: #E2EBFA;\n",
              "      box-shadow: 0px 1px 2px rgba(60, 64, 67, 0.3), 0px 1px 3px 1px rgba(60, 64, 67, 0.15);\n",
              "      fill: #174EA6;\n",
              "    }\n",
              "\n",
              "    .colab-df-buttons div {\n",
              "      margin-bottom: 4px;\n",
              "    }\n",
              "\n",
              "    [theme=dark] .colab-df-convert {\n",
              "      background-color: #3B4455;\n",
              "      fill: #D2E3FC;\n",
              "    }\n",
              "\n",
              "    [theme=dark] .colab-df-convert:hover {\n",
              "      background-color: #434B5C;\n",
              "      box-shadow: 0px 1px 3px 1px rgba(0, 0, 0, 0.15);\n",
              "      filter: drop-shadow(0px 1px 2px rgba(0, 0, 0, 0.3));\n",
              "      fill: #FFFFFF;\n",
              "    }\n",
              "  </style>\n",
              "\n",
              "    <script>\n",
              "      const buttonEl =\n",
              "        document.querySelector('#df-dfd85236-b0cc-49c4-8015-b4ec73de9e08 button.colab-df-convert');\n",
              "      buttonEl.style.display =\n",
              "        google.colab.kernel.accessAllowed ? 'block' : 'none';\n",
              "\n",
              "      async function convertToInteractive(key) {\n",
              "        const element = document.querySelector('#df-dfd85236-b0cc-49c4-8015-b4ec73de9e08');\n",
              "        const dataTable =\n",
              "          await google.colab.kernel.invokeFunction('convertToInteractive',\n",
              "                                                    [key], {});\n",
              "        if (!dataTable) return;\n",
              "\n",
              "        const docLinkHtml = 'Like what you see? Visit the ' +\n",
              "          '<a target=\"_blank\" href=https://colab.research.google.com/notebooks/data_table.ipynb>data table notebook</a>'\n",
              "          + ' to learn more about interactive tables.';\n",
              "        element.innerHTML = '';\n",
              "        dataTable['output_type'] = 'display_data';\n",
              "        await google.colab.output.renderOutput(dataTable, element);\n",
              "        const docLink = document.createElement('div');\n",
              "        docLink.innerHTML = docLinkHtml;\n",
              "        element.appendChild(docLink);\n",
              "      }\n",
              "    </script>\n",
              "  </div>\n",
              "\n",
              "\n",
              "    <div id=\"df-74ddad2e-3a44-4df4-92c3-69535334b32e\">\n",
              "      <button class=\"colab-df-quickchart\" onclick=\"quickchart('df-74ddad2e-3a44-4df4-92c3-69535334b32e')\"\n",
              "                title=\"Suggest charts\"\n",
              "                style=\"display:none;\">\n",
              "\n",
              "<svg xmlns=\"http://www.w3.org/2000/svg\" height=\"24px\"viewBox=\"0 0 24 24\"\n",
              "     width=\"24px\">\n",
              "    <g>\n",
              "        <path d=\"M19 3H5c-1.1 0-2 .9-2 2v14c0 1.1.9 2 2 2h14c1.1 0 2-.9 2-2V5c0-1.1-.9-2-2-2zM9 17H7v-7h2v7zm4 0h-2V7h2v10zm4 0h-2v-4h2v4z\"/>\n",
              "    </g>\n",
              "</svg>\n",
              "      </button>\n",
              "\n",
              "<style>\n",
              "  .colab-df-quickchart {\n",
              "      --bg-color: #E8F0FE;\n",
              "      --fill-color: #1967D2;\n",
              "      --hover-bg-color: #E2EBFA;\n",
              "      --hover-fill-color: #174EA6;\n",
              "      --disabled-fill-color: #AAA;\n",
              "      --disabled-bg-color: #DDD;\n",
              "  }\n",
              "\n",
              "  [theme=dark] .colab-df-quickchart {\n",
              "      --bg-color: #3B4455;\n",
              "      --fill-color: #D2E3FC;\n",
              "      --hover-bg-color: #434B5C;\n",
              "      --hover-fill-color: #FFFFFF;\n",
              "      --disabled-bg-color: #3B4455;\n",
              "      --disabled-fill-color: #666;\n",
              "  }\n",
              "\n",
              "  .colab-df-quickchart {\n",
              "    background-color: var(--bg-color);\n",
              "    border: none;\n",
              "    border-radius: 50%;\n",
              "    cursor: pointer;\n",
              "    display: none;\n",
              "    fill: var(--fill-color);\n",
              "    height: 32px;\n",
              "    padding: 0;\n",
              "    width: 32px;\n",
              "  }\n",
              "\n",
              "  .colab-df-quickchart:hover {\n",
              "    background-color: var(--hover-bg-color);\n",
              "    box-shadow: 0 1px 2px rgba(60, 64, 67, 0.3), 0 1px 3px 1px rgba(60, 64, 67, 0.15);\n",
              "    fill: var(--button-hover-fill-color);\n",
              "  }\n",
              "\n",
              "  .colab-df-quickchart-complete:disabled,\n",
              "  .colab-df-quickchart-complete:disabled:hover {\n",
              "    background-color: var(--disabled-bg-color);\n",
              "    fill: var(--disabled-fill-color);\n",
              "    box-shadow: none;\n",
              "  }\n",
              "\n",
              "  .colab-df-spinner {\n",
              "    border: 2px solid var(--fill-color);\n",
              "    border-color: transparent;\n",
              "    border-bottom-color: var(--fill-color);\n",
              "    animation:\n",
              "      spin 1s steps(1) infinite;\n",
              "  }\n",
              "\n",
              "  @keyframes spin {\n",
              "    0% {\n",
              "      border-color: transparent;\n",
              "      border-bottom-color: var(--fill-color);\n",
              "      border-left-color: var(--fill-color);\n",
              "    }\n",
              "    20% {\n",
              "      border-color: transparent;\n",
              "      border-left-color: var(--fill-color);\n",
              "      border-top-color: var(--fill-color);\n",
              "    }\n",
              "    30% {\n",
              "      border-color: transparent;\n",
              "      border-left-color: var(--fill-color);\n",
              "      border-top-color: var(--fill-color);\n",
              "      border-right-color: var(--fill-color);\n",
              "    }\n",
              "    40% {\n",
              "      border-color: transparent;\n",
              "      border-right-color: var(--fill-color);\n",
              "      border-top-color: var(--fill-color);\n",
              "    }\n",
              "    60% {\n",
              "      border-color: transparent;\n",
              "      border-right-color: var(--fill-color);\n",
              "    }\n",
              "    80% {\n",
              "      border-color: transparent;\n",
              "      border-right-color: var(--fill-color);\n",
              "      border-bottom-color: var(--fill-color);\n",
              "    }\n",
              "    90% {\n",
              "      border-color: transparent;\n",
              "      border-bottom-color: var(--fill-color);\n",
              "    }\n",
              "  }\n",
              "</style>\n",
              "\n",
              "      <script>\n",
              "        async function quickchart(key) {\n",
              "          const quickchartButtonEl =\n",
              "            document.querySelector('#' + key + ' button');\n",
              "          quickchartButtonEl.disabled = true;  // To prevent multiple clicks.\n",
              "          quickchartButtonEl.classList.add('colab-df-spinner');\n",
              "          try {\n",
              "            const charts = await google.colab.kernel.invokeFunction(\n",
              "                'suggestCharts', [key], {});\n",
              "          } catch (error) {\n",
              "            console.error('Error during call to suggestCharts:', error);\n",
              "          }\n",
              "          quickchartButtonEl.classList.remove('colab-df-spinner');\n",
              "          quickchartButtonEl.classList.add('colab-df-quickchart-complete');\n",
              "        }\n",
              "        (() => {\n",
              "          let quickchartButtonEl =\n",
              "            document.querySelector('#df-74ddad2e-3a44-4df4-92c3-69535334b32e button');\n",
              "          quickchartButtonEl.style.display =\n",
              "            google.colab.kernel.accessAllowed ? 'block' : 'none';\n",
              "        })();\n",
              "      </script>\n",
              "    </div>\n",
              "\n",
              "    </div>\n",
              "  </div>\n"
            ],
            "application/vnd.google.colaboratory.intrinsic+json": {
              "type": "dataframe",
              "variable_name": "movies_details",
              "summary": "{\n  \"name\": \"movies_details\",\n  \"rows\": 4924,\n  \"fields\": [\n    {\n      \"column\": \"director_name\",\n      \"properties\": {\n        \"dtype\": \"category\",\n        \"num_unique_values\": 2390,\n        \"samples\": [\n          \"Tuck Tucker\",\n          \"Roland Suso Richter\",\n          \"John Glen\"\n        ],\n        \"semantic_type\": \"\",\n        \"description\": \"\"\n      }\n    },\n    {\n      \"column\": \"genres\",\n      \"properties\": {\n        \"dtype\": \"category\",\n        \"num_unique_values\": 896,\n        \"samples\": [\n          \"Action|Comedy|Drama|Western\",\n          \"Adventure|Comedy|Drama|Romance|Thriller|War\",\n          \"Comedy|Drama|Family|Romance\"\n        ],\n        \"semantic_type\": \"\",\n        \"description\": \"\"\n      }\n    },\n    {\n      \"column\": \"actor_name\",\n      \"properties\": {\n        \"dtype\": \"category\",\n        \"num_unique_values\": 2033,\n        \"samples\": [\n          \"Tenzin Thuthob Tsarong\",\n          \"Clayton Snyder\",\n          \"Blair Underwood\"\n        ],\n        \"semantic_type\": \"\",\n        \"description\": \"\"\n      }\n    },\n    {\n      \"column\": \"title_year\",\n      \"properties\": {\n        \"dtype\": \"number\",\n        \"std\": 12.308241751831158,\n        \"min\": 1927.0,\n        \"max\": 2016.0,\n        \"num_unique_values\": 88,\n        \"samples\": [\n          1943.0,\n          2009.0,\n          1993.0\n        ],\n        \"semantic_type\": \"\",\n        \"description\": \"\"\n      }\n    },\n    {\n      \"column\": \"imdb_score\",\n      \"properties\": {\n        \"dtype\": \"number\",\n        \"std\": 1.1136884887736516,\n        \"min\": 1.6,\n        \"max\": 9.3,\n        \"num_unique_values\": 76,\n        \"samples\": [\n          6.6,\n          8.6,\n          6.7\n        ],\n        \"semantic_type\": \"\",\n        \"description\": \"\"\n      }\n    },\n    {\n      \"column\": \"movie_title\",\n      \"properties\": {\n        \"dtype\": \"string\",\n        \"num_unique_values\": 4800,\n        \"samples\": [\n          \"Bad Company\\u00a0\",\n          \"Veer-Zaara\\u00a0\",\n          \"Body Double\\u00a0\"\n        ],\n        \"semantic_type\": \"\",\n        \"description\": \"\"\n      }\n    },\n    {\n      \"column\": \"language\",\n      \"properties\": {\n        \"dtype\": \"category\",\n        \"num_unique_values\": 46,\n        \"samples\": [\n          \"Indonesian\",\n          \"Hungarian\",\n          \"Portuguese\"\n        ],\n        \"semantic_type\": \"\",\n        \"description\": \"\"\n      }\n    },\n    {\n      \"column\": \"country\",\n      \"properties\": {\n        \"dtype\": \"category\",\n        \"num_unique_values\": 65,\n        \"samples\": [\n          \"Israel\",\n          \"Dominican Republic\",\n          \"USA\"\n        ],\n        \"semantic_type\": \"\",\n        \"description\": \"\"\n      }\n    }\n  ]\n}"
            }
          },
          "metadata": {},
          "execution_count": 11
        }
      ]
    },
    {
      "cell_type": "code",
      "source": [
        "len(movies_details)"
      ],
      "metadata": {
        "colab": {
          "base_uri": "https://localhost:8080/"
        },
        "id": "KXx6oEflI4Ag",
        "outputId": "f9f69ba4-6c18-40d5-d791-d9a987e6abd2"
      },
      "execution_count": 12,
      "outputs": [
        {
          "output_type": "execute_result",
          "data": {
            "text/plain": [
              "4924"
            ]
          },
          "metadata": {},
          "execution_count": 12
        }
      ]
    },
    {
      "cell_type": "code",
      "source": [
        "movies_details.info()"
      ],
      "metadata": {
        "colab": {
          "base_uri": "https://localhost:8080/"
        },
        "id": "6OICYGh9I93S",
        "outputId": "d5c02400-ca83-4a55-97f7-7d84c34fb3be"
      },
      "execution_count": 13,
      "outputs": [
        {
          "output_type": "stream",
          "name": "stdout",
          "text": [
            "<class 'pandas.core.frame.DataFrame'>\n",
            "Index: 4924 entries, 0 to 5042\n",
            "Data columns (total 8 columns):\n",
            " #   Column         Non-Null Count  Dtype  \n",
            "---  ------         --------------  -----  \n",
            " 0   director_name  4924 non-null   object \n",
            " 1   genres         4924 non-null   object \n",
            " 2   actor_name     4917 non-null   object \n",
            " 3   title_year     4924 non-null   float64\n",
            " 4   imdb_score     4924 non-null   float64\n",
            " 5   movie_title    4924 non-null   object \n",
            " 6   language       4924 non-null   object \n",
            " 7   country        4923 non-null   object \n",
            "dtypes: float64(2), object(6)\n",
            "memory usage: 346.2+ KB\n"
          ]
        }
      ]
    },
    {
      "cell_type": "code",
      "source": [
        "# prompt: convert title_year column of type float to integer\n",
        "\n",
        "movies_details['title_year'] = movies_details['title_year'].astype(int)\n",
        "movies_details.info()"
      ],
      "metadata": {
        "colab": {
          "base_uri": "https://localhost:8080/"
        },
        "id": "0ae3C3M1JC1Y",
        "outputId": "e8ac3522-3034-4f6f-f5ca-65228d5d3ac6"
      },
      "execution_count": 14,
      "outputs": [
        {
          "output_type": "stream",
          "name": "stdout",
          "text": [
            "<class 'pandas.core.frame.DataFrame'>\n",
            "Index: 4924 entries, 0 to 5042\n",
            "Data columns (total 8 columns):\n",
            " #   Column         Non-Null Count  Dtype  \n",
            "---  ------         --------------  -----  \n",
            " 0   director_name  4924 non-null   object \n",
            " 1   genres         4924 non-null   object \n",
            " 2   actor_name     4917 non-null   object \n",
            " 3   title_year     4924 non-null   int64  \n",
            " 4   imdb_score     4924 non-null   float64\n",
            " 5   movie_title    4924 non-null   object \n",
            " 6   language       4924 non-null   object \n",
            " 7   country        4923 non-null   object \n",
            "dtypes: float64(1), int64(1), object(6)\n",
            "memory usage: 346.2+ KB\n"
          ]
        }
      ]
    },
    {
      "cell_type": "markdown",
      "source": [
        "## Part 2: System Design"
      ],
      "metadata": {
        "id": "NUgrGisXUPSg"
      }
    },
    {
      "cell_type": "markdown",
      "source": [
        "For Building the Movie Recommender Chatbot , we are considering few inputs from the user to extract movie details those specific inputs will be extracted in the form of json object in the end, below are those inputs:\n",
        "\n",
        "    'actor_Name':'values','movie_released_year':'number','genre:'values','language':'values','country':'values'\n",
        "  "
      ],
      "metadata": {
        "id": "AZodj9uVUV1_"
      }
    },
    {
      "cell_type": "markdown",
      "source": [
        "System Design Daigram:"
      ],
      "metadata": {
        "id": "cRKWdFnbX3GY"
      }
    },
    {
      "cell_type": "markdown",
      "source": [
        "![image.png](data:image/png;base64,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)"
      ],
      "metadata": {
        "id": "uRboHRv1XvEY"
      }
    },
    {
      "cell_type": "markdown",
      "source": [
        "`Stage 1`\n",
        "\n",
        "- Intent Clarity Layer\n",
        "- Intent Confirmation Layer\n",
        "\n",
        "`Stage 2`\n",
        "\n",
        "- Filter Movies Layer\n",
        "- Movies Extraction Layer\n",
        "\n",
        "`Stage 3`\n",
        "\n",
        "- Movies Recommendation Layer"
      ],
      "metadata": {
        "id": "mhuPobZ7X7-a"
      }
    },
    {
      "cell_type": "markdown",
      "source": [
        "##### Major functions behind the Chatbot\n",
        "\n",
        "Let's now look at a brief overview of the major functions that form the chatbot. We'll take a deep dive later\n",
        "\n",
        "\n",
        "\n",
        "- `initialize_conversation()`: This initializes the variable conversation with the system message.\n",
        "- `get_chat_completions()`: This takes the ongoing conversation as the input and returns the response by the assistant\n",
        "- `moderation_check()`: This checks if the user's or the assistant's message is inappropriate. If any of these is inappropriate, it ends the conversation.\n",
        "- `intent_confirmation_layer()`: This function takes the assistant's response and evaluates if the chatbot has captured the user's profile clearly. Specifically, this checks if the following properties for the user has been captured or not  such as actor_name , genre, language, country etc.\n",
        "- `dictionary_present()`: This function checks if the final understanding of user's profile is returned by the chatbot as a python dictionary or not. If there is a dictionary, it extracts the information as a Python dictionary."
      ],
      "metadata": {
        "id": "giLBWuktYN3m"
      }
    },
    {
      "cell_type": "markdown",
      "source": [
        "## Part 3: Implementation"
      ],
      "metadata": {
        "id": "aCfpTczVYaQF"
      }
    },
    {
      "cell_type": "markdown",
      "source": [
        "## Stage 1"
      ],
      "metadata": {
        "id": "rDWoIHDtZAWP"
      }
    },
    {
      "cell_type": "markdown",
      "source": [
        "### 3.1 - Import the libraries\n",
        "\n",
        "Let's start by importing the libraries that we'll require for this project. Following are the ones:\n",
        "- openai\n",
        "- pandas\n",
        "- os, json, ast\n",
        "\n",
        "Make sure the api key is stored in the text file `OPENAI_API_Key.txt`."
      ],
      "metadata": {
        "id": "YQHUTWwWZIVj"
      }
    },
    {
      "cell_type": "code",
      "source": [
        "import os, json, ast\n",
        "import openai\n",
        "from google.colab import userdata"
      ],
      "metadata": {
        "id": "n9HPSIbJKctd"
      },
      "execution_count": 15,
      "outputs": []
    },
    {
      "cell_type": "code",
      "source": [
        "os.environ['OPENAI_API_KEY'] = userdata.get('my-key')"
      ],
      "metadata": {
        "id": "v17CsU6lKsxl"
      },
      "execution_count": 16,
      "outputs": []
    },
    {
      "cell_type": "markdown",
      "source": [
        "### 3.2 - Implementing Intent Clarity and Intent Confirmation Layers\n",
        "\n",
        "Let's start with the first part of the implementation - building the `intent clarity` and `intent confirmation` layers. As mentioned earlier, this layer helps in identifying the user requirements and passing it on to the product matching layer. Here are the functions that we would be using for building these layers:\n",
        "\n",
        "- `initialize_conversation()`"
      ],
      "metadata": {
        "id": "sNGkIsxfZLoK"
      }
    },
    {
      "cell_type": "markdown",
      "source": [
        "### `initialize_conversation()`:\n",
        "This initializes the variable conversation with the system message. Using prompt engineering and chain of thought reasoning, the function will enable the chatbot to keep asking questions until the user requirements have been captured in a dictionary. It also includes Few Shot Prompting(sample conversation between the user and assistant) to align the model about user and assistant responses at each step."
      ],
      "metadata": {
        "id": "tQE_aXDCZTRj"
      }
    },
    {
      "cell_type": "code",
      "source": [
        "def initialize_conversation():\n",
        "    '''\n",
        "    Returns a list [{\"role\": \"system\", \"content\": system_message}]\n",
        "    '''\n",
        "\n",
        "    delimiter = \"####\"\n",
        "\n",
        "    example_user_dict = {'actor_Name': \"Value\",\n",
        "                        'movie_released_year':\"Value\",\n",
        "                        'genre': \"Value\",\n",
        "                        'language': \"Value\",\n",
        "                        'country': \"Value\",\n",
        "                        }\n",
        "\n",
        "    example_user_req = {'actor_Name': \"_\",\n",
        "                        'movie_released_year':\"_\",\n",
        "                        'genre': \"_\",\n",
        "                        'language': \"_\",\n",
        "                        'country': \"_\",\n",
        "                        }\n",
        "\n",
        "    system_message = f\"\"\"\n",
        "    You are an intelligent movie recommender expert and your goal is to provide the movies or movies list for the user.\n",
        "    You need to ask relevant questions and understand the user profile by analysing the user's responses.\n",
        "    You final objective is to fill the values for the different keys ('actor_Name','movie_released_year','genre','language','country') in the python dictionary and be confident of the values.\n",
        "    These key value pairs define the user's profile.\n",
        "    The python dictionary looks like this\n",
        "    {{'actor_Name': 'values','movie_released_year': 'values','genre': 'values','language': 'values','country': 'values'}}\n",
        "    The value for 'movie_released_year' should be a numerical value extracted from the user's response.\n",
        "    All the values in the example dictionary are only representative values.\n",
        "    {delimiter}\n",
        "    Here are some instructions around the values for the different keys. If you do not follow this, you'll be heavily penalised:\n",
        "    - The value for 'movie_released_year' should be a numerical value extracted from the user's response.\n",
        "    - Do not randomly assign values to any of the keys.\n",
        "    - The values need to be inferred from the user's response.\n",
        "    - If the user say any lanaguage movies or any country movies then fill country and language in the dictionary as 'any'.\n",
        "    - If the user gives multiple geners say for example action and horror or more values please set those values in genre field in dictionary with comma separated values.\n",
        "    {delimiter}\n",
        "\n",
        "    To fill the dictionary, you need to have the following chain of thoughts:\n",
        "    Follow the chain-of-thoughts below and only output the final updated python dictionary for the keys as described in {example_user_req}. \\n\n",
        "    {delimiter}\n",
        "    Thought 1: Ask a question to understand the user's profile and requirements. \\n\n",
        "    If their primary use for the movie recommendation is unclear. Ask followup questions to understand their needs.\n",
        "    You are trying to fill the values of all the keys {{'actor_Name','movie_released_year','genre','language','country'}} in the python dictionary by understanding the user requirements.\n",
        "    Identify the keys for which you can fill the values confidently using the understanding. \\n\n",
        "    Remember the instructions around the values for the different keys.\n",
        "    If the necessary information has been extracted, only then proceed to the next step. \\n\n",
        "    Otherwise, rephrase the question to capture their profile clearly. \\n\n",
        "\n",
        "    {delimiter}\n",
        "    Thought 2: Now, you are trying to fill the values for the rest of the keys which you couldn't in the previous step.\n",
        "    Remember the instructions around the values for the different keys.\n",
        "    Ask questions you might have for all the keys to strengthen your understanding of the user's profile.\n",
        "    If yes, move to the next Thought. If no, ask question on the keys whose values you are unsure of. \\n\n",
        "    It is a good practice to ask question with a sound logic as opposed to directly citing the key you want to understand value for.\n",
        "    {delimiter}\n",
        "\n",
        "    {delimiter}\n",
        "    Thought 3: Check if you have correctly updated the values for the different keys in the python dictionary.\n",
        "    If you are not confident about any of the values, ask clarifying questions.\n",
        "    {delimiter}\n",
        "\n",
        "    {delimiter}\n",
        "    Here is a sample conversation between the user and assistant:\n",
        "    User: \"Hi, I am Jack looking for some movie recommendations.\"\n",
        "    Assistant: \"Great! As a Movie Recommender , I can provide you great set of movies , is there any specific genre and actors movies you are looking for?\"\n",
        "    User: \"I am looking for the movies acted by Tom Cruise of action genre\"\n",
        "    Assistant: \"Thank you for providing that information. Tom Cruise has acted in some brilliant movies are you looking for any specific year movies?\"\n",
        "    User: \"Yes, can you suggest some movies of the Year 2014\"\n",
        "    Assistant: \"Thank you for the information. Are you looking for any specific Country movies which Tom worked with ,also any specific lanaguage?\"\n",
        "    User: \"English language is fine with me for any country\"\n",
        "    Assistant:\"Thats great , Let me suggest you some good set of movies of Tom of Action genre of Year 2014 of english lanaguage : {example_user_dict}\"\n",
        "    {delimiter}\n",
        "\n",
        "    Start with a short welcome message and encourage the user to share their requirements.\n",
        "    \"\"\"\n",
        "    conversation = [{\"role\": \"system\", \"content\": system_message}]\n",
        "    # conversation = system_message\n",
        "    return conversation"
      ],
      "metadata": {
        "id": "ZMfFh_-gK4nr"
      },
      "execution_count": 17,
      "outputs": []
    },
    {
      "cell_type": "code",
      "source": [
        "debug_conv = initialize_conversation()"
      ],
      "metadata": {
        "id": "AwjNHjsFPBBR"
      },
      "execution_count": 18,
      "outputs": []
    },
    {
      "cell_type": "code",
      "source": [
        "print(debug_conv[0]['content'])"
      ],
      "metadata": {
        "colab": {
          "base_uri": "https://localhost:8080/"
        },
        "id": "veVMVfHwP7Kk",
        "outputId": "bd6001d6-597a-4491-e549-5ca053ad8b75"
      },
      "execution_count": 19,
      "outputs": [
        {
          "output_type": "stream",
          "name": "stdout",
          "text": [
            "\n",
            "    You are an intelligent movie recommender expert and your goal is to provide the movies or movies list for the user.\n",
            "    You need to ask relevant questions and understand the user profile by analysing the user's responses.\n",
            "    You final objective is to fill the values for the different keys ('actor_Name','movie_released_year','genre','language','country') in the python dictionary and be confident of the values.\n",
            "    These key value pairs define the user's profile.\n",
            "    The python dictionary looks like this\n",
            "    {'actor_Name': 'values','movie_released_year': 'values','genre': 'values','language': 'values','country': 'values'}\n",
            "    The value for 'movie_released_year' should be a numerical value extracted from the user's response.\n",
            "    All the values in the example dictionary are only representative values.\n",
            "    ####\n",
            "    Here are some instructions around the values for the different keys. If you do not follow this, you'll be heavily penalised:\n",
            "    - The value for 'movie_released_year' should be a numerical value extracted from the user's response.\n",
            "    - Do not randomly assign values to any of the keys.\n",
            "    - The values need to be inferred from the user's response.\n",
            "    - If the user say any lanaguage movies or any country movies then fill country and language in the dictionary as 'any'.\n",
            "    - If the user gives multiple geners say for example action and horror or more values please set those values in genre field in dictionary with comma separated values.\n",
            "    ####\n",
            "\n",
            "    To fill the dictionary, you need to have the following chain of thoughts:\n",
            "    Follow the chain-of-thoughts below and only output the final updated python dictionary for the keys as described in {'actor_Name': '_', 'movie_released_year': '_', 'genre': '_', 'language': '_', 'country': '_'}. \n",
            "\n",
            "    ####\n",
            "    Thought 1: Ask a question to understand the user's profile and requirements. \n",
            "\n",
            "    If their primary use for the movie recommendation is unclear. Ask followup questions to understand their needs.\n",
            "    You are trying to fill the values of all the keys {'actor_Name','movie_released_year','genre','language','country'} in the python dictionary by understanding the user requirements.\n",
            "    Identify the keys for which you can fill the values confidently using the understanding. \n",
            "\n",
            "    Remember the instructions around the values for the different keys.\n",
            "    If the necessary information has been extracted, only then proceed to the next step. \n",
            "\n",
            "    Otherwise, rephrase the question to capture their profile clearly. \n",
            "\n",
            "\n",
            "    ####\n",
            "    Thought 2: Now, you are trying to fill the values for the rest of the keys which you couldn't in the previous step.\n",
            "    Remember the instructions around the values for the different keys.\n",
            "    Ask questions you might have for all the keys to strengthen your understanding of the user's profile.\n",
            "    If yes, move to the next Thought. If no, ask question on the keys whose values you are unsure of. \n",
            "\n",
            "    It is a good practice to ask question with a sound logic as opposed to directly citing the key you want to understand value for.\n",
            "    ####\n",
            "\n",
            "    ####\n",
            "    Thought 3: Check if you have correctly updated the values for the different keys in the python dictionary.\n",
            "    If you are not confident about any of the values, ask clarifying questions.\n",
            "    ####\n",
            "\n",
            "    ####\n",
            "    Here is a sample conversation between the user and assistant:\n",
            "    User: \"Hi, I am Jack looking for some movie recommendations.\"\n",
            "    Assistant: \"Great! As a Movie Recommender , I can provide you great set of movies , is there any specific genre and actors movies you are looking for?\"\n",
            "    User: \"I am looking for the movies acted by Tom Cruise of action genre\"\n",
            "    Assistant: \"Thank you for providing that information. Tom Cruise has acted in some brilliant movies are you looking for any specific year movies?\"\n",
            "    User: \"Yes, can you suggest some movies of the Year 2014\"\n",
            "    Assistant: \"Thank you for the information. Are you looking for any specific Country movies which Tom worked with ,also any specific lanaguage?\"\n",
            "    User: \"English language is fine with me for any country\"\n",
            "    Assistant:\"Thats great , Let me suggest you some good set of movies of Tom of Action genre of Year 2014 of english lanaguage : {'actor_Name': 'Value', 'movie_released_year': 'Value', 'genre': 'Value', 'language': 'Value', 'country': 'Value'}\"\n",
            "    ####\n",
            "\n",
            "    Start with a short welcome message and encourage the user to share their requirements.\n",
            "    \n"
          ]
        }
      ]
    },
    {
      "cell_type": "code",
      "source": [
        "system_message = initialize_conversation()\n",
        "print(system_message[0][\"content\"])"
      ],
      "metadata": {
        "colab": {
          "base_uri": "https://localhost:8080/"
        },
        "id": "hiSBpJHxQG1T",
        "outputId": "db5d3b72-8611-4da9-fe83-d8e4e0644560"
      },
      "execution_count": 20,
      "outputs": [
        {
          "output_type": "stream",
          "name": "stdout",
          "text": [
            "\n",
            "    You are an intelligent movie recommender expert and your goal is to provide the movies or movies list for the user.\n",
            "    You need to ask relevant questions and understand the user profile by analysing the user's responses.\n",
            "    You final objective is to fill the values for the different keys ('actor_Name','movie_released_year','genre','language','country') in the python dictionary and be confident of the values.\n",
            "    These key value pairs define the user's profile.\n",
            "    The python dictionary looks like this\n",
            "    {'actor_Name': 'values','movie_released_year': 'values','genre': 'values','language': 'values','country': 'values'}\n",
            "    The value for 'movie_released_year' should be a numerical value extracted from the user's response.\n",
            "    All the values in the example dictionary are only representative values.\n",
            "    ####\n",
            "    Here are some instructions around the values for the different keys. If you do not follow this, you'll be heavily penalised:\n",
            "    - The value for 'movie_released_year' should be a numerical value extracted from the user's response.\n",
            "    - Do not randomly assign values to any of the keys.\n",
            "    - The values need to be inferred from the user's response.\n",
            "    - If the user say any lanaguage movies or any country movies then fill country and language in the dictionary as 'any'.\n",
            "    - If the user gives multiple geners say for example action and horror or more values please set those values in genre field in dictionary with comma separated values.\n",
            "    ####\n",
            "\n",
            "    To fill the dictionary, you need to have the following chain of thoughts:\n",
            "    Follow the chain-of-thoughts below and only output the final updated python dictionary for the keys as described in {'actor_Name': '_', 'movie_released_year': '_', 'genre': '_', 'language': '_', 'country': '_'}. \n",
            "\n",
            "    ####\n",
            "    Thought 1: Ask a question to understand the user's profile and requirements. \n",
            "\n",
            "    If their primary use for the movie recommendation is unclear. Ask followup questions to understand their needs.\n",
            "    You are trying to fill the values of all the keys {'actor_Name','movie_released_year','genre','language','country'} in the python dictionary by understanding the user requirements.\n",
            "    Identify the keys for which you can fill the values confidently using the understanding. \n",
            "\n",
            "    Remember the instructions around the values for the different keys.\n",
            "    If the necessary information has been extracted, only then proceed to the next step. \n",
            "\n",
            "    Otherwise, rephrase the question to capture their profile clearly. \n",
            "\n",
            "\n",
            "    ####\n",
            "    Thought 2: Now, you are trying to fill the values for the rest of the keys which you couldn't in the previous step.\n",
            "    Remember the instructions around the values for the different keys.\n",
            "    Ask questions you might have for all the keys to strengthen your understanding of the user's profile.\n",
            "    If yes, move to the next Thought. If no, ask question on the keys whose values you are unsure of. \n",
            "\n",
            "    It is a good practice to ask question with a sound logic as opposed to directly citing the key you want to understand value for.\n",
            "    ####\n",
            "\n",
            "    ####\n",
            "    Thought 3: Check if you have correctly updated the values for the different keys in the python dictionary.\n",
            "    If you are not confident about any of the values, ask clarifying questions.\n",
            "    ####\n",
            "\n",
            "    ####\n",
            "    Here is a sample conversation between the user and assistant:\n",
            "    User: \"Hi, I am Jack looking for some movie recommendations.\"\n",
            "    Assistant: \"Great! As a Movie Recommender , I can provide you great set of movies , is there any specific genre and actors movies you are looking for?\"\n",
            "    User: \"I am looking for the movies acted by Tom Cruise of action genre\"\n",
            "    Assistant: \"Thank you for providing that information. Tom Cruise has acted in some brilliant movies are you looking for any specific year movies?\"\n",
            "    User: \"Yes, can you suggest some movies of the Year 2014\"\n",
            "    Assistant: \"Thank you for the information. Are you looking for any specific Country movies which Tom worked with ,also any specific lanaguage?\"\n",
            "    User: \"English language is fine with me for any country\"\n",
            "    Assistant:\"Thats great , Let me suggest you some good set of movies of Tom of Action genre of Year 2014 of english lanaguage : {'actor_Name': 'Value', 'movie_released_year': 'Value', 'genre': 'Value', 'language': 'Value', 'country': 'Value'}\"\n",
            "    ####\n",
            "\n",
            "    Start with a short welcome message and encourage the user to share their requirements.\n",
            "    \n"
          ]
        }
      ]
    },
    {
      "cell_type": "markdown",
      "source": [
        "### `get_chat_completions()`:\n",
        "\n",
        "This function perform LLM call using the Chat Completions API to get the LLM response."
      ],
      "metadata": {
        "id": "qtkCqSejZclo"
      }
    },
    {
      "cell_type": "code",
      "source": [
        "def get_chat_completions(input, json_format = False):\n",
        "    MODEL = 'gpt-3.5-turbo'\n",
        "\n",
        "    system_message_json_output = \"\"\"<<. Return output in JSON format to the key output.>>\"\"\"\n",
        "\n",
        "    # If the output is required to be in JSON format\n",
        "    if json_format == True:\n",
        "        # Append the input prompt to include JSON response as specified by OpenAI\n",
        "        input[0]['content'] += system_message_json_output\n",
        "\n",
        "        # JSON return type specified\n",
        "        chat_completion_json = openai.chat.completions.create(\n",
        "            model = MODEL,\n",
        "            messages = input,\n",
        "            response_format = { \"type\": \"json_object\"},\n",
        "            seed = 1234)\n",
        "\n",
        "        output = json.loads(chat_completion_json.choices[0].message.content)\n",
        "\n",
        "    # No JSON return type specified\n",
        "    else:\n",
        "        chat_completion = openai.chat.completions.create(\n",
        "            model = MODEL,\n",
        "            messages = input,\n",
        "            seed = 2345)\n",
        "\n",
        "        output = chat_completion.choices[0].message.content\n",
        "\n",
        "    return output"
      ],
      "metadata": {
        "id": "zJZwWoExQTPE"
      },
      "execution_count": 21,
      "outputs": []
    },
    {
      "cell_type": "code",
      "source": [
        "debug_user_input = \"Hi, I am John. I am looking for some movie recommendations or suggestions, can you help me with that?\"\n",
        "debug_conv.append({\"role\": \"user\", \"content\": debug_user_input})\n",
        "# print(debug_conversation[0][\"content\"]) # System Message\n",
        "print(debug_conv[1][\"content\"]) # User Input"
      ],
      "metadata": {
        "colab": {
          "base_uri": "https://localhost:8080/"
        },
        "id": "8HjaW6S3QfRP",
        "outputId": "e29a81f0-cf23-4c89-f171-d30f04471a51"
      },
      "execution_count": 22,
      "outputs": [
        {
          "output_type": "stream",
          "name": "stdout",
          "text": [
            "Hi, I am John. I am looking for some movie recommendations or suggestions, can you help me with that?\n"
          ]
        }
      ]
    },
    {
      "cell_type": "code",
      "source": [
        "display(debug_conv)"
      ],
      "metadata": {
        "colab": {
          "base_uri": "https://localhost:8080/",
          "height": 607
        },
        "id": "LNJfOK0EQnHH",
        "outputId": "64cb9012-ce32-401c-da34-409658ddce85"
      },
      "execution_count": 23,
      "outputs": [
        {
          "output_type": "display_data",
          "data": {
            "text/plain": [
              "[{'role': 'system',\n",
              "  'content': '\\n    You are an intelligent movie recommender expert and your goal is to provide the movies or movies list for the user.\\n    You need to ask relevant questions and understand the user profile by analysing the user\\'s responses.\\n    You final objective is to fill the values for the different keys (\\'actor_Name\\',\\'movie_released_year\\',\\'genre\\',\\'language\\',\\'country\\') in the python dictionary and be confident of the values.\\n    These key value pairs define the user\\'s profile.\\n    The python dictionary looks like this\\n    {\\'actor_Name\\': \\'values\\',\\'movie_released_year\\': \\'values\\',\\'genre\\': \\'values\\',\\'language\\': \\'values\\',\\'country\\': \\'values\\'}\\n    The value for \\'movie_released_year\\' should be a numerical value extracted from the user\\'s response.\\n    All the values in the example dictionary are only representative values.\\n    ####\\n    Here are some instructions around the values for the different keys. If you do not follow this, you\\'ll be heavily penalised:\\n    - The value for \\'movie_released_year\\' should be a numerical value extracted from the user\\'s response.\\n    - Do not randomly assign values to any of the keys.\\n    - The values need to be inferred from the user\\'s response.\\n    - If the user say any lanaguage movies or any country movies then fill country and language in the dictionary as \\'any\\'.\\n    - If the user gives multiple geners say for example action and horror or more values please set those values in genre field in dictionary with comma separated values.\\n    ####\\n\\n    To fill the dictionary, you need to have the following chain of thoughts:\\n    Follow the chain-of-thoughts below and only output the final updated python dictionary for the keys as described in {\\'actor_Name\\': \\'_\\', \\'movie_released_year\\': \\'_\\', \\'genre\\': \\'_\\', \\'language\\': \\'_\\', \\'country\\': \\'_\\'}. \\n\\n    ####\\n    Thought 1: Ask a question to understand the user\\'s profile and requirements. \\n\\n    If their primary use for the movie recommendation is unclear. Ask followup questions to understand their needs.\\n    You are trying to fill the values of all the keys {\\'actor_Name\\',\\'movie_released_year\\',\\'genre\\',\\'language\\',\\'country\\'} in the python dictionary by understanding the user requirements.\\n    Identify the keys for which you can fill the values confidently using the understanding. \\n\\n    Remember the instructions around the values for the different keys.\\n    If the necessary information has been extracted, only then proceed to the next step. \\n\\n    Otherwise, rephrase the question to capture their profile clearly. \\n\\n\\n    ####\\n    Thought 2: Now, you are trying to fill the values for the rest of the keys which you couldn\\'t in the previous step.\\n    Remember the instructions around the values for the different keys.\\n    Ask questions you might have for all the keys to strengthen your understanding of the user\\'s profile.\\n    If yes, move to the next Thought. If no, ask question on the keys whose values you are unsure of. \\n\\n    It is a good practice to ask question with a sound logic as opposed to directly citing the key you want to understand value for.\\n    ####\\n\\n    ####\\n    Thought 3: Check if you have correctly updated the values for the different keys in the python dictionary.\\n    If you are not confident about any of the values, ask clarifying questions.\\n    ####\\n\\n    ####\\n    Here is a sample conversation between the user and assistant:\\n    User: \"Hi, I am Jack looking for some movie recommendations.\"\\n    Assistant: \"Great! As a Movie Recommender , I can provide you great set of movies , is there any specific genre and actors movies you are looking for?\"\\n    User: \"I am looking for the movies acted by Tom Cruise of action genre\"\\n    Assistant: \"Thank you for providing that information. Tom Cruise has acted in some brilliant movies are you looking for any specific year movies?\"\\n    User: \"Yes, can you suggest some movies of the Year 2014\"\\n    Assistant: \"Thank you for the information. Are you looking for any specific Country movies which Tom worked with ,also any specific lanaguage?\"\\n    User: \"English language is fine with me for any country\"\\n    Assistant:\"Thats great , Let me suggest you some good set of movies of Tom of Action genre of Year 2014 of english lanaguage : {\\'actor_Name\\': \\'Value\\', \\'movie_released_year\\': \\'Value\\', \\'genre\\': \\'Value\\', \\'language\\': \\'Value\\', \\'country\\': \\'Value\\'}\"\\n    ####\\n\\n    Start with a short welcome message and encourage the user to share their requirements.\\n    '},\n",
              " {'role': 'user',\n",
              "  'content': 'Hi, I am John. I am looking for some movie recommendations or suggestions, can you help me with that?'}]"
            ]
          },
          "metadata": {}
        }
      ]
    },
    {
      "cell_type": "code",
      "source": [
        "# Getting the response from the Assistant by passing the conversation to the Chat Completions API\n",
        "debug_response_assistant = get_chat_completions(debug_conv)\n",
        "display(debug_response_assistant)"
      ],
      "metadata": {
        "colab": {
          "base_uri": "https://localhost:8080/",
          "height": 53
        },
        "id": "wRwqdcKdQy-a",
        "outputId": "85c242ff-3a73-4917-930c-1ea7f65043b0"
      },
      "execution_count": 24,
      "outputs": [
        {
          "output_type": "display_data",
          "data": {
            "text/plain": [
              "'Great! As a Movie Recommender, I can definitely help you with movie recommendations. To provide you with the best recommendations, could you please specify any particular genre, actor, or specific movie preferences you have in mind?'"
            ],
            "application/vnd.google.colaboratory.intrinsic+json": {
              "type": "string"
            }
          },
          "metadata": {}
        }
      ]
    },
    {
      "cell_type": "code",
      "source": [
        "debug_conv.append(({\"role\": \"system\", \"content\": debug_response_assistant}))\n",
        "debug_conv"
      ],
      "metadata": {
        "colab": {
          "base_uri": "https://localhost:8080/"
        },
        "id": "s-Q4lTgfQ7bX",
        "outputId": "e21737b9-042a-45f7-84ec-482e6747b07b"
      },
      "execution_count": 25,
      "outputs": [
        {
          "output_type": "execute_result",
          "data": {
            "text/plain": [
              "[{'role': 'system',\n",
              "  'content': '\\n    You are an intelligent movie recommender expert and your goal is to provide the movies or movies list for the user.\\n    You need to ask relevant questions and understand the user profile by analysing the user\\'s responses.\\n    You final objective is to fill the values for the different keys (\\'actor_Name\\',\\'movie_released_year\\',\\'genre\\',\\'language\\',\\'country\\') in the python dictionary and be confident of the values.\\n    These key value pairs define the user\\'s profile.\\n    The python dictionary looks like this\\n    {\\'actor_Name\\': \\'values\\',\\'movie_released_year\\': \\'values\\',\\'genre\\': \\'values\\',\\'language\\': \\'values\\',\\'country\\': \\'values\\'}\\n    The value for \\'movie_released_year\\' should be a numerical value extracted from the user\\'s response.\\n    All the values in the example dictionary are only representative values.\\n    ####\\n    Here are some instructions around the values for the different keys. If you do not follow this, you\\'ll be heavily penalised:\\n    - The value for \\'movie_released_year\\' should be a numerical value extracted from the user\\'s response.\\n    - Do not randomly assign values to any of the keys.\\n    - The values need to be inferred from the user\\'s response.\\n    - If the user say any lanaguage movies or any country movies then fill country and language in the dictionary as \\'any\\'.\\n    - If the user gives multiple geners say for example action and horror or more values please set those values in genre field in dictionary with comma separated values.\\n    ####\\n\\n    To fill the dictionary, you need to have the following chain of thoughts:\\n    Follow the chain-of-thoughts below and only output the final updated python dictionary for the keys as described in {\\'actor_Name\\': \\'_\\', \\'movie_released_year\\': \\'_\\', \\'genre\\': \\'_\\', \\'language\\': \\'_\\', \\'country\\': \\'_\\'}. \\n\\n    ####\\n    Thought 1: Ask a question to understand the user\\'s profile and requirements. \\n\\n    If their primary use for the movie recommendation is unclear. Ask followup questions to understand their needs.\\n    You are trying to fill the values of all the keys {\\'actor_Name\\',\\'movie_released_year\\',\\'genre\\',\\'language\\',\\'country\\'} in the python dictionary by understanding the user requirements.\\n    Identify the keys for which you can fill the values confidently using the understanding. \\n\\n    Remember the instructions around the values for the different keys.\\n    If the necessary information has been extracted, only then proceed to the next step. \\n\\n    Otherwise, rephrase the question to capture their profile clearly. \\n\\n\\n    ####\\n    Thought 2: Now, you are trying to fill the values for the rest of the keys which you couldn\\'t in the previous step.\\n    Remember the instructions around the values for the different keys.\\n    Ask questions you might have for all the keys to strengthen your understanding of the user\\'s profile.\\n    If yes, move to the next Thought. If no, ask question on the keys whose values you are unsure of. \\n\\n    It is a good practice to ask question with a sound logic as opposed to directly citing the key you want to understand value for.\\n    ####\\n\\n    ####\\n    Thought 3: Check if you have correctly updated the values for the different keys in the python dictionary.\\n    If you are not confident about any of the values, ask clarifying questions.\\n    ####\\n\\n    ####\\n    Here is a sample conversation between the user and assistant:\\n    User: \"Hi, I am Jack looking for some movie recommendations.\"\\n    Assistant: \"Great! As a Movie Recommender , I can provide you great set of movies , is there any specific genre and actors movies you are looking for?\"\\n    User: \"I am looking for the movies acted by Tom Cruise of action genre\"\\n    Assistant: \"Thank you for providing that information. Tom Cruise has acted in some brilliant movies are you looking for any specific year movies?\"\\n    User: \"Yes, can you suggest some movies of the Year 2014\"\\n    Assistant: \"Thank you for the information. Are you looking for any specific Country movies which Tom worked with ,also any specific lanaguage?\"\\n    User: \"English language is fine with me for any country\"\\n    Assistant:\"Thats great , Let me suggest you some good set of movies of Tom of Action genre of Year 2014 of english lanaguage : {\\'actor_Name\\': \\'Value\\', \\'movie_released_year\\': \\'Value\\', \\'genre\\': \\'Value\\', \\'language\\': \\'Value\\', \\'country\\': \\'Value\\'}\"\\n    ####\\n\\n    Start with a short welcome message and encourage the user to share their requirements.\\n    '},\n",
              " {'role': 'user',\n",
              "  'content': 'Hi, I am John. I am looking for some movie recommendations or suggestions, can you help me with that?'},\n",
              " {'role': 'system',\n",
              "  'content': 'Great! As a Movie Recommender, I can definitely help you with movie recommendations. To provide you with the best recommendations, could you please specify any particular genre, actor, or specific movie preferences you have in mind?'}]"
            ]
          },
          "metadata": {},
          "execution_count": 25
        }
      ]
    },
    {
      "cell_type": "markdown",
      "source": [
        "### `moderation_check()`:\n",
        " This checks if the user's or the assistant's message is inappropriate. If any of these is inappropriate, you can add a break statement to end the conversation."
      ],
      "metadata": {
        "id": "o9bjKXzVZmXf"
      }
    },
    {
      "cell_type": "code",
      "source": [
        "# Define a function called moderation_check that takes user_input as a parameter.\n",
        "\n",
        "def moderation_check(user_input):\n",
        "    # Call the OpenAI API to perform moderation on the user's input.\n",
        "    response = openai.moderations.create(input=user_input)\n",
        "\n",
        "    print(response)\n",
        "\n",
        "    # Extract the moderation result from the API response.\n",
        "    moderation_output = response.results[0].flagged\n",
        "    # Check if the input was flagged by the moderation system.\n",
        "    if response.results[0].flagged == True:\n",
        "        # If flagged, return \"Flagged\"\n",
        "        return \"Flagged\"\n",
        "    else:\n",
        "        # If not flagged, return \"Not Flagged\"\n",
        "        return \"Not Flagged\""
      ],
      "metadata": {
        "id": "Z7cZpZoGSmRw"
      },
      "execution_count": 26,
      "outputs": []
    },
    {
      "cell_type": "code",
      "source": [
        "debug_moderation = moderation_check(debug_user_input)\n",
        "print(debug_moderation)"
      ],
      "metadata": {
        "colab": {
          "base_uri": "https://localhost:8080/"
        },
        "id": "k08FVtZCTYxm",
        "outputId": "7545314a-807b-4a1f-f0a7-51a7289fb012"
      },
      "execution_count": 27,
      "outputs": [
        {
          "output_type": "stream",
          "name": "stdout",
          "text": [
            "ModerationCreateResponse(id='modr-Bo8SM74KPeAuxNe9HL5qip1vfTNJz', model='text-moderation-007', results=[Moderation(categories=Categories(harassment=False, harassment_threatening=False, hate=False, hate_threatening=False, illicit=None, illicit_violent=None, self_harm=False, self_harm_instructions=False, self_harm_intent=False, sexual=False, sexual_minors=False, violence=False, violence_graphic=False, self-harm=False, sexual/minors=False, hate/threatening=False, violence/graphic=False, self-harm/intent=False, self-harm/instructions=False, harassment/threatening=False), category_applied_input_types=None, category_scores=CategoryScores(harassment=7.845539948903024e-05, harassment_threatening=5.62944615012384e-06, hate=6.374585791490972e-05, hate_threatening=8.165661711245775e-07, illicit=None, illicit_violent=None, self_harm=7.127586286514997e-05, self_harm_instructions=8.545987839170266e-06, self_harm_intent=3.4614411561051384e-05, sexual=0.00010147286229766905, sexual_minors=0.00010276240936946124, violence=6.153571303002536e-05, violence_graphic=0.00010108510468853638, self-harm=7.127586286514997e-05, sexual/minors=0.00010276240936946124, hate/threatening=8.165661711245775e-07, violence/graphic=0.00010108510468853638, self-harm/intent=3.4614411561051384e-05, self-harm/instructions=8.545987839170266e-06, harassment/threatening=5.62944615012384e-06), flagged=False)])\n",
            "Not Flagged\n"
          ]
        }
      ]
    },
    {
      "cell_type": "code",
      "source": [
        "moderation_check(debug_response_assistant)"
      ],
      "metadata": {
        "colab": {
          "base_uri": "https://localhost:8080/",
          "height": 73
        },
        "id": "H6mKKLIgTbs2",
        "outputId": "5863b0ec-9539-47a9-b650-f04d028cc285"
      },
      "execution_count": 28,
      "outputs": [
        {
          "output_type": "stream",
          "name": "stdout",
          "text": [
            "ModerationCreateResponse(id='modr-Bo8SMs0lPFq261UuKXJOdUX8DUG9s', model='text-moderation-007', results=[Moderation(categories=Categories(harassment=False, harassment_threatening=False, hate=False, hate_threatening=False, illicit=None, illicit_violent=None, self_harm=False, self_harm_instructions=False, self_harm_intent=False, sexual=False, sexual_minors=False, violence=False, violence_graphic=False, self-harm=False, sexual/minors=False, hate/threatening=False, violence/graphic=False, self-harm/intent=False, self-harm/instructions=False, harassment/threatening=False), category_applied_input_types=None, category_scores=CategoryScores(harassment=1.5324105334002525e-05, harassment_threatening=1.5053915376483928e-06, hate=6.019495231157634e-06, hate_threatening=1.0050775927084032e-06, illicit=None, illicit_violent=None, self_harm=1.365196567348903e-05, self_harm_instructions=5.325341589923482e-06, self_harm_intent=2.5119912606896833e-05, sexual=3.458458013483323e-05, sexual_minors=4.460831405594945e-05, violence=1.824548962758854e-05, violence_graphic=0.00019829193479381502, self-harm=1.365196567348903e-05, sexual/minors=4.460831405594945e-05, hate/threatening=1.0050775927084032e-06, violence/graphic=0.00019829193479381502, self-harm/intent=2.5119912606896833e-05, self-harm/instructions=5.325341589923482e-06, harassment/threatening=1.5053915376483928e-06), flagged=False)])\n"
          ]
        },
        {
          "output_type": "execute_result",
          "data": {
            "text/plain": [
              "'Not Flagged'"
            ],
            "application/vnd.google.colaboratory.intrinsic+json": {
              "type": "string"
            }
          },
          "metadata": {},
          "execution_count": 28
        }
      ]
    },
    {
      "cell_type": "markdown",
      "source": [
        "### `intent_confirmation_layer()`:\n",
        "\n",
        "This function takes the assistant's response and evaluates if the chatbot has captured the user's profile clearly. Specifically, this checks if the following properties for the user has been captured or not\n",
        "   - actor_Name\n",
        "   - movie_released_year\n",
        "   - genre\n",
        "   - language\n",
        "   - country\n"
      ],
      "metadata": {
        "id": "_l7fXcGOZrpi"
      }
    },
    {
      "cell_type": "code",
      "source": [
        "def intent_confirmation_layer(response_assistant):\n",
        "\n",
        "    delimiter = \"####\"\n",
        "\n",
        "\n",
        "    prompt = f\"\"\"\n",
        "    You are a senior evaluator who has an eye for detail.The input text will contain a user requirement captured through 5 keys.\n",
        "    You are provided an input. You need to evaluate if the input text has the following keys:\n",
        "    {{\n",
        "    'actor_Name':'values','movie_released_year':'number','genre:'values','language':'values','country':'values'\n",
        "    }}\n",
        "    The 'movie_released_year' key can take only a numerical value.\n",
        "    The 'country' key can take any country value of string format , also the value 'any' is accepted for this field\n",
        "    Next you need to evaluate if the keys have the the values filled correctly.\n",
        "    Only output a one-word string in JSON format at the key 'result' - Yes/No.\n",
        "    Thought 1 - Output a string 'Yes' if the values are correctly filled for all keys, otherwise output 'No'.\n",
        "    Thought 2 - If the answer is No, mention the reason in the key 'reason'.\n",
        "    THought 3 - Think carefully before the answering.\n",
        "    \"\"\"\n",
        "\n",
        "    messages=[{\"role\": \"system\", \"content\":prompt },\n",
        "              {\"role\": \"user\", \"content\":f\"\"\"Here is the input: {response_assistant}\"\"\" }]\n",
        "\n",
        "    response = openai.chat.completions.create(\n",
        "                                    model=\"gpt-3.5-turbo\",\n",
        "                                    messages = messages,\n",
        "                                    response_format={ \"type\": \"json_object\" },\n",
        "                                    seed = 1234\n",
        "                                    # n = 5\n",
        "                                    )\n",
        "\n",
        "    json_output = json.loads(response.choices[0].message.content)\n",
        "\n",
        "    return json_output"
      ],
      "metadata": {
        "id": "ZpL_bjJGX72D"
      },
      "execution_count": 151,
      "outputs": []
    },
    {
      "cell_type": "code",
      "source": [
        "debug_response_assistant"
      ],
      "metadata": {
        "colab": {
          "base_uri": "https://localhost:8080/",
          "height": 53
        },
        "id": "0x08PvebY1MP",
        "outputId": "2bd41eae-df70-462e-86d9-fa71e88eea6b"
      },
      "execution_count": 30,
      "outputs": [
        {
          "output_type": "execute_result",
          "data": {
            "text/plain": [
              "'Great! As a Movie Recommender, I can definitely help you with movie recommendations. To provide you with the best recommendations, could you please specify any particular genre, actor, or specific movie preferences you have in mind?'"
            ],
            "application/vnd.google.colaboratory.intrinsic+json": {
              "type": "string"
            }
          },
          "metadata": {},
          "execution_count": 30
        }
      ]
    },
    {
      "cell_type": "code",
      "source": [
        "debug_confirmation = intent_confirmation_layer(debug_response_assistant)\n",
        "display(debug_confirmation)"
      ],
      "metadata": {
        "colab": {
          "base_uri": "https://localhost:8080/",
          "height": 52
        },
        "id": "CaYdRUD5Y9kq",
        "outputId": "f853759d-1b41-44c4-85ef-cbe1ce5af26e"
      },
      "execution_count": 31,
      "outputs": [
        {
          "output_type": "display_data",
          "data": {
            "text/plain": [
              "{'result': 'No',\n",
              " 'reason': \"Key 'actor_Name', 'movie_released_year', 'genre', 'language', 'country' are missing in the input text.\"}"
            ]
          },
          "metadata": {}
        }
      ]
    },
    {
      "cell_type": "code",
      "source": [
        "debug_conv"
      ],
      "metadata": {
        "colab": {
          "base_uri": "https://localhost:8080/"
        },
        "id": "1shGNYmxY_Ms",
        "outputId": "12254e38-f8a2-4d32-8a68-b6caf88519d8"
      },
      "execution_count": 32,
      "outputs": [
        {
          "output_type": "execute_result",
          "data": {
            "text/plain": [
              "[{'role': 'system',\n",
              "  'content': '\\n    You are an intelligent movie recommender expert and your goal is to provide the movies or movies list for the user.\\n    You need to ask relevant questions and understand the user profile by analysing the user\\'s responses.\\n    You final objective is to fill the values for the different keys (\\'actor_Name\\',\\'movie_released_year\\',\\'genre\\',\\'language\\',\\'country\\') in the python dictionary and be confident of the values.\\n    These key value pairs define the user\\'s profile.\\n    The python dictionary looks like this\\n    {\\'actor_Name\\': \\'values\\',\\'movie_released_year\\': \\'values\\',\\'genre\\': \\'values\\',\\'language\\': \\'values\\',\\'country\\': \\'values\\'}\\n    The value for \\'movie_released_year\\' should be a numerical value extracted from the user\\'s response.\\n    All the values in the example dictionary are only representative values.\\n    ####\\n    Here are some instructions around the values for the different keys. If you do not follow this, you\\'ll be heavily penalised:\\n    - The value for \\'movie_released_year\\' should be a numerical value extracted from the user\\'s response.\\n    - Do not randomly assign values to any of the keys.\\n    - The values need to be inferred from the user\\'s response.\\n    - If the user say any lanaguage movies or any country movies then fill country and language in the dictionary as \\'any\\'.\\n    - If the user gives multiple geners say for example action and horror or more values please set those values in genre field in dictionary with comma separated values.\\n    ####\\n\\n    To fill the dictionary, you need to have the following chain of thoughts:\\n    Follow the chain-of-thoughts below and only output the final updated python dictionary for the keys as described in {\\'actor_Name\\': \\'_\\', \\'movie_released_year\\': \\'_\\', \\'genre\\': \\'_\\', \\'language\\': \\'_\\', \\'country\\': \\'_\\'}. \\n\\n    ####\\n    Thought 1: Ask a question to understand the user\\'s profile and requirements. \\n\\n    If their primary use for the movie recommendation is unclear. Ask followup questions to understand their needs.\\n    You are trying to fill the values of all the keys {\\'actor_Name\\',\\'movie_released_year\\',\\'genre\\',\\'language\\',\\'country\\'} in the python dictionary by understanding the user requirements.\\n    Identify the keys for which you can fill the values confidently using the understanding. \\n\\n    Remember the instructions around the values for the different keys.\\n    If the necessary information has been extracted, only then proceed to the next step. \\n\\n    Otherwise, rephrase the question to capture their profile clearly. \\n\\n\\n    ####\\n    Thought 2: Now, you are trying to fill the values for the rest of the keys which you couldn\\'t in the previous step.\\n    Remember the instructions around the values for the different keys.\\n    Ask questions you might have for all the keys to strengthen your understanding of the user\\'s profile.\\n    If yes, move to the next Thought. If no, ask question on the keys whose values you are unsure of. \\n\\n    It is a good practice to ask question with a sound logic as opposed to directly citing the key you want to understand value for.\\n    ####\\n\\n    ####\\n    Thought 3: Check if you have correctly updated the values for the different keys in the python dictionary.\\n    If you are not confident about any of the values, ask clarifying questions.\\n    ####\\n\\n    ####\\n    Here is a sample conversation between the user and assistant:\\n    User: \"Hi, I am Jack looking for some movie recommendations.\"\\n    Assistant: \"Great! As a Movie Recommender , I can provide you great set of movies , is there any specific genre and actors movies you are looking for?\"\\n    User: \"I am looking for the movies acted by Tom Cruise of action genre\"\\n    Assistant: \"Thank you for providing that information. Tom Cruise has acted in some brilliant movies are you looking for any specific year movies?\"\\n    User: \"Yes, can you suggest some movies of the Year 2014\"\\n    Assistant: \"Thank you for the information. Are you looking for any specific Country movies which Tom worked with ,also any specific lanaguage?\"\\n    User: \"English language is fine with me for any country\"\\n    Assistant:\"Thats great , Let me suggest you some good set of movies of Tom of Action genre of Year 2014 of english lanaguage : {\\'actor_Name\\': \\'Value\\', \\'movie_released_year\\': \\'Value\\', \\'genre\\': \\'Value\\', \\'language\\': \\'Value\\', \\'country\\': \\'Value\\'}\"\\n    ####\\n\\n    Start with a short welcome message and encourage the user to share their requirements.\\n    '},\n",
              " {'role': 'user',\n",
              "  'content': 'Hi, I am John. I am looking for some movie recommendations or suggestions, can you help me with that?'},\n",
              " {'role': 'system',\n",
              "  'content': 'Great! As a Movie Recommender, I can definitely help you with movie recommendations. To provide you with the best recommendations, could you please specify any particular genre, actor, or specific movie preferences you have in mind?'}]"
            ]
          },
          "metadata": {},
          "execution_count": 32
        }
      ]
    },
    {
      "cell_type": "code",
      "source": [
        "debug_response_assistant"
      ],
      "metadata": {
        "colab": {
          "base_uri": "https://localhost:8080/",
          "height": 53
        },
        "id": "1win5YBQZJS3",
        "outputId": "151260ab-c374-4e6b-efb7-e92723b25ed3"
      },
      "execution_count": 33,
      "outputs": [
        {
          "output_type": "execute_result",
          "data": {
            "text/plain": [
              "'Great! As a Movie Recommender, I can definitely help you with movie recommendations. To provide you with the best recommendations, could you please specify any particular genre, actor, or specific movie preferences you have in mind?'"
            ],
            "application/vnd.google.colaboratory.intrinsic+json": {
              "type": "string"
            }
          },
          "metadata": {},
          "execution_count": 33
        }
      ]
    },
    {
      "cell_type": "code",
      "source": [
        "# Example 1 - Let's check with the confirmation_layer if all the keys are present\n",
        "debug_response_assistant_1 = f\"\"\"\n",
        "Great, thank you for providing all the details.\n",
        "Based on your inputs, here is the final profile for the movies  you are looking for:\n",
        "{{'actor_Name':'Tom Cruise',\n",
        " 'movie_released_year':'Hello',\n",
        " 'genre':'Action',\n",
        " 'language':'English',\n",
        " 'country':'any'}}\n",
        "\"\"\"\n",
        "#Note that you are using double curly braces\n",
        "\n",
        "print(debug_response_assistant_1)"
      ],
      "metadata": {
        "colab": {
          "base_uri": "https://localhost:8080/"
        },
        "id": "1Qs6Mv8rZNLs",
        "outputId": "2e90cfef-c2c4-4ea3-b0ab-5d71492f469a"
      },
      "execution_count": 34,
      "outputs": [
        {
          "output_type": "stream",
          "name": "stdout",
          "text": [
            "\n",
            "Great, thank you for providing all the details.\n",
            "Based on your inputs, here is the final profile for the movies  you are looking for:\n",
            "{'actor_Name':'Tom Cruise',\n",
            " 'movie_released_year':'Hello',\n",
            " 'genre':'Action',\n",
            " 'language':'English',\n",
            " 'country':'any'}\n",
            "\n"
          ]
        }
      ]
    },
    {
      "cell_type": "code",
      "source": [
        "response = intent_confirmation_layer(debug_response_assistant_1)\n",
        "response.get('result')"
      ],
      "metadata": {
        "colab": {
          "base_uri": "https://localhost:8080/",
          "height": 36
        },
        "id": "ckkNss3cZy22",
        "outputId": "3f5ec658-cc17-4481-b4f8-d34ffb124180"
      },
      "execution_count": 35,
      "outputs": [
        {
          "output_type": "execute_result",
          "data": {
            "text/plain": [
              "'No'"
            ],
            "application/vnd.google.colaboratory.intrinsic+json": {
              "type": "string"
            }
          },
          "metadata": {},
          "execution_count": 35
        }
      ]
    },
    {
      "cell_type": "code",
      "source": [
        "debug_response_assistant_2 = f\"\"\"\n",
        "Great, thank you for providing all the details.\n",
        "Based on your inputs, here is the final profile for the movies  you are looking for:\n",
        "{{'actor_Name':'Tom Cruise',\n",
        " 'movie_released_year':'2014',\n",
        " 'genre':'Action',\n",
        " 'language':'English',\n",
        " 'country':'any'}}\n",
        "\"\"\"\n",
        "#Note that you are using double curly braces\n",
        "\n",
        "print(debug_response_assistant_2)"
      ],
      "metadata": {
        "colab": {
          "base_uri": "https://localhost:8080/"
        },
        "id": "spO2MKxJZ1Lp",
        "outputId": "f6ca19fd-2598-4597-bbb3-f89ed918beec"
      },
      "execution_count": 36,
      "outputs": [
        {
          "output_type": "stream",
          "name": "stdout",
          "text": [
            "\n",
            "Great, thank you for providing all the details.\n",
            "Based on your inputs, here is the final profile for the movies  you are looking for:\n",
            "{'actor_Name':'Tom Cruise',\n",
            " 'movie_released_year':'2014',\n",
            " 'genre':'Action',\n",
            " 'language':'English',\n",
            " 'country':'any'}\n",
            "\n"
          ]
        }
      ]
    },
    {
      "cell_type": "code",
      "source": [
        "response = intent_confirmation_layer(debug_response_assistant_2)\n",
        "response.get('result')"
      ],
      "metadata": {
        "colab": {
          "base_uri": "https://localhost:8080/",
          "height": 36
        },
        "id": "BlN-pzwXaBTF",
        "outputId": "1d0e6720-7231-4b5d-dd28-60a98a38fd87"
      },
      "execution_count": 37,
      "outputs": [
        {
          "output_type": "execute_result",
          "data": {
            "text/plain": [
              "'Yes'"
            ],
            "application/vnd.google.colaboratory.intrinsic+json": {
              "type": "string"
            }
          },
          "metadata": {},
          "execution_count": 37
        }
      ]
    },
    {
      "cell_type": "code",
      "source": [
        "intent_confirmation_layer(debug_response_assistant_1)"
      ],
      "metadata": {
        "colab": {
          "base_uri": "https://localhost:8080/"
        },
        "id": "dzdvTmFKaDx3",
        "outputId": "a7b04b3b-0beb-4766-b6fd-1401b93c72d8"
      },
      "execution_count": 38,
      "outputs": [
        {
          "output_type": "execute_result",
          "data": {
            "text/plain": [
              "{'result': 'No', 'reason': 'Incorrect value for movie_released_year key'}"
            ]
          },
          "metadata": {},
          "execution_count": 38
        }
      ]
    },
    {
      "cell_type": "code",
      "source": [
        "intent_confirmation_layer(debug_response_assistant_2)"
      ],
      "metadata": {
        "colab": {
          "base_uri": "https://localhost:8080/"
        },
        "id": "hHYgUTxAaJjF",
        "outputId": "f76f1e57-4ede-454e-acee-be15090bb14a"
      },
      "execution_count": 39,
      "outputs": [
        {
          "output_type": "execute_result",
          "data": {
            "text/plain": [
              "{'result': 'Yes'}"
            ]
          },
          "metadata": {},
          "execution_count": 39
        }
      ]
    },
    {
      "cell_type": "markdown",
      "source": [
        "### `dictionary_present()`:\n",
        "\n",
        "This function checks if the final understanding of user's profile is returned by the chatbot is a Python dictionary or not. This is important as it'll be used later on for finding the right laptops using dictionary matching."
      ],
      "metadata": {
        "id": "DCdcoj0RZ73Z"
      }
    },
    {
      "cell_type": "code",
      "source": [
        "def dictionary_present(response):\n",
        "    delimiter = \"####\"\n",
        "\n",
        "    user_req = {'actor_Name': 'value',\n",
        "                'movie_released_year': '2007',\n",
        "                'genre': 'value',\n",
        "                'language': 'value',\n",
        "                'country': 'value',\n",
        "                }\n",
        "\n",
        "    prompt = f\"\"\"You are a python expert. You are provided an input.\n",
        "            You have to check if there is a python dictionary present in the string.\n",
        "            It will have the following format {user_req}.\n",
        "            Your task is to just extract the relevant values from the input and return only the python dictionary in JSON format.\n",
        "            The output should match the format as {user_req}.\n",
        "\n",
        "            {delimiter}\n",
        "            Make sure that the value of movie_released_year is also present in the user input. ###\n",
        "            The output should contain the exact keys and values as present in the input.\n",
        "            Ensure the keys and values are in the given format:\n",
        "            {{\n",
        "            'actor_Name': 'string',\n",
        "            'movie_released_year': 'numeric',\n",
        "            'genre': 'string',\n",
        "            'language': 'string',\n",
        "            'country': 'string',\n",
        "            }}\n",
        "            Here are some sample input output pairs for better understanding:\n",
        "            {delimiter}\n",
        "            input 1: - actor_Name: Tom Cruise - movie_released_year: 2007 - genre: Action - language: English - country: USA\n",
        "            output 1: {{'actor_Name': 'Tom Cruise', 'movie_released_year': '2007', 'genre': 'Action', 'language': 'English', 'country': 'USA'}}\n",
        "\n",
        "\n",
        "            {delimiter}\n",
        "            \"\"\"\n",
        "    messages = [{\"role\": \"system\", \"content\":prompt },\n",
        "                {\"role\": \"user\", \"content\":f\"\"\"Here is the user input: {response}\"\"\" }]\n",
        "\n",
        "    confirmation = get_chat_completions(messages, json_format = True)\n",
        "\n",
        "    return confirmation"
      ],
      "metadata": {
        "id": "6ZC_Dw1UcOQK"
      },
      "execution_count": 40,
      "outputs": []
    },
    {
      "cell_type": "code",
      "source": [
        "debug_response_assistant_n = \"\"\"\n",
        "{{'actor_Name': 'Johny Deep', 'movie_released_year': '2007', 'genre': 'Action', 'language': 'English', 'country': 'USA'}\n",
        "\"\"\""
      ],
      "metadata": {
        "id": "hCQ_qAa5cOLQ"
      },
      "execution_count": 41,
      "outputs": []
    },
    {
      "cell_type": "code",
      "source": [
        "response_dict_n = dictionary_present(debug_response_assistant_n)\n",
        "display(response_dict_n)"
      ],
      "metadata": {
        "colab": {
          "base_uri": "https://localhost:8080/",
          "height": 104
        },
        "id": "QVQt9d8HcOIq",
        "outputId": "f5663e6b-eb71-4a6a-efbf-5458675fee81"
      },
      "execution_count": 42,
      "outputs": [
        {
          "output_type": "display_data",
          "data": {
            "text/plain": [
              "{'actor_Name': 'Johny Deep',\n",
              " 'movie_released_year': '2007',\n",
              " 'genre': 'Action',\n",
              " 'language': 'English',\n",
              " 'country': 'USA'}"
            ]
          },
          "metadata": {}
        }
      ]
    },
    {
      "cell_type": "code",
      "source": [
        "type(response_dict_n)"
      ],
      "metadata": {
        "colab": {
          "base_uri": "https://localhost:8080/"
        },
        "id": "75Ebte9WcOFa",
        "outputId": "68fc5e56-51e8-4184-ad99-d27912bfae36"
      },
      "execution_count": 43,
      "outputs": [
        {
          "output_type": "execute_result",
          "data": {
            "text/plain": [
              "dict"
            ]
          },
          "metadata": {},
          "execution_count": 43
        }
      ]
    },
    {
      "cell_type": "code",
      "source": [],
      "metadata": {
        "id": "HgnUyOy7cOCh"
      },
      "execution_count": 43,
      "outputs": []
    },
    {
      "cell_type": "code",
      "source": [],
      "metadata": {
        "id": "fDATXPZ-cN4a"
      },
      "execution_count": 43,
      "outputs": []
    },
    {
      "cell_type": "code",
      "source": [
        "debug_conversation = initialize_conversation()\n",
        "debug_user_input = \"Hi, I am John. I am looking for some movie recommendations or suggestions, can you help me with that?\"\n",
        "debug_moderation = moderation_check(debug_user_input)\n",
        "debug_conversation.append({\"role\": \"user\", \"content\": debug_user_input})\n",
        "debug_response_assistant = get_chat_completions(debug_conversation)\n",
        "debug_moderation = moderation_check(debug_response_assistant)\n",
        "debug_conversation.append({\"role\": \"assistant\", \"content\": debug_response_assistant})"
      ],
      "metadata": {
        "colab": {
          "base_uri": "https://localhost:8080/"
        },
        "id": "3nv0n947bNAl",
        "outputId": "7374dbd4-bcb4-4bc7-806b-650441c9e4fe"
      },
      "execution_count": 44,
      "outputs": [
        {
          "output_type": "stream",
          "name": "stdout",
          "text": [
            "ModerationCreateResponse(id='modr-Bo8SUlZqaHTnLAOEYe2LEF25U6aSE', model='text-moderation-007', results=[Moderation(categories=Categories(harassment=False, harassment_threatening=False, hate=False, hate_threatening=False, illicit=None, illicit_violent=None, self_harm=False, self_harm_instructions=False, self_harm_intent=False, sexual=False, sexual_minors=False, violence=False, violence_graphic=False, self-harm=False, sexual/minors=False, hate/threatening=False, violence/graphic=False, self-harm/intent=False, self-harm/instructions=False, harassment/threatening=False), category_applied_input_types=None, category_scores=CategoryScores(harassment=7.845539948903024e-05, harassment_threatening=5.62944615012384e-06, hate=6.374585791490972e-05, hate_threatening=8.165661711245775e-07, illicit=None, illicit_violent=None, self_harm=7.127586286514997e-05, self_harm_instructions=8.545987839170266e-06, self_harm_intent=3.4614411561051384e-05, sexual=0.00010147286229766905, sexual_minors=0.00010276240936946124, violence=6.153571303002536e-05, violence_graphic=0.00010108510468853638, self-harm=7.127586286514997e-05, sexual/minors=0.00010276240936946124, hate/threatening=8.165661711245775e-07, violence/graphic=0.00010108510468853638, self-harm/intent=3.4614411561051384e-05, self-harm/instructions=8.545987839170266e-06, harassment/threatening=5.62944615012384e-06), flagged=False)])\n",
            "ModerationCreateResponse(id='modr-Bo8SVA0q5FHRPSYfjaoaobQQdFf6S', model='text-moderation-007', results=[Moderation(categories=Categories(harassment=False, harassment_threatening=False, hate=False, hate_threatening=False, illicit=None, illicit_violent=None, self_harm=False, self_harm_instructions=False, self_harm_intent=False, sexual=False, sexual_minors=False, violence=False, violence_graphic=False, self-harm=False, sexual/minors=False, hate/threatening=False, violence/graphic=False, self-harm/intent=False, self-harm/instructions=False, harassment/threatening=False), category_applied_input_types=None, category_scores=CategoryScores(harassment=2.2256135707721114e-05, harassment_threatening=1.419689738213492e-06, hate=6.116521944932174e-06, hate_threatening=1.1982359637841e-06, illicit=None, illicit_violent=None, self_harm=1.3417607078736182e-05, self_harm_instructions=4.239033387420932e-06, self_harm_intent=1.8549906599218957e-05, sexual=3.826420288532972e-05, sexual_minors=2.0235032934579067e-05, violence=2.769538878055755e-05, violence_graphic=0.0001881225180113688, self-harm=1.3417607078736182e-05, sexual/minors=2.0235032934579067e-05, hate/threatening=1.1982359637841e-06, violence/graphic=0.0001881225180113688, self-harm/intent=1.8549906599218957e-05, self-harm/instructions=4.239033387420932e-06, harassment/threatening=1.419689738213492e-06), flagged=False)])\n"
          ]
        }
      ]
    },
    {
      "cell_type": "code",
      "source": [
        "debug_confirmation = intent_confirmation_layer(debug_response_assistant)"
      ],
      "metadata": {
        "id": "f8Rj9qvGbrYo"
      },
      "execution_count": 45,
      "outputs": []
    },
    {
      "cell_type": "code",
      "source": [
        "debug_confirmation"
      ],
      "metadata": {
        "colab": {
          "base_uri": "https://localhost:8080/"
        },
        "id": "xw1iDBCPb9Ti",
        "outputId": "3e6dfccf-f26f-4d91-e195-9698d2477f05"
      },
      "execution_count": 46,
      "outputs": [
        {
          "output_type": "execute_result",
          "data": {
            "text/plain": [
              "{'result': 'No', 'reason': 'Input does not contain all the necessary keys.'}"
            ]
          },
          "metadata": {},
          "execution_count": 46
        }
      ]
    },
    {
      "cell_type": "code",
      "source": [
        "debug_response_assistant"
      ],
      "metadata": {
        "colab": {
          "base_uri": "https://localhost:8080/",
          "height": 53
        },
        "id": "HD3LjPiMcHIh",
        "outputId": "9e51e168-f800-4dcd-d842-364721b7cb14"
      },
      "execution_count": 47,
      "outputs": [
        {
          "output_type": "execute_result",
          "data": {
            "text/plain": [
              "'Great! As a Movie Recommender, I can definitely help you with movie recommendations. To provide you with the best recommendations, could you please specify any particular genre or actor you are interested in?'"
            ],
            "application/vnd.google.colaboratory.intrinsic+json": {
              "type": "string"
            }
          },
          "metadata": {},
          "execution_count": 47
        }
      ]
    },
    {
      "cell_type": "code",
      "source": [
        "debug_conversation.append({\"role\": \"assistant\", \"content\": \"Yes, I am looking for movies of Tom Cruise of Action genre of Year 2014 of english lanaguage of country USA\"})"
      ],
      "metadata": {
        "id": "lFjyyFTweMq-"
      },
      "execution_count": 48,
      "outputs": []
    },
    {
      "cell_type": "code",
      "source": [
        "debug_response_assistant = get_chat_completions(debug_conversation)\n"
      ],
      "metadata": {
        "id": "H2-GjiB6eaJt"
      },
      "execution_count": 49,
      "outputs": []
    },
    {
      "cell_type": "code",
      "source": [
        "debug_response_assistant"
      ],
      "metadata": {
        "colab": {
          "base_uri": "https://localhost:8080/",
          "height": 36
        },
        "id": "X1CYxBKKedHy",
        "outputId": "a1c06ee4-42ed-4969-95bf-208ae7c3ce9b"
      },
      "execution_count": 50,
      "outputs": [
        {
          "output_type": "execute_result",
          "data": {
            "text/plain": [
              "\"{'actor_Name': 'Tom Cruise', 'movie_released_year': 2014, 'genre': 'Action', 'language': 'English', 'country': 'USA'}\""
            ],
            "application/vnd.google.colaboratory.intrinsic+json": {
              "type": "string"
            }
          },
          "metadata": {},
          "execution_count": 50
        }
      ]
    },
    {
      "cell_type": "code",
      "source": [
        "check_intent = intent_confirmation_layer(debug_response_assistant)"
      ],
      "metadata": {
        "id": "GXuUWVQigv4M"
      },
      "execution_count": 51,
      "outputs": []
    },
    {
      "cell_type": "code",
      "source": [
        "check_intent"
      ],
      "metadata": {
        "colab": {
          "base_uri": "https://localhost:8080/"
        },
        "id": "1E3vFm7vgzuK",
        "outputId": "42122e42-379b-4e76-d2a6-1f4658a7108b"
      },
      "execution_count": 52,
      "outputs": [
        {
          "output_type": "execute_result",
          "data": {
            "text/plain": [
              "{'result': 'Yes'}"
            ]
          },
          "metadata": {},
          "execution_count": 52
        }
      ]
    },
    {
      "cell_type": "code",
      "source": [
        "debug_moderation = moderation_check(debug_response_assistant)\n",
        "debug_conversation.append({\"role\": \"assistant\", \"content\": debug_response_assistant})"
      ],
      "metadata": {
        "colab": {
          "base_uri": "https://localhost:8080/"
        },
        "id": "1wICmKw8el61",
        "outputId": "a7ea9ac0-5221-4d1b-9f3a-6fbae42e7052"
      },
      "execution_count": 53,
      "outputs": [
        {
          "output_type": "stream",
          "name": "stdout",
          "text": [
            "ModerationCreateResponse(id='modr-Bo8SZlpgx8fp5ZngBPO930YHq6i0j', model='text-moderation-007', results=[Moderation(categories=Categories(harassment=False, harassment_threatening=False, hate=False, hate_threatening=False, illicit=None, illicit_violent=None, self_harm=False, self_harm_instructions=False, self_harm_intent=False, sexual=False, sexual_minors=False, violence=False, violence_graphic=False, self-harm=False, sexual/minors=False, hate/threatening=False, violence/graphic=False, self-harm/intent=False, self-harm/instructions=False, harassment/threatening=False), category_applied_input_types=None, category_scores=CategoryScores(harassment=0.00014038382505532354, harassment_threatening=1.2921543657284928e-06, hate=0.00015129188250284642, hate_threatening=2.9151692615414504e-06, illicit=None, illicit_violent=None, self_harm=5.234159417000228e-08, self_harm_instructions=1.1924110587813175e-08, self_harm_intent=3.1554496793262388e-09, sexual=0.0001940060465130955, sexual_minors=1.1162017472088337e-05, violence=5.048891398473643e-05, violence_graphic=0.00010054367885459214, self-harm=5.234159417000228e-08, sexual/minors=1.1162017472088337e-05, hate/threatening=2.9151692615414504e-06, violence/graphic=0.00010054367885459214, self-harm/intent=3.1554496793262388e-09, self-harm/instructions=1.1924110587813175e-08, harassment/threatening=1.2921543657284928e-06), flagged=False)])\n"
          ]
        }
      ]
    },
    {
      "cell_type": "code",
      "source": [
        "response_dict_n = dictionary_present(debug_response_assistant)\n",
        "print(response_dict_n)"
      ],
      "metadata": {
        "colab": {
          "base_uri": "https://localhost:8080/"
        },
        "id": "l54wr7MLeuzt",
        "outputId": "cdf5c8ab-180c-49fe-de64-0a6a1e020952"
      },
      "execution_count": 54,
      "outputs": [
        {
          "output_type": "stream",
          "name": "stdout",
          "text": [
            "{'actor_Name': 'Tom Cruise', 'movie_released_year': 2014, 'genre': 'Action', 'language': 'English', 'country': 'USA'}\n"
          ]
        }
      ]
    },
    {
      "cell_type": "code",
      "source": [
        "debug_conversation.append({\"role\": \"assistant\", \"content\": \"Ok. Can you provide me some movies of Brad Pitt also of any Thriller genre of year 2011 of USA Country made\"})"
      ],
      "metadata": {
        "id": "etFySYLUe0cs"
      },
      "execution_count": 55,
      "outputs": []
    },
    {
      "cell_type": "code",
      "source": [
        "debug_response_assistant_1 = get_chat_completions(debug_conversation)"
      ],
      "metadata": {
        "id": "0p5abnZFe-7A"
      },
      "execution_count": 56,
      "outputs": []
    },
    {
      "cell_type": "code",
      "source": [
        "debug_response_assistant_1"
      ],
      "metadata": {
        "colab": {
          "base_uri": "https://localhost:8080/",
          "height": 36
        },
        "id": "7qxnS9cEfZMQ",
        "outputId": "dde5ab99-1874-4916-b1a6-e256304be53a"
      },
      "execution_count": 57,
      "outputs": [
        {
          "output_type": "execute_result",
          "data": {
            "text/plain": [
              "\"{'actor_Name': 'Brad Pitt', 'movie_released_year': 2011, 'genre': 'Thriller', 'language': 'any', 'country': 'USA'}\""
            ],
            "application/vnd.google.colaboratory.intrinsic+json": {
              "type": "string"
            }
          },
          "metadata": {},
          "execution_count": 57
        }
      ]
    },
    {
      "cell_type": "code",
      "source": [
        "debug_conversation.append({\"role\": \"assistant\", \"content\": \"Ok. English language is my Prefrence\"})"
      ],
      "metadata": {
        "id": "SaEz4L9_faLr"
      },
      "execution_count": 58,
      "outputs": []
    },
    {
      "cell_type": "code",
      "source": [
        "debug_response_assistant_1 = get_chat_completions(debug_conversation)"
      ],
      "metadata": {
        "id": "yjtn3iN1ffbp"
      },
      "execution_count": 59,
      "outputs": []
    },
    {
      "cell_type": "code",
      "source": [
        "debug_response_assistant_1"
      ],
      "metadata": {
        "colab": {
          "base_uri": "https://localhost:8080/",
          "height": 36
        },
        "id": "-XCQlERWk7Oj",
        "outputId": "ac14ef74-7bdb-4d25-d6a4-b812e28f53e3"
      },
      "execution_count": 60,
      "outputs": [
        {
          "output_type": "execute_result",
          "data": {
            "text/plain": [
              "\"{'actor_Name': 'Brad Pitt', 'movie_released_year': 2011, 'genre': 'Thriller', 'language': 'English', 'country': 'USA'}\""
            ],
            "application/vnd.google.colaboratory.intrinsic+json": {
              "type": "string"
            }
          },
          "metadata": {},
          "execution_count": 60
        }
      ]
    },
    {
      "cell_type": "code",
      "source": [
        "response_dict_2 = dictionary_present(debug_response_assistant_1)\n",
        "print(response_dict_2)"
      ],
      "metadata": {
        "colab": {
          "base_uri": "https://localhost:8080/"
        },
        "id": "YX93rXBEk8cN",
        "outputId": "619e106b-d2e5-4af0-a562-01835eeea2c1"
      },
      "execution_count": 61,
      "outputs": [
        {
          "output_type": "stream",
          "name": "stdout",
          "text": [
            "{'actor_Name': 'Brad Pitt', 'movie_released_year': 2011, 'genre': 'Thriller', 'language': 'English', 'country': 'USA'}\n"
          ]
        }
      ]
    },
    {
      "cell_type": "code",
      "source": [
        "check_intent_2 = intent_confirmation_layer(debug_response_assistant_1)\n",
        "check_intent_2"
      ],
      "metadata": {
        "colab": {
          "base_uri": "https://localhost:8080/"
        },
        "id": "zxcWOl2rlCIn",
        "outputId": "ffb28d2e-c960-45c0-97f9-d9b43acd18ee"
      },
      "execution_count": 62,
      "outputs": [
        {
          "output_type": "execute_result",
          "data": {
            "text/plain": [
              "{'result': 'Yes'}"
            ]
          },
          "metadata": {},
          "execution_count": 62
        }
      ]
    },
    {
      "cell_type": "code",
      "source": [
        "response_dict_2['actor_Name']"
      ],
      "metadata": {
        "colab": {
          "base_uri": "https://localhost:8080/",
          "height": 36
        },
        "id": "WwnzCoirlHNo",
        "outputId": "7ff440b6-c42a-4023-b258-ca3d056242bf"
      },
      "execution_count": 63,
      "outputs": [
        {
          "output_type": "execute_result",
          "data": {
            "text/plain": [
              "'Brad Pitt'"
            ],
            "application/vnd.google.colaboratory.intrinsic+json": {
              "type": "string"
            }
          },
          "metadata": {},
          "execution_count": 63
        }
      ]
    },
    {
      "cell_type": "code",
      "source": [
        "movies_details.columns"
      ],
      "metadata": {
        "colab": {
          "base_uri": "https://localhost:8080/"
        },
        "id": "-UA9RSbhlsMA",
        "outputId": "b8d8b504-0981-4fd0-ebe8-b290162b2cb8"
      },
      "execution_count": 64,
      "outputs": [
        {
          "output_type": "execute_result",
          "data": {
            "text/plain": [
              "Index(['director_name', 'genres', 'actor_name', 'title_year', 'imdb_score',\n",
              "       'movie_title', 'language', 'country'],\n",
              "      dtype='object')"
            ]
          },
          "metadata": {},
          "execution_count": 64
        }
      ]
    },
    {
      "cell_type": "markdown",
      "source": [
        "## Stage 2"
      ],
      "metadata": {
        "id": "18JhENpdaEC5"
      }
    },
    {
      "cell_type": "markdown",
      "source": [
        "### Implementing the Filter Movies and Movies Extraction Layers\n",
        "\n",
        "In this section, we take in the output of the previous layers, i.e. the user requirements, which is in the format of a Python dictionary.\n",
        "<br>\n",
        "Next we will extract the movies recommendations based on user's requirements.\n",
        "\n"
      ],
      "metadata": {
        "id": "Xvj4yX9SaLw7"
      }
    },
    {
      "cell_type": "markdown",
      "source": [
        "#### filter_movies :\n",
        "This function will take the movies data frame and a movie_dict as input which is nothing but list of user requirements in the form of json dictionary , which will be used to extract movies which matches the movie_dict values and return a Dataframe as output."
      ],
      "metadata": {
        "id": "zKSGl12YaZ7G"
      }
    },
    {
      "cell_type": "code",
      "source": [
        "\n",
        "\n",
        "def filter_movies(df, movie_dict):\n",
        "  \"\"\"\n",
        "  Filters the movies_details DataFrame based on the values in the movie_dict.\n",
        "\n",
        "  Args:\n",
        "    df: The pandas DataFrame containing movie details.\n",
        "    movie_dict: A dictionary with movie criteria (actor_Name, movie_released_year,\n",
        "                genre, language, country).\n",
        "\n",
        "  Returns:\n",
        "    A pandas DataFrame containing the rows that match the criteria.\n",
        "  \"\"\"\n",
        "  filtered_df = df.copy()\n",
        "\n",
        "  if movie_dict.get('actor_Name') and movie_dict['actor_Name'] != '_':\n",
        "    filtered_df = filtered_df[filtered_df['actor_name'].str.contains(movie_dict['actor_Name'], case=False, na=False)]\n",
        "\n",
        "  if movie_dict.get('movie_released_year') and movie_dict['movie_released_year'] != '_':\n",
        "    try:\n",
        "      year = int(movie_dict['movie_released_year'])\n",
        "      filtered_df = filtered_df[filtered_df['title_year'] == year]\n",
        "    except ValueError:\n",
        "      pass # Handle cases where the year is not a valid integer\n",
        "\n",
        "  if movie_dict.get('genre') and movie_dict['genre'] != '_' and movie_dict['genre'].lower() != 'any':\n",
        "    genres = [g.strip() for g in movie_dict['genre'].split(',')]\n",
        "    # Check if any of the genres in the list are present in the 'genres' column\n",
        "    filtered_df = filtered_df[filtered_df['genres'].apply(lambda x: any(g in x for g in genres))]\n",
        "\n",
        "  if movie_dict.get('language') and movie_dict['language'] != '_' and movie_dict['language'].lower() != 'any':\n",
        "    filtered_df = filtered_df[filtered_df['language'].str.contains(movie_dict['language'], case=False, na=False)]\n",
        "\n",
        "  if movie_dict.get('country') and movie_dict['country'] != '_' and movie_dict['country'].lower() != 'any':\n",
        "    filtered_df = filtered_df[filtered_df['country'].str.contains(movie_dict['country'], case=False, na=False)]\n",
        "\n",
        "  return filtered_df\n",
        "\n",
        "# Example usage with response_dict_2:\n",
        "filtered_movies = filter_movies(movies_details, response_dict_n)\n",
        "filtered_movies"
      ],
      "metadata": {
        "colab": {
          "base_uri": "https://localhost:8080/",
          "height": 89
        },
        "id": "PO1-eyT4l1zo",
        "outputId": "2b235b0e-6954-472d-f68f-7853107f0cd5"
      },
      "execution_count": 153,
      "outputs": [
        {
          "output_type": "execute_result",
          "data": {
            "text/plain": [
              "   director_name                   genres  actor_name  title_year  imdb_score  \\\n",
              "75    Doug Liman  Action|Adventure|Sci-Fi  Tom Cruise        2014         7.9   \n",
              "\n",
              "          movie_title language country  \n",
              "75  Edge of Tomorrow   English     USA  "
            ],
            "text/html": [
              "\n",
              "  <div id=\"df-d6300d89-7c36-41c9-a315-2abf48d95d45\" class=\"colab-df-container\">\n",
              "    <div>\n",
              "<style scoped>\n",
              "    .dataframe tbody tr th:only-of-type {\n",
              "        vertical-align: middle;\n",
              "    }\n",
              "\n",
              "    .dataframe tbody tr th {\n",
              "        vertical-align: top;\n",
              "    }\n",
              "\n",
              "    .dataframe thead th {\n",
              "        text-align: right;\n",
              "    }\n",
              "</style>\n",
              "<table border=\"1\" class=\"dataframe\">\n",
              "  <thead>\n",
              "    <tr style=\"text-align: right;\">\n",
              "      <th></th>\n",
              "      <th>director_name</th>\n",
              "      <th>genres</th>\n",
              "      <th>actor_name</th>\n",
              "      <th>title_year</th>\n",
              "      <th>imdb_score</th>\n",
              "      <th>movie_title</th>\n",
              "      <th>language</th>\n",
              "      <th>country</th>\n",
              "    </tr>\n",
              "  </thead>\n",
              "  <tbody>\n",
              "    <tr>\n",
              "      <th>75</th>\n",
              "      <td>Doug Liman</td>\n",
              "      <td>Action|Adventure|Sci-Fi</td>\n",
              "      <td>Tom Cruise</td>\n",
              "      <td>2014</td>\n",
              "      <td>7.9</td>\n",
              "      <td>Edge of Tomorrow</td>\n",
              "      <td>English</td>\n",
              "      <td>USA</td>\n",
              "    </tr>\n",
              "  </tbody>\n",
              "</table>\n",
              "</div>\n",
              "    <div class=\"colab-df-buttons\">\n",
              "\n",
              "  <div class=\"colab-df-container\">\n",
              "    <button class=\"colab-df-convert\" onclick=\"convertToInteractive('df-d6300d89-7c36-41c9-a315-2abf48d95d45')\"\n",
              "            title=\"Convert this dataframe to an interactive table.\"\n",
              "            style=\"display:none;\">\n",
              "\n",
              "  <svg xmlns=\"http://www.w3.org/2000/svg\" height=\"24px\" viewBox=\"0 -960 960 960\">\n",
              "    <path d=\"M120-120v-720h720v720H120Zm60-500h600v-160H180v160Zm220 220h160v-160H400v160Zm0 220h160v-160H400v160ZM180-400h160v-160H180v160Zm440 0h160v-160H620v160ZM180-180h160v-160H180v160Zm440 0h160v-160H620v160Z\"/>\n",
              "  </svg>\n",
              "    </button>\n",
              "\n",
              "  <style>\n",
              "    .colab-df-container {\n",
              "      display:flex;\n",
              "      gap: 12px;\n",
              "    }\n",
              "\n",
              "    .colab-df-convert {\n",
              "      background-color: #E8F0FE;\n",
              "      border: none;\n",
              "      border-radius: 50%;\n",
              "      cursor: pointer;\n",
              "      display: none;\n",
              "      fill: #1967D2;\n",
              "      height: 32px;\n",
              "      padding: 0 0 0 0;\n",
              "      width: 32px;\n",
              "    }\n",
              "\n",
              "    .colab-df-convert:hover {\n",
              "      background-color: #E2EBFA;\n",
              "      box-shadow: 0px 1px 2px rgba(60, 64, 67, 0.3), 0px 1px 3px 1px rgba(60, 64, 67, 0.15);\n",
              "      fill: #174EA6;\n",
              "    }\n",
              "\n",
              "    .colab-df-buttons div {\n",
              "      margin-bottom: 4px;\n",
              "    }\n",
              "\n",
              "    [theme=dark] .colab-df-convert {\n",
              "      background-color: #3B4455;\n",
              "      fill: #D2E3FC;\n",
              "    }\n",
              "\n",
              "    [theme=dark] .colab-df-convert:hover {\n",
              "      background-color: #434B5C;\n",
              "      box-shadow: 0px 1px 3px 1px rgba(0, 0, 0, 0.15);\n",
              "      filter: drop-shadow(0px 1px 2px rgba(0, 0, 0, 0.3));\n",
              "      fill: #FFFFFF;\n",
              "    }\n",
              "  </style>\n",
              "\n",
              "    <script>\n",
              "      const buttonEl =\n",
              "        document.querySelector('#df-d6300d89-7c36-41c9-a315-2abf48d95d45 button.colab-df-convert');\n",
              "      buttonEl.style.display =\n",
              "        google.colab.kernel.accessAllowed ? 'block' : 'none';\n",
              "\n",
              "      async function convertToInteractive(key) {\n",
              "        const element = document.querySelector('#df-d6300d89-7c36-41c9-a315-2abf48d95d45');\n",
              "        const dataTable =\n",
              "          await google.colab.kernel.invokeFunction('convertToInteractive',\n",
              "                                                    [key], {});\n",
              "        if (!dataTable) return;\n",
              "\n",
              "        const docLinkHtml = 'Like what you see? Visit the ' +\n",
              "          '<a target=\"_blank\" href=https://colab.research.google.com/notebooks/data_table.ipynb>data table notebook</a>'\n",
              "          + ' to learn more about interactive tables.';\n",
              "        element.innerHTML = '';\n",
              "        dataTable['output_type'] = 'display_data';\n",
              "        await google.colab.output.renderOutput(dataTable, element);\n",
              "        const docLink = document.createElement('div');\n",
              "        docLink.innerHTML = docLinkHtml;\n",
              "        element.appendChild(docLink);\n",
              "      }\n",
              "    </script>\n",
              "  </div>\n",
              "\n",
              "\n",
              "  <div id=\"id_095807c5-b9b2-4d96-b40e-a1742fe921da\">\n",
              "    <style>\n",
              "      .colab-df-generate {\n",
              "        background-color: #E8F0FE;\n",
              "        border: none;\n",
              "        border-radius: 50%;\n",
              "        cursor: pointer;\n",
              "        display: none;\n",
              "        fill: #1967D2;\n",
              "        height: 32px;\n",
              "        padding: 0 0 0 0;\n",
              "        width: 32px;\n",
              "      }\n",
              "\n",
              "      .colab-df-generate:hover {\n",
              "        background-color: #E2EBFA;\n",
              "        box-shadow: 0px 1px 2px rgba(60, 64, 67, 0.3), 0px 1px 3px 1px rgba(60, 64, 67, 0.15);\n",
              "        fill: #174EA6;\n",
              "      }\n",
              "\n",
              "      [theme=dark] .colab-df-generate {\n",
              "        background-color: #3B4455;\n",
              "        fill: #D2E3FC;\n",
              "      }\n",
              "\n",
              "      [theme=dark] .colab-df-generate:hover {\n",
              "        background-color: #434B5C;\n",
              "        box-shadow: 0px 1px 3px 1px rgba(0, 0, 0, 0.15);\n",
              "        filter: drop-shadow(0px 1px 2px rgba(0, 0, 0, 0.3));\n",
              "        fill: #FFFFFF;\n",
              "      }\n",
              "    </style>\n",
              "    <button class=\"colab-df-generate\" onclick=\"generateWithVariable('filtered_movies')\"\n",
              "            title=\"Generate code using this dataframe.\"\n",
              "            style=\"display:none;\">\n",
              "\n",
              "  <svg xmlns=\"http://www.w3.org/2000/svg\" height=\"24px\"viewBox=\"0 0 24 24\"\n",
              "       width=\"24px\">\n",
              "    <path d=\"M7,19H8.4L18.45,9,17,7.55,7,17.6ZM5,21V16.75L18.45,3.32a2,2,0,0,1,2.83,0l1.4,1.43a1.91,1.91,0,0,1,.58,1.4,1.91,1.91,0,0,1-.58,1.4L9.25,21ZM18.45,9,17,7.55Zm-12,3A5.31,5.31,0,0,0,4.9,8.1,5.31,5.31,0,0,0,1,6.5,5.31,5.31,0,0,0,4.9,4.9,5.31,5.31,0,0,0,6.5,1,5.31,5.31,0,0,0,8.1,4.9,5.31,5.31,0,0,0,12,6.5,5.46,5.46,0,0,0,6.5,12Z\"/>\n",
              "  </svg>\n",
              "    </button>\n",
              "    <script>\n",
              "      (() => {\n",
              "      const buttonEl =\n",
              "        document.querySelector('#id_095807c5-b9b2-4d96-b40e-a1742fe921da button.colab-df-generate');\n",
              "      buttonEl.style.display =\n",
              "        google.colab.kernel.accessAllowed ? 'block' : 'none';\n",
              "\n",
              "      buttonEl.onclick = () => {\n",
              "        google.colab.notebook.generateWithVariable('filtered_movies');\n",
              "      }\n",
              "      })();\n",
              "    </script>\n",
              "  </div>\n",
              "\n",
              "    </div>\n",
              "  </div>\n"
            ],
            "application/vnd.google.colaboratory.intrinsic+json": {
              "type": "dataframe",
              "variable_name": "filtered_movies",
              "summary": "{\n  \"name\": \"filtered_movies\",\n  \"rows\": 1,\n  \"fields\": [\n    {\n      \"column\": \"director_name\",\n      \"properties\": {\n        \"dtype\": \"string\",\n        \"num_unique_values\": 1,\n        \"samples\": [\n          \"Doug Liman\"\n        ],\n        \"semantic_type\": \"\",\n        \"description\": \"\"\n      }\n    },\n    {\n      \"column\": \"genres\",\n      \"properties\": {\n        \"dtype\": \"string\",\n        \"num_unique_values\": 1,\n        \"samples\": [\n          \"Action|Adventure|Sci-Fi\"\n        ],\n        \"semantic_type\": \"\",\n        \"description\": \"\"\n      }\n    },\n    {\n      \"column\": \"actor_name\",\n      \"properties\": {\n        \"dtype\": \"string\",\n        \"num_unique_values\": 1,\n        \"samples\": [\n          \"Tom Cruise\"\n        ],\n        \"semantic_type\": \"\",\n        \"description\": \"\"\n      }\n    },\n    {\n      \"column\": \"title_year\",\n      \"properties\": {\n        \"dtype\": \"number\",\n        \"std\": null,\n        \"min\": 2014,\n        \"max\": 2014,\n        \"num_unique_values\": 1,\n        \"samples\": [\n          2014\n        ],\n        \"semantic_type\": \"\",\n        \"description\": \"\"\n      }\n    },\n    {\n      \"column\": \"imdb_score\",\n      \"properties\": {\n        \"dtype\": \"number\",\n        \"std\": null,\n        \"min\": 7.9,\n        \"max\": 7.9,\n        \"num_unique_values\": 1,\n        \"samples\": [\n          7.9\n        ],\n        \"semantic_type\": \"\",\n        \"description\": \"\"\n      }\n    },\n    {\n      \"column\": \"movie_title\",\n      \"properties\": {\n        \"dtype\": \"string\",\n        \"num_unique_values\": 1,\n        \"samples\": [\n          \"Edge of Tomorrow\\u00a0\"\n        ],\n        \"semantic_type\": \"\",\n        \"description\": \"\"\n      }\n    },\n    {\n      \"column\": \"language\",\n      \"properties\": {\n        \"dtype\": \"string\",\n        \"num_unique_values\": 1,\n        \"samples\": [\n          \"English\"\n        ],\n        \"semantic_type\": \"\",\n        \"description\": \"\"\n      }\n    },\n    {\n      \"column\": \"country\",\n      \"properties\": {\n        \"dtype\": \"string\",\n        \"num_unique_values\": 1,\n        \"samples\": [\n          \"USA\"\n        ],\n        \"semantic_type\": \"\",\n        \"description\": \"\"\n      }\n    }\n  ]\n}"
            }
          },
          "metadata": {},
          "execution_count": 153
        }
      ]
    },
    {
      "cell_type": "markdown",
      "source": [
        "Trying out few more user prompts to check the chat response:"
      ],
      "metadata": {
        "id": "lRNYeOL3fXIa"
      }
    },
    {
      "cell_type": "code",
      "source": [
        "debug_conversation.append({\"role\": \"assistant\", \"content\": \"Ok. Can you provide me some movies of Brad Pitt also of any Drama genre of year 2011 of USA Country made\"})"
      ],
      "metadata": {
        "id": "aMRDVZCJnwb0"
      },
      "execution_count": 67,
      "outputs": []
    },
    {
      "cell_type": "code",
      "source": [
        "debug_response_assistant_2 = get_chat_completions(debug_conversation)"
      ],
      "metadata": {
        "id": "9S3s7dxJovSz"
      },
      "execution_count": 68,
      "outputs": []
    },
    {
      "cell_type": "code",
      "source": [
        "debug_response_assistant_2"
      ],
      "metadata": {
        "colab": {
          "base_uri": "https://localhost:8080/",
          "height": 36
        },
        "id": "yxghLNFwpLnP",
        "outputId": "9f73879f-57d3-4208-d8d0-ff38405d046c"
      },
      "execution_count": 69,
      "outputs": [
        {
          "output_type": "execute_result",
          "data": {
            "text/plain": [
              "\"{'actor_Name': 'Brad Pitt', 'movie_released_year': 2011, 'genre': 'Drama', 'language': 'any', 'country': 'USA'}\""
            ],
            "application/vnd.google.colaboratory.intrinsic+json": {
              "type": "string"
            }
          },
          "metadata": {},
          "execution_count": 69
        }
      ]
    },
    {
      "cell_type": "code",
      "source": [
        "response_dict_3 = dictionary_present(debug_response_assistant_2)\n",
        "print(response_dict_3)"
      ],
      "metadata": {
        "colab": {
          "base_uri": "https://localhost:8080/"
        },
        "id": "v4OXeGpwpMyp",
        "outputId": "7fe26306-bb13-4ccf-93d9-58e52a9ca093"
      },
      "execution_count": 70,
      "outputs": [
        {
          "output_type": "stream",
          "name": "stdout",
          "text": [
            "{'actor_Name': 'Brad Pitt', 'movie_released_year': 2011, 'genre': 'Drama', 'language': 'any', 'country': 'USA'}\n"
          ]
        }
      ]
    },
    {
      "cell_type": "code",
      "source": [
        "filtered_movies = filter_movies(movies_details, response_dict_3)\n",
        "filtered_movies"
      ],
      "metadata": {
        "colab": {
          "base_uri": "https://localhost:8080/",
          "height": 89
        },
        "id": "lgNR90zDpT2y",
        "outputId": "d5716d55-b9a2-4d91-bbdc-249944ee83bf"
      },
      "execution_count": 72,
      "outputs": [
        {
          "output_type": "execute_result",
          "data": {
            "text/plain": [
              "        director_name         genres actor_name  title_year  imdb_score  \\\n",
              "1490  Terrence Malick  Drama|Fantasy  Brad Pitt        2011         6.7   \n",
              "\n",
              "            movie_title language country  \n",
              "1490  The Tree of Life   English     USA  "
            ],
            "text/html": [
              "\n",
              "  <div id=\"df-b6a4e806-0649-4048-a001-14716b1b88a8\" class=\"colab-df-container\">\n",
              "    <div>\n",
              "<style scoped>\n",
              "    .dataframe tbody tr th:only-of-type {\n",
              "        vertical-align: middle;\n",
              "    }\n",
              "\n",
              "    .dataframe tbody tr th {\n",
              "        vertical-align: top;\n",
              "    }\n",
              "\n",
              "    .dataframe thead th {\n",
              "        text-align: right;\n",
              "    }\n",
              "</style>\n",
              "<table border=\"1\" class=\"dataframe\">\n",
              "  <thead>\n",
              "    <tr style=\"text-align: right;\">\n",
              "      <th></th>\n",
              "      <th>director_name</th>\n",
              "      <th>genres</th>\n",
              "      <th>actor_name</th>\n",
              "      <th>title_year</th>\n",
              "      <th>imdb_score</th>\n",
              "      <th>movie_title</th>\n",
              "      <th>language</th>\n",
              "      <th>country</th>\n",
              "    </tr>\n",
              "  </thead>\n",
              "  <tbody>\n",
              "    <tr>\n",
              "      <th>1490</th>\n",
              "      <td>Terrence Malick</td>\n",
              "      <td>Drama|Fantasy</td>\n",
              "      <td>Brad Pitt</td>\n",
              "      <td>2011</td>\n",
              "      <td>6.7</td>\n",
              "      <td>The Tree of Life</td>\n",
              "      <td>English</td>\n",
              "      <td>USA</td>\n",
              "    </tr>\n",
              "  </tbody>\n",
              "</table>\n",
              "</div>\n",
              "    <div class=\"colab-df-buttons\">\n",
              "\n",
              "  <div class=\"colab-df-container\">\n",
              "    <button class=\"colab-df-convert\" onclick=\"convertToInteractive('df-b6a4e806-0649-4048-a001-14716b1b88a8')\"\n",
              "            title=\"Convert this dataframe to an interactive table.\"\n",
              "            style=\"display:none;\">\n",
              "\n",
              "  <svg xmlns=\"http://www.w3.org/2000/svg\" height=\"24px\" viewBox=\"0 -960 960 960\">\n",
              "    <path d=\"M120-120v-720h720v720H120Zm60-500h600v-160H180v160Zm220 220h160v-160H400v160Zm0 220h160v-160H400v160ZM180-400h160v-160H180v160Zm440 0h160v-160H620v160ZM180-180h160v-160H180v160Zm440 0h160v-160H620v160Z\"/>\n",
              "  </svg>\n",
              "    </button>\n",
              "\n",
              "  <style>\n",
              "    .colab-df-container {\n",
              "      display:flex;\n",
              "      gap: 12px;\n",
              "    }\n",
              "\n",
              "    .colab-df-convert {\n",
              "      background-color: #E8F0FE;\n",
              "      border: none;\n",
              "      border-radius: 50%;\n",
              "      cursor: pointer;\n",
              "      display: none;\n",
              "      fill: #1967D2;\n",
              "      height: 32px;\n",
              "      padding: 0 0 0 0;\n",
              "      width: 32px;\n",
              "    }\n",
              "\n",
              "    .colab-df-convert:hover {\n",
              "      background-color: #E2EBFA;\n",
              "      box-shadow: 0px 1px 2px rgba(60, 64, 67, 0.3), 0px 1px 3px 1px rgba(60, 64, 67, 0.15);\n",
              "      fill: #174EA6;\n",
              "    }\n",
              "\n",
              "    .colab-df-buttons div {\n",
              "      margin-bottom: 4px;\n",
              "    }\n",
              "\n",
              "    [theme=dark] .colab-df-convert {\n",
              "      background-color: #3B4455;\n",
              "      fill: #D2E3FC;\n",
              "    }\n",
              "\n",
              "    [theme=dark] .colab-df-convert:hover {\n",
              "      background-color: #434B5C;\n",
              "      box-shadow: 0px 1px 3px 1px rgba(0, 0, 0, 0.15);\n",
              "      filter: drop-shadow(0px 1px 2px rgba(0, 0, 0, 0.3));\n",
              "      fill: #FFFFFF;\n",
              "    }\n",
              "  </style>\n",
              "\n",
              "    <script>\n",
              "      const buttonEl =\n",
              "        document.querySelector('#df-b6a4e806-0649-4048-a001-14716b1b88a8 button.colab-df-convert');\n",
              "      buttonEl.style.display =\n",
              "        google.colab.kernel.accessAllowed ? 'block' : 'none';\n",
              "\n",
              "      async function convertToInteractive(key) {\n",
              "        const element = document.querySelector('#df-b6a4e806-0649-4048-a001-14716b1b88a8');\n",
              "        const dataTable =\n",
              "          await google.colab.kernel.invokeFunction('convertToInteractive',\n",
              "                                                    [key], {});\n",
              "        if (!dataTable) return;\n",
              "\n",
              "        const docLinkHtml = 'Like what you see? Visit the ' +\n",
              "          '<a target=\"_blank\" href=https://colab.research.google.com/notebooks/data_table.ipynb>data table notebook</a>'\n",
              "          + ' to learn more about interactive tables.';\n",
              "        element.innerHTML = '';\n",
              "        dataTable['output_type'] = 'display_data';\n",
              "        await google.colab.output.renderOutput(dataTable, element);\n",
              "        const docLink = document.createElement('div');\n",
              "        docLink.innerHTML = docLinkHtml;\n",
              "        element.appendChild(docLink);\n",
              "      }\n",
              "    </script>\n",
              "  </div>\n",
              "\n",
              "\n",
              "  <div id=\"id_dfe123a7-d866-4334-8274-43bffd3c0d85\">\n",
              "    <style>\n",
              "      .colab-df-generate {\n",
              "        background-color: #E8F0FE;\n",
              "        border: none;\n",
              "        border-radius: 50%;\n",
              "        cursor: pointer;\n",
              "        display: none;\n",
              "        fill: #1967D2;\n",
              "        height: 32px;\n",
              "        padding: 0 0 0 0;\n",
              "        width: 32px;\n",
              "      }\n",
              "\n",
              "      .colab-df-generate:hover {\n",
              "        background-color: #E2EBFA;\n",
              "        box-shadow: 0px 1px 2px rgba(60, 64, 67, 0.3), 0px 1px 3px 1px rgba(60, 64, 67, 0.15);\n",
              "        fill: #174EA6;\n",
              "      }\n",
              "\n",
              "      [theme=dark] .colab-df-generate {\n",
              "        background-color: #3B4455;\n",
              "        fill: #D2E3FC;\n",
              "      }\n",
              "\n",
              "      [theme=dark] .colab-df-generate:hover {\n",
              "        background-color: #434B5C;\n",
              "        box-shadow: 0px 1px 3px 1px rgba(0, 0, 0, 0.15);\n",
              "        filter: drop-shadow(0px 1px 2px rgba(0, 0, 0, 0.3));\n",
              "        fill: #FFFFFF;\n",
              "      }\n",
              "    </style>\n",
              "    <button class=\"colab-df-generate\" onclick=\"generateWithVariable('filtered_movies')\"\n",
              "            title=\"Generate code using this dataframe.\"\n",
              "            style=\"display:none;\">\n",
              "\n",
              "  <svg xmlns=\"http://www.w3.org/2000/svg\" height=\"24px\"viewBox=\"0 0 24 24\"\n",
              "       width=\"24px\">\n",
              "    <path d=\"M7,19H8.4L18.45,9,17,7.55,7,17.6ZM5,21V16.75L18.45,3.32a2,2,0,0,1,2.83,0l1.4,1.43a1.91,1.91,0,0,1,.58,1.4,1.91,1.91,0,0,1-.58,1.4L9.25,21ZM18.45,9,17,7.55Zm-12,3A5.31,5.31,0,0,0,4.9,8.1,5.31,5.31,0,0,0,1,6.5,5.31,5.31,0,0,0,4.9,4.9,5.31,5.31,0,0,0,6.5,1,5.31,5.31,0,0,0,8.1,4.9,5.31,5.31,0,0,0,12,6.5,5.46,5.46,0,0,0,6.5,12Z\"/>\n",
              "  </svg>\n",
              "    </button>\n",
              "    <script>\n",
              "      (() => {\n",
              "      const buttonEl =\n",
              "        document.querySelector('#id_dfe123a7-d866-4334-8274-43bffd3c0d85 button.colab-df-generate');\n",
              "      buttonEl.style.display =\n",
              "        google.colab.kernel.accessAllowed ? 'block' : 'none';\n",
              "\n",
              "      buttonEl.onclick = () => {\n",
              "        google.colab.notebook.generateWithVariable('filtered_movies');\n",
              "      }\n",
              "      })();\n",
              "    </script>\n",
              "  </div>\n",
              "\n",
              "    </div>\n",
              "  </div>\n"
            ],
            "application/vnd.google.colaboratory.intrinsic+json": {
              "type": "dataframe",
              "variable_name": "filtered_movies",
              "summary": "{\n  \"name\": \"filtered_movies\",\n  \"rows\": 1,\n  \"fields\": [\n    {\n      \"column\": \"director_name\",\n      \"properties\": {\n        \"dtype\": \"string\",\n        \"num_unique_values\": 1,\n        \"samples\": [\n          \"Terrence Malick\"\n        ],\n        \"semantic_type\": \"\",\n        \"description\": \"\"\n      }\n    },\n    {\n      \"column\": \"genres\",\n      \"properties\": {\n        \"dtype\": \"string\",\n        \"num_unique_values\": 1,\n        \"samples\": [\n          \"Drama|Fantasy\"\n        ],\n        \"semantic_type\": \"\",\n        \"description\": \"\"\n      }\n    },\n    {\n      \"column\": \"actor_name\",\n      \"properties\": {\n        \"dtype\": \"string\",\n        \"num_unique_values\": 1,\n        \"samples\": [\n          \"Brad Pitt\"\n        ],\n        \"semantic_type\": \"\",\n        \"description\": \"\"\n      }\n    },\n    {\n      \"column\": \"title_year\",\n      \"properties\": {\n        \"dtype\": \"number\",\n        \"std\": null,\n        \"min\": 2011,\n        \"max\": 2011,\n        \"num_unique_values\": 1,\n        \"samples\": [\n          2011\n        ],\n        \"semantic_type\": \"\",\n        \"description\": \"\"\n      }\n    },\n    {\n      \"column\": \"imdb_score\",\n      \"properties\": {\n        \"dtype\": \"number\",\n        \"std\": null,\n        \"min\": 6.7,\n        \"max\": 6.7,\n        \"num_unique_values\": 1,\n        \"samples\": [\n          6.7\n        ],\n        \"semantic_type\": \"\",\n        \"description\": \"\"\n      }\n    },\n    {\n      \"column\": \"movie_title\",\n      \"properties\": {\n        \"dtype\": \"string\",\n        \"num_unique_values\": 1,\n        \"samples\": [\n          \"The Tree of Life\\u00a0\"\n        ],\n        \"semantic_type\": \"\",\n        \"description\": \"\"\n      }\n    },\n    {\n      \"column\": \"language\",\n      \"properties\": {\n        \"dtype\": \"string\",\n        \"num_unique_values\": 1,\n        \"samples\": [\n          \"English\"\n        ],\n        \"semantic_type\": \"\",\n        \"description\": \"\"\n      }\n    },\n    {\n      \"column\": \"country\",\n      \"properties\": {\n        \"dtype\": \"string\",\n        \"num_unique_values\": 1,\n        \"samples\": [\n          \"USA\"\n        ],\n        \"semantic_type\": \"\",\n        \"description\": \"\"\n      }\n    }\n  ]\n}"
            }
          },
          "metadata": {},
          "execution_count": 72
        }
      ]
    },
    {
      "cell_type": "markdown",
      "source": [
        "Movies Extraction List :"
      ],
      "metadata": {
        "id": "lGkL9cwRfehg"
      }
    },
    {
      "cell_type": "markdown",
      "source": [
        "`get_movie_titles` : This function will return the list of movie titles it will accept a Dataframe as input."
      ],
      "metadata": {
        "id": "7y89KjZofiD-"
      }
    },
    {
      "cell_type": "code",
      "source": [
        "# prompt: write a function which takes a dataframe and returns a listof  movie_title from dataframe\n",
        "\n",
        "def get_movie_titles(df):\n",
        "  \"\"\"\n",
        "  Extracts the movie titles from a pandas DataFrame.\n",
        "\n",
        "  Args:\n",
        "    df: The pandas DataFrame containing movie details with a 'movie_title' column.\n",
        "\n",
        "  Returns:\n",
        "    A list of movie titles.\n",
        "  \"\"\"\n",
        "  if 'movie_title' in df.columns:\n",
        "    return df['movie_title'].tolist()\n",
        "  else:\n",
        "    return []\n",
        "\n",
        "\n"
      ],
      "metadata": {
        "id": "xAZM1bCF8QxV"
      },
      "execution_count": 74,
      "outputs": []
    },
    {
      "cell_type": "code",
      "source": [
        "filtered_movies = filtered_movies.applymap(lambda x: x.replace(u'\\xa0', ' ') if isinstance(x, str) else x)"
      ],
      "metadata": {
        "colab": {
          "base_uri": "https://localhost:8080/"
        },
        "id": "cbN2ZG4e8wZA",
        "outputId": "ee864036-73b6-4106-a457-d1a30a3795e1"
      },
      "execution_count": 79,
      "outputs": [
        {
          "output_type": "stream",
          "name": "stderr",
          "text": [
            "/tmp/ipython-input-79-2233552742.py:1: FutureWarning: DataFrame.applymap has been deprecated. Use DataFrame.map instead.\n",
            "  filtered_movies = filtered_movies.applymap(lambda x: x.replace(u'\\xa0', ' ') if isinstance(x, str) else x)\n"
          ]
        }
      ]
    },
    {
      "cell_type": "code",
      "source": [
        "movie_titles = get_movie_titles(filtered_movies)\n",
        "movie_titles"
      ],
      "metadata": {
        "colab": {
          "base_uri": "https://localhost:8080/"
        },
        "id": "2eroftZA9qdH",
        "outputId": "3ff88463-57a3-41cd-d663-b83644c8b900"
      },
      "execution_count": 80,
      "outputs": [
        {
          "output_type": "execute_result",
          "data": {
            "text/plain": [
              "['The Tree of Life ']"
            ]
          },
          "metadata": {},
          "execution_count": 80
        }
      ]
    },
    {
      "cell_type": "code",
      "source": [
        "debug_conversation.append({\"role\": \"user\", \"content\": \"This is the List of movies for your requested requirements\" + str(response_dict_3)})\n",
        "debug_conversation.append({\"role\": \"assistant\", \"content\": movie_titles})"
      ],
      "metadata": {
        "id": "0X-OWAye9s9M"
      },
      "execution_count": 86,
      "outputs": []
    },
    {
      "cell_type": "markdown",
      "source": [
        "Checking the entire Chat:"
      ],
      "metadata": {
        "id": "MJYVhVNJfvoE"
      }
    },
    {
      "cell_type": "code",
      "source": [
        "debug_conversation"
      ],
      "metadata": {
        "colab": {
          "base_uri": "https://localhost:8080/"
        },
        "id": "FFjfr_GJ-Go4",
        "outputId": "df44237b-e1c0-42d8-bdb6-0efe2cee40e6"
      },
      "execution_count": 88,
      "outputs": [
        {
          "output_type": "execute_result",
          "data": {
            "text/plain": [
              "[{'role': 'system',\n",
              "  'content': '\\n    You are an intelligent movie recommender expert and your goal is to provide the movies or movies list for the user.\\n    You need to ask relevant questions and understand the user profile by analysing the user\\'s responses.\\n    You final objective is to fill the values for the different keys (\\'actor_Name\\',\\'movie_released_year\\',\\'genre\\',\\'language\\',\\'country\\') in the python dictionary and be confident of the values.\\n    These key value pairs define the user\\'s profile.\\n    The python dictionary looks like this\\n    {\\'actor_Name\\': \\'values\\',\\'movie_released_year\\': \\'values\\',\\'genre\\': \\'values\\',\\'language\\': \\'values\\',\\'country\\': \\'values\\'}\\n    The value for \\'movie_released_year\\' should be a numerical value extracted from the user\\'s response.\\n    All the values in the example dictionary are only representative values.\\n    ####\\n    Here are some instructions around the values for the different keys. If you do not follow this, you\\'ll be heavily penalised:\\n    - The value for \\'movie_released_year\\' should be a numerical value extracted from the user\\'s response.\\n    - Do not randomly assign values to any of the keys.\\n    - The values need to be inferred from the user\\'s response.\\n    - If the user say any lanaguage movies or any country movies then fill country and language in the dictionary as \\'any\\'.\\n    - If the user gives multiple geners say for example action and horror or more values please set those values in genre field in dictionary with comma separated values.\\n    ####\\n\\n    To fill the dictionary, you need to have the following chain of thoughts:\\n    Follow the chain-of-thoughts below and only output the final updated python dictionary for the keys as described in {\\'actor_Name\\': \\'_\\', \\'movie_released_year\\': \\'_\\', \\'genre\\': \\'_\\', \\'language\\': \\'_\\', \\'country\\': \\'_\\'}. \\n\\n    ####\\n    Thought 1: Ask a question to understand the user\\'s profile and requirements. \\n\\n    If their primary use for the movie recommendation is unclear. Ask followup questions to understand their needs.\\n    You are trying to fill the values of all the keys {\\'actor_Name\\',\\'movie_released_year\\',\\'genre\\',\\'language\\',\\'country\\'} in the python dictionary by understanding the user requirements.\\n    Identify the keys for which you can fill the values confidently using the understanding. \\n\\n    Remember the instructions around the values for the different keys.\\n    If the necessary information has been extracted, only then proceed to the next step. \\n\\n    Otherwise, rephrase the question to capture their profile clearly. \\n\\n\\n    ####\\n    Thought 2: Now, you are trying to fill the values for the rest of the keys which you couldn\\'t in the previous step.\\n    Remember the instructions around the values for the different keys.\\n    Ask questions you might have for all the keys to strengthen your understanding of the user\\'s profile.\\n    If yes, move to the next Thought. If no, ask question on the keys whose values you are unsure of. \\n\\n    It is a good practice to ask question with a sound logic as opposed to directly citing the key you want to understand value for.\\n    ####\\n\\n    ####\\n    Thought 3: Check if you have correctly updated the values for the different keys in the python dictionary.\\n    If you are not confident about any of the values, ask clarifying questions.\\n    ####\\n\\n    ####\\n    Here is a sample conversation between the user and assistant:\\n    User: \"Hi, I am Jack looking for some movie recommendations.\"\\n    Assistant: \"Great! As a Movie Recommender , I can provide you great set of movies , is there any specific genre and actors movies you are looking for?\"\\n    User: \"I am looking for the movies acted by Tom Cruise of action genre\"\\n    Assistant: \"Thank you for providing that information. Tom Cruise has acted in some brilliant movies are you looking for any specific year movies?\"\\n    User: \"Yes, can you suggest some movies of the Year 2014\"\\n    Assistant: \"Thank you for the information. Are you looking for any specific Country movies which Tom worked with ,also any specific lanaguage?\"\\n    User: \"English language is fine with me for any country\"\\n    Assistant:\"Thats great , Let me suggest you some good set of movies of Tom of Action genre of Year 2014 of english lanaguage : {\\'actor_Name\\': \\'Value\\', \\'movie_released_year\\': \\'Value\\', \\'genre\\': \\'Value\\', \\'language\\': \\'Value\\', \\'country\\': \\'Value\\'}\"\\n    ####\\n\\n    Start with a short welcome message and encourage the user to share their requirements.\\n    '},\n",
              " {'role': 'user',\n",
              "  'content': 'Hi, I am John. I am looking for some movie recommendations or suggestions, can you help me with that?'},\n",
              " {'role': 'assistant',\n",
              "  'content': 'Great! As a Movie Recommender, I can definitely help you with movie recommendations. To provide you with the best recommendations, could you please specify any particular genre or actor you are interested in?'},\n",
              " {'role': 'assistant',\n",
              "  'content': 'Yes, I am looking for movies of Tom Cruise of Action genre of Year 2014 of english lanaguage of country USA'},\n",
              " {'role': 'assistant',\n",
              "  'content': \"{'actor_Name': 'Tom Cruise', 'movie_released_year': 2014, 'genre': 'Action', 'language': 'English', 'country': 'USA'}\"},\n",
              " {'role': 'assistant',\n",
              "  'content': 'Ok. Can you provide me some movies of Brad Pitt also of any Thriller genre of year 2011 of USA Country made'},\n",
              " {'role': 'assistant', 'content': 'Ok. English language is my Prefrence'},\n",
              " {'role': 'assistant',\n",
              "  'content': 'Ok. Can you provide me some movies of Brad Pitt also of any Drama genre of year 2011 of USA Country made'},\n",
              " {'role': 'user',\n",
              "  'content': \"This is the List of movies for your requested requirements{'actor_Name': 'Brad Pitt', 'movie_released_year': 2011, 'genre': 'Drama', 'language': 'any', 'country': 'USA'}\"},\n",
              " {'role': 'user',\n",
              "  'content': \"This is the List of movies for your requested requirements{'actor_Name': 'Brad Pitt', 'movie_released_year': 2011, 'genre': 'Drama', 'language': 'any', 'country': 'USA'}\"},\n",
              " {'role': 'assistant', 'content': ['The Tree of Life ']}]"
            ]
          },
          "metadata": {},
          "execution_count": 88
        }
      ]
    },
    {
      "cell_type": "markdown",
      "source": [
        "## Stage 3"
      ],
      "metadata": {
        "id": "snQ5rELlf3aN"
      }
    },
    {
      "cell_type": "markdown",
      "source": [
        "The final Stage which provide the List of movies name in chatty way,with the help of open api prompts"
      ],
      "metadata": {
        "id": "_KD1q9wLf53C"
      }
    },
    {
      "cell_type": "markdown",
      "source": [
        "`provide_movie_suggestions`: This function accepts list of movies and returns a well-define text to the user which contains the list of recommended movies along with some some useful custom message in chatty way."
      ],
      "metadata": {
        "id": "wYQam9TJgBau"
      }
    },
    {
      "cell_type": "code",
      "source": [
        "\n",
        "def provide_movie_suggestions(movie_list):\n",
        "    \"\"\"\n",
        "    Generates a chatty response based on a list of movie titles using OpenAI.\n",
        "\n",
        "    Args:\n",
        "        movie_list: A list of movie titles.\n",
        "\n",
        "    Returns:\n",
        "        A chatty response string.\n",
        "    \"\"\"\n",
        "    if not movie_list:\n",
        "        return \"Hmm, I couldn't find any movies that match your criteria right now. Maybe we can try adjusting some of your preferences?\"\n",
        "\n",
        "    # Construct a prompt for the OpenAI model\n",
        "    prompt = f\"\"\"\n",
        "    You are a friendly and enthusiastic movie recommendation assistant.\n",
        "    The system has provided a list of movie titles based on their preferences.\n",
        "    Generate a chatty and engaging response presenting these movie titles in the list format with proper numbering.\n",
        "    Make sure to list the movies clearly.\n",
        "\n",
        "    Here are the movie titles:\n",
        "    {', '.join(movie_list)}\n",
        "\n",
        "    Keep the tone conversational and encouraging.\n",
        "    \"\"\"\n",
        "\n",
        "    messages = [{\"role\": \"system\", \"content\": \"You are a friendly and enthusiastic movie recommendation assistant.\"}]\n",
        "    messages.append({\"role\": \"user\", \"content\": prompt})\n",
        "\n",
        "    try:\n",
        "        response = openai.chat.completions.create(\n",
        "            model=\"gpt-3.5-turbo\",\n",
        "            messages=messages,\n",
        "            seed=4567,\n",
        "            max_tokens=200,  # Limit the response length\n",
        "            temperature=0.7  # Control the randomness of the response\n",
        "        )\n",
        "        chatty_response = response.choices[0].message.content\n",
        "        return chatty_response\n",
        "    except Exception as e:\n",
        "        print(f\"An error occurred while calling the OpenAI API: {e}\")\n",
        "        return \"I encountered an issue while generating the response. Please try again later.\"\n",
        "\n"
      ],
      "metadata": {
        "id": "wnEwH_fm_uzj"
      },
      "execution_count": 97,
      "outputs": []
    },
    {
      "cell_type": "code",
      "source": [
        "# Example usage with the filtered movie titles:\n",
        "chatty_response = provide_movie_suggestions(movie_titles)\n",
        "print(chatty_response)"
      ],
      "metadata": {
        "colab": {
          "base_uri": "https://localhost:8080/"
        },
        "id": "Z3IgZolp_-Lv",
        "outputId": "18d43a05-ac38-4c0b-f227-649d5b098f37"
      },
      "execution_count": 94,
      "outputs": [
        {
          "output_type": "stream",
          "name": "stdout",
          "text": [
            "Hey there movie buff! 🎬 I've got some fantastic movie titles for you to check out. Here they are:\n",
            "\n",
            "1. The Tree of Life\n",
            "\n",
            "Give these movies a watch and let me know what you think! Enjoy your movie night! 🍿✨\n"
          ]
        }
      ]
    },
    {
      "cell_type": "code",
      "source": [
        "debug_conversation.append({\"role\": \"assistant\", \"content\": chatty_response})"
      ],
      "metadata": {
        "id": "UVqNZB5gAkpv"
      },
      "execution_count": 139,
      "outputs": []
    },
    {
      "cell_type": "markdown",
      "source": [
        "### Running ALL the Stages\n",
        "Stage1 + Stage2 + Stage 3"
      ],
      "metadata": {
        "id": "sdHjEZQrgRi1"
      }
    },
    {
      "cell_type": "code",
      "source": [
        "conversation = ''"
      ],
      "metadata": {
        "id": "l1_4FxmOKwE6"
      },
      "execution_count": 140,
      "outputs": []
    },
    {
      "cell_type": "code",
      "source": [
        "# prompt: write me a function which initiate the chat from the begnining for the user who is looking for movies of brad pitt of year 2001 of crime genere of english language of USA country , and do the moderation check for each request and response and return the final output\n",
        "\n",
        "def initiate_brad_pitt_chat():\n",
        "    \"\"\"\n",
        "    Initiates a chat flow to find Brad Pitt movies from 2001, crime genre, English, USA.\n",
        "    Includes moderation checks for user input and assistant responses.\n",
        "    Returns the final conversation list.\n",
        "    \"\"\"\n",
        "    conversation = ''\n",
        "    conversation = initialize_conversation()\n",
        "    print(conversation)\n",
        "    # User's initial request\n",
        "    user_input_initial = \"Hi, I am John looking for some movie recommendations , can you help me with that?.\"\n",
        "    user_input = \"Hi, I am looking for movies of actor Brad Pitt from the year 2001 of Crime 'genre' of English language of 'any' country.Please provide movies with this info only nothing else\"\n",
        "\n",
        "    # Moderation check for user input\n",
        "    moderation_status = moderation_check(user_input_initial)\n",
        "    if moderation_status == \"Flagged\":\n",
        "        print(\"Your input was flagged by the moderation system. Please try rephrasing your request.\")\n",
        "        return conversation # Stop the conversation if the input is flagged\n",
        "\n",
        "    conversation.append({\"role\": \"user\", \"content\": user_input_initial})\n",
        "    print(f\"User: {user_input_initial}\")\n",
        "\n",
        "    # Get the initial response from the assistant\n",
        "    assistant_response = get_chat_completions(conversation)\n",
        "\n",
        "    # Moderation check for assistant response\n",
        "    moderation_status = moderation_check(assistant_response)\n",
        "    if moderation_status == \"Flagged\":\n",
        "        print(\"The assistant's response was flagged by the moderation system.\")\n",
        "        # Decide how to handle this - maybe try regenerating or end the chat\n",
        "        return conversation\n",
        "\n",
        "    conversation.append({\"role\": \"assistant\", \"content\": assistant_response})\n",
        "    print(f\"Assistant: {assistant_response}\")\n",
        "\n",
        "    conversation.append({\"role\": \"user\", \"content\": user_input})\n",
        "    print(f\"User: {user_input}\")\n",
        "    # Check if the assistant's response contains the structured dictionary\n",
        "    assistant_response = get_chat_completions(conversation)\n",
        "    print(f\"DAta...................{assistant_response}\")\n",
        "    intent_status = intent_confirmation_layer(assistant_response)\n",
        "    print(f\"Intent Confirmation Status: {intent_status}\")\n",
        "\n",
        "    if intent_status.get('result') == 'Yes':\n",
        "        try:\n",
        "            # Extract the dictionary from the assistant's response\n",
        "            movie_dict = dictionary_present(assistant_response)\n",
        "            print(f\"Extracted Movie Dictionary: {movie_dict}\")\n",
        "\n",
        "            # Filter movies based on the extracted dictionary\n",
        "            filtered_movies_df = filter_movies(movies_details, movie_dict)\n",
        "\n",
        "            # Get the movie titles\n",
        "            movie_titles = get_movie_titles(filtered_movies_df)\n",
        "\n",
        "            # Generate a chatty response with the movie titles\n",
        "            final_response = provide_movie_suggestions(movie_titles)\n",
        "\n",
        "            # Moderation check for the final response\n",
        "            moderation_status = moderation_check(final_response)\n",
        "            if moderation_status == \"Flagged\":\n",
        "                print(\"The final response was flagged by the moderation system.\")\n",
        "                return conversation\n",
        "\n",
        "            conversation.append({\"role\": \"assistant\", \"content\": final_response})\n",
        "            print(f\"Assistant: {final_response}\")\n",
        "\n",
        "        except Exception as e:\n",
        "            print(f\"An error occurred during movie processing: {e}\")\n",
        "            conversation.append({\"role\": \"assistant\", \"content\": \"I encountered an error while processing your request.\"})\n",
        "    else:\n",
        "        # If the intent was not confirmed, continue the conversation to refine the request\n",
        "        print(\"Intent not fully confirmed. Continuing the conversation...\")\n",
        "        # You could add more interaction turns here if needed\n",
        "        # For this specific case, since the initial prompt is very specific,\n",
        "        # we assume the assistant should ideally capture the intent directly.\n",
        "        # If it fails, the conversation might need more turns or a different approach.\n",
        "        pass # For this example, we'll stop after one turn if intent isn't confirmed\n",
        "\n",
        "    return conversation\n",
        "\n",
        "# Initiate the chat flow\n",
        "final_conversation = initiate_brad_pitt_chat()\n",
        "print(\"\\n--- Final Conversation ---\")\n",
        "for turn in final_conversation:\n",
        "    print(f\"{turn['role']}: {turn['content']}\")\n",
        "\n"
      ],
      "metadata": {
        "colab": {
          "base_uri": "https://localhost:8080/"
        },
        "id": "cuBYAKq6A27n",
        "outputId": "1364e1f9-8344-4e6e-b6ed-b7601252451f"
      },
      "execution_count": 152,
      "outputs": [
        {
          "output_type": "stream",
          "name": "stdout",
          "text": [
            "[{'role': 'system', 'content': '\\n    You are an intelligent movie recommender expert and your goal is to provide the movies or movies list for the user.\\n    You need to ask relevant questions and understand the user profile by analysing the user\\'s responses.\\n    You final objective is to fill the values for the different keys (\\'actor_Name\\',\\'movie_released_year\\',\\'genre\\',\\'language\\',\\'country\\') in the python dictionary and be confident of the values.\\n    These key value pairs define the user\\'s profile.\\n    The python dictionary looks like this\\n    {\\'actor_Name\\': \\'values\\',\\'movie_released_year\\': \\'values\\',\\'genre\\': \\'values\\',\\'language\\': \\'values\\',\\'country\\': \\'values\\'}\\n    The value for \\'movie_released_year\\' should be a numerical value extracted from the user\\'s response.\\n    All the values in the example dictionary are only representative values.\\n    ####\\n    Here are some instructions around the values for the different keys. If you do not follow this, you\\'ll be heavily penalised:\\n    - The value for \\'movie_released_year\\' should be a numerical value extracted from the user\\'s response.\\n    - Do not randomly assign values to any of the keys.\\n    - The values need to be inferred from the user\\'s response.\\n    - If the user say any lanaguage movies or any country movies then fill country and language in the dictionary as \\'any\\'.\\n    - If the user gives multiple geners say for example action and horror or more values please set those values in genre field in dictionary with comma separated values.\\n    ####\\n\\n    To fill the dictionary, you need to have the following chain of thoughts:\\n    Follow the chain-of-thoughts below and only output the final updated python dictionary for the keys as described in {\\'actor_Name\\': \\'_\\', \\'movie_released_year\\': \\'_\\', \\'genre\\': \\'_\\', \\'language\\': \\'_\\', \\'country\\': \\'_\\'}. \\n\\n    ####\\n    Thought 1: Ask a question to understand the user\\'s profile and requirements. \\n\\n    If their primary use for the movie recommendation is unclear. Ask followup questions to understand their needs.\\n    You are trying to fill the values of all the keys {\\'actor_Name\\',\\'movie_released_year\\',\\'genre\\',\\'language\\',\\'country\\'} in the python dictionary by understanding the user requirements.\\n    Identify the keys for which you can fill the values confidently using the understanding. \\n\\n    Remember the instructions around the values for the different keys.\\n    If the necessary information has been extracted, only then proceed to the next step. \\n\\n    Otherwise, rephrase the question to capture their profile clearly. \\n\\n\\n    ####\\n    Thought 2: Now, you are trying to fill the values for the rest of the keys which you couldn\\'t in the previous step.\\n    Remember the instructions around the values for the different keys.\\n    Ask questions you might have for all the keys to strengthen your understanding of the user\\'s profile.\\n    If yes, move to the next Thought. If no, ask question on the keys whose values you are unsure of. \\n\\n    It is a good practice to ask question with a sound logic as opposed to directly citing the key you want to understand value for.\\n    ####\\n\\n    ####\\n    Thought 3: Check if you have correctly updated the values for the different keys in the python dictionary.\\n    If you are not confident about any of the values, ask clarifying questions.\\n    ####\\n\\n    ####\\n    Here is a sample conversation between the user and assistant:\\n    User: \"Hi, I am Jack looking for some movie recommendations.\"\\n    Assistant: \"Great! As a Movie Recommender , I can provide you great set of movies , is there any specific genre and actors movies you are looking for?\"\\n    User: \"I am looking for the movies acted by Tom Cruise of action genre\"\\n    Assistant: \"Thank you for providing that information. Tom Cruise has acted in some brilliant movies are you looking for any specific year movies?\"\\n    User: \"Yes, can you suggest some movies of the Year 2014\"\\n    Assistant: \"Thank you for the information. Are you looking for any specific Country movies which Tom worked with ,also any specific lanaguage?\"\\n    User: \"English language is fine with me for any country\"\\n    Assistant:\"Thats great , Let me suggest you some good set of movies of Tom of Action genre of Year 2014 of english lanaguage : {\\'actor_Name\\': \\'Value\\', \\'movie_released_year\\': \\'Value\\', \\'genre\\': \\'Value\\', \\'language\\': \\'Value\\', \\'country\\': \\'Value\\'}\"\\n    ####\\n\\n    Start with a short welcome message and encourage the user to share their requirements.\\n    '}]\n",
            "ModerationCreateResponse(id='modr-Bo9i2QytkJ1AE9kBnlViiZeQK2nyZ', model='text-moderation-007', results=[Moderation(categories=Categories(harassment=False, harassment_threatening=False, hate=False, hate_threatening=False, illicit=None, illicit_violent=None, self_harm=False, self_harm_instructions=False, self_harm_intent=False, sexual=False, sexual_minors=False, violence=False, violence_graphic=False, self-harm=False, sexual/minors=False, hate/threatening=False, violence/graphic=False, self-harm/intent=False, self-harm/instructions=False, harassment/threatening=False), category_applied_input_types=None, category_scores=CategoryScores(harassment=4.159269155934453e-05, harassment_threatening=3.1326298994827084e-06, hate=5.6783825129969046e-05, hate_threatening=1.853786557148851e-06, illicit=None, illicit_violent=None, self_harm=5.651636456605047e-05, self_harm_instructions=1.6909017404032056e-06, self_harm_intent=1.3881570339435712e-05, sexual=0.0001487818663008511, sexual_minors=0.00019775798136834055, violence=6.649732677033171e-05, violence_graphic=0.00026122943381778896, self-harm=5.651636456605047e-05, sexual/minors=0.00019775798136834055, hate/threatening=1.853786557148851e-06, violence/graphic=0.00026122943381778896, self-harm/intent=1.3881570339435712e-05, self-harm/instructions=1.6909017404032056e-06, harassment/threatening=3.1326298994827084e-06), flagged=False)])\n",
            "User: Hi, I am John looking for some movie recommendations , can you help me with that?.\n",
            "ModerationCreateResponse(id='modr-Bo9i4KCskgaLq2WOB0xoHLUbELPZZ', model='text-moderation-007', results=[Moderation(categories=Categories(harassment=False, harassment_threatening=False, hate=False, hate_threatening=False, illicit=None, illicit_violent=None, self_harm=False, self_harm_instructions=False, self_harm_intent=False, sexual=False, sexual_minors=False, violence=False, violence_graphic=False, self-harm=False, sexual/minors=False, hate/threatening=False, violence/graphic=False, self-harm/intent=False, self-harm/instructions=False, harassment/threatening=False), category_applied_input_types=None, category_scores=CategoryScores(harassment=1.2690066796494648e-05, harassment_threatening=6.819902864663163e-07, hate=4.182461907475954e-06, hate_threatening=9.431598755327286e-07, illicit=None, illicit_violent=None, self_harm=6.15417320659617e-06, self_harm_instructions=3.642301862782915e-06, self_harm_intent=5.654745564243058e-06, sexual=3.602280412451364e-05, sexual_minors=1.7072354239644483e-05, violence=1.7407906852895394e-05, violence_graphic=0.00025355469551868737, self-harm=6.15417320659617e-06, sexual/minors=1.7072354239644483e-05, hate/threatening=9.431598755327286e-07, violence/graphic=0.00025355469551868737, self-harm/intent=5.654745564243058e-06, self-harm/instructions=3.642301862782915e-06, harassment/threatening=6.819902864663163e-07), flagged=False)])\n",
            "Assistant: Great! As a Movie Recommender, I can provide you with great movie recommendations. To better assist you, could you please let me know if you have any specific genre or actor preferences for the movies you are looking for?\n",
            "User: Hi, I am looking for movies of actor Brad Pitt from the year 2001 of Crime 'genre' of English language of 'any' country.Please provide movies with this info only nothing else\n",
            "DAta...................{'actor_Name': 'Brad Pitt', 'movie_released_year': 2001, 'genre': 'Crime', 'language': 'English', 'country': 'any'}\n",
            "Intent Confirmation Status: {'result': 'Yes'}\n",
            "Extracted Movie Dictionary: {'actor_Name': 'Brad Pitt', 'movie_released_year': 2001, 'genre': 'Crime', 'language': 'English', 'country': 'any'}\n",
            "ModerationCreateResponse(id='modr-Bo9i8NFlbvNyjFxEArvHZZ6fn0aoL', model='text-moderation-007', results=[Moderation(categories=Categories(harassment=False, harassment_threatening=False, hate=False, hate_threatening=False, illicit=None, illicit_violent=None, self_harm=False, self_harm_instructions=False, self_harm_intent=False, sexual=False, sexual_minors=False, violence=False, violence_graphic=False, self-harm=False, sexual/minors=False, hate/threatening=False, violence/graphic=False, self-harm/intent=False, self-harm/instructions=False, harassment/threatening=False), category_applied_input_types=None, category_scores=CategoryScores(harassment=1.1906499821634497e-05, harassment_threatening=5.23375092598144e-07, hate=2.0256113941741205e-07, hate_threatening=1.765959467547873e-07, illicit=None, illicit_violent=None, self_harm=1.3197094528294429e-09, self_harm_instructions=1.2463750032054577e-08, self_harm_intent=1.59234725405355e-09, sexual=4.595462451106869e-05, sexual_minors=8.198276191251352e-06, violence=2.218855297542177e-05, violence_graphic=6.875250983284786e-05, self-harm=1.3197094528294429e-09, sexual/minors=8.198276191251352e-06, hate/threatening=1.765959467547873e-07, violence/graphic=6.875250983284786e-05, self-harm/intent=1.59234725405355e-09, self-harm/instructions=1.2463750032054577e-08, harassment/threatening=5.23375092598144e-07), flagged=False)])\n",
            "Assistant: Hey there! I'm so excited to share some awesome movie recommendations with you. Here are a couple of fantastic titles for your movie night:\n",
            "\n",
            "1. Spy Game\n",
            "2. Ocean's Eleven\n",
            "\n",
            "These movies are both packed with suspense, intrigue, and a touch of humor. I think you're in for a real treat with these choices. Enjoy watching! 🍿🎬\n",
            "\n",
            "--- Final Conversation ---\n",
            "system: \n",
            "    You are an intelligent movie recommender expert and your goal is to provide the movies or movies list for the user.\n",
            "    You need to ask relevant questions and understand the user profile by analysing the user's responses.\n",
            "    You final objective is to fill the values for the different keys ('actor_Name','movie_released_year','genre','language','country') in the python dictionary and be confident of the values.\n",
            "    These key value pairs define the user's profile.\n",
            "    The python dictionary looks like this\n",
            "    {'actor_Name': 'values','movie_released_year': 'values','genre': 'values','language': 'values','country': 'values'}\n",
            "    The value for 'movie_released_year' should be a numerical value extracted from the user's response.\n",
            "    All the values in the example dictionary are only representative values.\n",
            "    ####\n",
            "    Here are some instructions around the values for the different keys. If you do not follow this, you'll be heavily penalised:\n",
            "    - The value for 'movie_released_year' should be a numerical value extracted from the user's response.\n",
            "    - Do not randomly assign values to any of the keys.\n",
            "    - The values need to be inferred from the user's response.\n",
            "    - If the user say any lanaguage movies or any country movies then fill country and language in the dictionary as 'any'.\n",
            "    - If the user gives multiple geners say for example action and horror or more values please set those values in genre field in dictionary with comma separated values.\n",
            "    ####\n",
            "\n",
            "    To fill the dictionary, you need to have the following chain of thoughts:\n",
            "    Follow the chain-of-thoughts below and only output the final updated python dictionary for the keys as described in {'actor_Name': '_', 'movie_released_year': '_', 'genre': '_', 'language': '_', 'country': '_'}. \n",
            "\n",
            "    ####\n",
            "    Thought 1: Ask a question to understand the user's profile and requirements. \n",
            "\n",
            "    If their primary use for the movie recommendation is unclear. Ask followup questions to understand their needs.\n",
            "    You are trying to fill the values of all the keys {'actor_Name','movie_released_year','genre','language','country'} in the python dictionary by understanding the user requirements.\n",
            "    Identify the keys for which you can fill the values confidently using the understanding. \n",
            "\n",
            "    Remember the instructions around the values for the different keys.\n",
            "    If the necessary information has been extracted, only then proceed to the next step. \n",
            "\n",
            "    Otherwise, rephrase the question to capture their profile clearly. \n",
            "\n",
            "\n",
            "    ####\n",
            "    Thought 2: Now, you are trying to fill the values for the rest of the keys which you couldn't in the previous step.\n",
            "    Remember the instructions around the values for the different keys.\n",
            "    Ask questions you might have for all the keys to strengthen your understanding of the user's profile.\n",
            "    If yes, move to the next Thought. If no, ask question on the keys whose values you are unsure of. \n",
            "\n",
            "    It is a good practice to ask question with a sound logic as opposed to directly citing the key you want to understand value for.\n",
            "    ####\n",
            "\n",
            "    ####\n",
            "    Thought 3: Check if you have correctly updated the values for the different keys in the python dictionary.\n",
            "    If you are not confident about any of the values, ask clarifying questions.\n",
            "    ####\n",
            "\n",
            "    ####\n",
            "    Here is a sample conversation between the user and assistant:\n",
            "    User: \"Hi, I am Jack looking for some movie recommendations.\"\n",
            "    Assistant: \"Great! As a Movie Recommender , I can provide you great set of movies , is there any specific genre and actors movies you are looking for?\"\n",
            "    User: \"I am looking for the movies acted by Tom Cruise of action genre\"\n",
            "    Assistant: \"Thank you for providing that information. Tom Cruise has acted in some brilliant movies are you looking for any specific year movies?\"\n",
            "    User: \"Yes, can you suggest some movies of the Year 2014\"\n",
            "    Assistant: \"Thank you for the information. Are you looking for any specific Country movies which Tom worked with ,also any specific lanaguage?\"\n",
            "    User: \"English language is fine with me for any country\"\n",
            "    Assistant:\"Thats great , Let me suggest you some good set of movies of Tom of Action genre of Year 2014 of english lanaguage : {'actor_Name': 'Value', 'movie_released_year': 'Value', 'genre': 'Value', 'language': 'Value', 'country': 'Value'}\"\n",
            "    ####\n",
            "\n",
            "    Start with a short welcome message and encourage the user to share their requirements.\n",
            "    \n",
            "user: Hi, I am John looking for some movie recommendations , can you help me with that?.\n",
            "assistant: Great! As a Movie Recommender, I can provide you with great movie recommendations. To better assist you, could you please let me know if you have any specific genre or actor preferences for the movies you are looking for?\n",
            "user: Hi, I am looking for movies of actor Brad Pitt from the year 2001 of Crime 'genre' of English language of 'any' country.Please provide movies with this info only nothing else\n",
            "assistant: Hey there! I'm so excited to share some awesome movie recommendations with you. Here are a couple of fantastic titles for your movie night:\n",
            "\n",
            "1. Spy Game\n",
            "2. Ocean's Eleven\n",
            "\n",
            "These movies are both packed with suspense, intrigue, and a touch of humor. I think you're in for a real treat with these choices. Enjoy watching! 🍿🎬\n"
          ]
        }
      ]
    },
    {
      "cell_type": "markdown",
      "source": [],
      "metadata": {
        "id": "d8PQKRrUggg1"
      }
    },
    {
      "cell_type": "markdown",
      "source": [
        "########################## END OF NOTEBOOK ################################"
      ],
      "metadata": {
        "id": "qIgoJMAQg76r"
      }
    },
    {
      "cell_type": "code",
      "source": [],
      "metadata": {
        "id": "P5Z1j2ypg0Zs"
      },
      "execution_count": null,
      "outputs": []
    }
  ]
}